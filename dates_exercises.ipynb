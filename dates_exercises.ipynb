{
 "cells": [
  {
   "cell_type": "markdown",
   "id": "cc0a9608",
   "metadata": {},
   "source": [
    "<div style=\"background-color: lightblue; padding: 40px;\">\n",
    "    <h1><b>Working With Time Series in Pandas</b></h1>\n",
    "</div>\n"
   ]
  },
  {
   "cell_type": "code",
   "execution_count": 1,
   "id": "8d7e15ee",
   "metadata": {},
   "outputs": [],
   "source": [
    "import pandas as pd\n",
    "import numpy as np\n",
    "import matplotlib.pyplot as plt\n",
    "import seaborn as sns\n",
    "sns.set()\n",
    "# set figure size\n",
    "plt.rcParams[\"figure.figsize\"] = (8,6)\n",
    "\n",
    "# specify decimal places to display\n",
    "pd.set_option('display.float_format', lambda x: '%.2f' % x)\n",
    "from vega_datasets import data\n",
    "import datetime"
   ]
  },
  {
   "cell_type": "markdown",
   "id": "7869e636",
   "metadata": {},
   "source": [
    "# First Part"
   ]
  },
  {
   "cell_type": "markdown",
   "id": "afa5f2c7",
   "metadata": {},
   "source": [
    "## Seatle Weather"
   ]
  },
  {
   "cell_type": "code",
   "execution_count": 2,
   "id": "30c4b525",
   "metadata": {},
   "outputs": [
    {
     "data": {
      "text/html": [
       "<div>\n",
       "<style scoped>\n",
       "    .dataframe tbody tr th:only-of-type {\n",
       "        vertical-align: middle;\n",
       "    }\n",
       "\n",
       "    .dataframe tbody tr th {\n",
       "        vertical-align: top;\n",
       "    }\n",
       "\n",
       "    .dataframe thead th {\n",
       "        text-align: right;\n",
       "    }\n",
       "</style>\n",
       "<table border=\"1\" class=\"dataframe\">\n",
       "  <thead>\n",
       "    <tr style=\"text-align: right;\">\n",
       "      <th></th>\n",
       "      <th>temp</th>\n",
       "      <th>date</th>\n",
       "    </tr>\n",
       "  </thead>\n",
       "  <tbody>\n",
       "    <tr>\n",
       "      <th>0</th>\n",
       "      <td>47.80</td>\n",
       "      <td>2010-01-01 00:00:00</td>\n",
       "    </tr>\n",
       "    <tr>\n",
       "      <th>1</th>\n",
       "      <td>47.40</td>\n",
       "      <td>2010-01-01 01:00:00</td>\n",
       "    </tr>\n",
       "    <tr>\n",
       "      <th>2</th>\n",
       "      <td>46.90</td>\n",
       "      <td>2010-01-01 02:00:00</td>\n",
       "    </tr>\n",
       "    <tr>\n",
       "      <th>3</th>\n",
       "      <td>46.50</td>\n",
       "      <td>2010-01-01 03:00:00</td>\n",
       "    </tr>\n",
       "    <tr>\n",
       "      <th>4</th>\n",
       "      <td>46.00</td>\n",
       "      <td>2010-01-01 04:00:00</td>\n",
       "    </tr>\n",
       "    <tr>\n",
       "      <th>...</th>\n",
       "      <td>...</td>\n",
       "      <td>...</td>\n",
       "    </tr>\n",
       "    <tr>\n",
       "      <th>8754</th>\n",
       "      <td>50.40</td>\n",
       "      <td>2010-12-31 19:00:00</td>\n",
       "    </tr>\n",
       "    <tr>\n",
       "      <th>8755</th>\n",
       "      <td>49.90</td>\n",
       "      <td>2010-12-31 20:00:00</td>\n",
       "    </tr>\n",
       "    <tr>\n",
       "      <th>8756</th>\n",
       "      <td>49.40</td>\n",
       "      <td>2010-12-31 21:00:00</td>\n",
       "    </tr>\n",
       "    <tr>\n",
       "      <th>8757</th>\n",
       "      <td>48.80</td>\n",
       "      <td>2010-12-31 22:00:00</td>\n",
       "    </tr>\n",
       "    <tr>\n",
       "      <th>8758</th>\n",
       "      <td>48.30</td>\n",
       "      <td>2010-12-31 23:00:00</td>\n",
       "    </tr>\n",
       "  </tbody>\n",
       "</table>\n",
       "<p>8759 rows × 2 columns</p>\n",
       "</div>"
      ],
      "text/plain": [
       "      temp                date\n",
       "0    47.80 2010-01-01 00:00:00\n",
       "1    47.40 2010-01-01 01:00:00\n",
       "2    46.90 2010-01-01 02:00:00\n",
       "3    46.50 2010-01-01 03:00:00\n",
       "4    46.00 2010-01-01 04:00:00\n",
       "...    ...                 ...\n",
       "8754 50.40 2010-12-31 19:00:00\n",
       "8755 49.90 2010-12-31 20:00:00\n",
       "8756 49.40 2010-12-31 21:00:00\n",
       "8757 48.80 2010-12-31 22:00:00\n",
       "8758 48.30 2010-12-31 23:00:00\n",
       "\n",
       "[8759 rows x 2 columns]"
      ]
     },
     "execution_count": 2,
     "metadata": {},
     "output_type": "execute_result"
    }
   ],
   "source": [
    "# Acquire the data\n",
    "sf_temps = data.sf_temps()\n",
    "sf_temps"
   ]
  },
  {
   "cell_type": "code",
   "execution_count": 3,
   "id": "ec8284f2",
   "metadata": {},
   "outputs": [
    {
     "name": "stdout",
     "output_type": "stream",
     "text": [
      "<class 'pandas.core.frame.DataFrame'>\n",
      "RangeIndex: 8759 entries, 0 to 8758\n",
      "Data columns (total 2 columns):\n",
      " #   Column  Non-Null Count  Dtype         \n",
      "---  ------  --------------  -----         \n",
      " 0   temp    8759 non-null   float64       \n",
      " 1   date    8759 non-null   datetime64[ns]\n",
      "dtypes: datetime64[ns](1), float64(1)\n",
      "memory usage: 137.0 KB\n"
     ]
    }
   ],
   "source": [
    "sf_temps.info()"
   ]
  },
  {
   "cell_type": "code",
   "execution_count": 4,
   "id": "c0d2e9e7",
   "metadata": {},
   "outputs": [],
   "source": [
    "# Make date the index and sort\n",
    "\n",
    "sf_temps = sf_temps.set_index('date').sort_index()"
   ]
  },
  {
   "cell_type": "code",
   "execution_count": 5,
   "id": "47d176da",
   "metadata": {},
   "outputs": [
    {
     "data": {
      "text/plain": [
       "pandas.core.indexes.datetimes.DatetimeIndex"
      ]
     },
     "execution_count": 5,
     "metadata": {},
     "output_type": "execute_result"
    }
   ],
   "source": [
    "# Check if its done correctly\n",
    "type(sf_temps.index)\n"
   ]
  },
  {
   "cell_type": "markdown",
   "id": "440a254a",
   "metadata": {},
   "source": [
    "# Use the above dataset for the following exercises:"
   ]
  },
  {
   "cell_type": "markdown",
   "id": "5f2a72fe",
   "metadata": {},
   "source": [
    "## 1. Resample by the day and take the average temperature. Visualize the average temperature over time.\n"
   ]
  },
  {
   "cell_type": "code",
   "execution_count": 9,
   "id": "594733c7",
   "metadata": {},
   "outputs": [
    {
     "data": {
      "text/html": [
       "<div>\n",
       "<style scoped>\n",
       "    .dataframe tbody tr th:only-of-type {\n",
       "        vertical-align: middle;\n",
       "    }\n",
       "\n",
       "    .dataframe tbody tr th {\n",
       "        vertical-align: top;\n",
       "    }\n",
       "\n",
       "    .dataframe thead th {\n",
       "        text-align: right;\n",
       "    }\n",
       "</style>\n",
       "<table border=\"1\" class=\"dataframe\">\n",
       "  <thead>\n",
       "    <tr style=\"text-align: right;\">\n",
       "      <th></th>\n",
       "      <th>temp</th>\n",
       "    </tr>\n",
       "    <tr>\n",
       "      <th>date</th>\n",
       "      <th></th>\n",
       "    </tr>\n",
       "  </thead>\n",
       "  <tbody>\n",
       "    <tr>\n",
       "      <th>2010-01-01</th>\n",
       "      <td>49.17</td>\n",
       "    </tr>\n",
       "    <tr>\n",
       "      <th>2010-01-02</th>\n",
       "      <td>49.30</td>\n",
       "    </tr>\n",
       "    <tr>\n",
       "      <th>2010-01-03</th>\n",
       "      <td>49.39</td>\n",
       "    </tr>\n",
       "  </tbody>\n",
       "</table>\n",
       "</div>"
      ],
      "text/plain": [
       "            temp\n",
       "date            \n",
       "2010-01-01 49.17\n",
       "2010-01-02 49.30\n",
       "2010-01-03 49.39"
      ]
     },
     "execution_count": 9,
     "metadata": {},
     "output_type": "execute_result"
    }
   ],
   "source": [
    "# Resample by the day and take the average temperature\n",
    "average_temp_by_day = sf_temps.resample('D').mean().head(3)\n",
    "average_temp_by_day"
   ]
  },
  {
   "cell_type": "code",
   "execution_count": 10,
   "id": "7735e615",
   "metadata": {},
   "outputs": [
    {
     "data": {
      "image/png": "[encoded data removed]",
      "text/plain": [
       "<Figure size 800x600 with 1 Axes>"
      ]
     },
     "metadata": {},
     "output_type": "display_data"
    }
   ],
   "source": [
    "# Visualize the average temperature over time\n",
    "sf_temps.resample('D').mean().plot()\n",
    "plt.title('SF Temperatures in 2010')\n",
    "plt.xlabel('Date')\n",
    "plt.ylabel('Temperature (°C)')\n",
    "plt.show()\n",
    "\n"
   ]
  },
  {
   "cell_type": "markdown",
   "id": "e1caf942",
   "metadata": {},
   "source": [
    "## 2. Write the code necessary to visualize the minimum temperature over time.\n"
   ]
  },
  {
   "cell_type": "code",
   "execution_count": 11,
   "id": "8fca1b84",
   "metadata": {},
   "outputs": [
    {
     "data": {
      "image/png": "[encoded data removed]",
      "text/plain": [
       "<Figure size 800x600 with 1 Axes>"
      ]
     },
     "metadata": {},
     "output_type": "display_data"
    }
   ],
   "source": [
    "# Plot the min temps\n",
    "\n",
    "sf_temps.resample('D').min().plot()\n",
    "plt.title('Minimum SF Temperatures in 2010')\n",
    "plt.ylabel('Temperature')\n",
    "plt.show()"
   ]
  },
  {
   "cell_type": "markdown",
   "id": "f3214060",
   "metadata": {},
   "source": [
    "## 3. Write the code necessary to visualize the maximum temperature over time.\n"
   ]
  },
  {
   "cell_type": "code",
   "execution_count": 12,
   "id": "a2ad4e19",
   "metadata": {},
   "outputs": [
    {
     "data": {
      "image/png": "[encoded data removed]",
      "text/plain": [
       "<Figure size 800x600 with 1 Axes>"
      ]
     },
     "metadata": {},
     "output_type": "display_data"
    }
   ],
   "source": [
    "# Plot the max temps\n",
    "\n",
    "sf_temps.resample('D').max().plot()\n",
    "plt.title('Maximum Temperatures in 2010')\n",
    "plt.ylabel('Temperature')\n",
    "plt.show()"
   ]
  },
  {
   "cell_type": "markdown",
   "id": "835222eb",
   "metadata": {},
   "source": [
    "## 4. Which month is the coldest, on average?\n"
   ]
  },
  {
   "cell_type": "code",
   "execution_count": 14,
   "id": "5608efd2",
   "metadata": {},
   "outputs": [
    {
     "data": {
      "text/plain": [
       "date\n",
       "2010-01-31   49.98\n",
       "2010-12-31   50.50\n",
       "2010-02-28   52.24\n",
       "2010-03-31   53.96\n",
       "2010-11-30   55.19\n",
       "2010-04-30   55.63\n",
       "2010-05-31   57.97\n",
       "2010-10-31   60.25\n",
       "2010-06-30   60.44\n",
       "2010-07-31   61.77\n",
       "2010-08-31   62.41\n",
       "2010-09-30   62.49\n",
       "Name: temp, dtype: float64"
      ]
     },
     "execution_count": 14,
     "metadata": {},
     "output_type": "execute_result"
    }
   ],
   "source": [
    "# Resampling by month,get average, sort those values\n",
    "sf_temps.temp.resample('M').mean().sort_values()\n"
   ]
  },
  {
   "cell_type": "code",
   "execution_count": 15,
   "id": "0268babf",
   "metadata": {},
   "outputs": [],
   "source": [
    "average_temps = sf_temps.resample('M').mean()\n"
   ]
  },
  {
   "cell_type": "code",
   "execution_count": 16,
   "id": "00da2fba",
   "metadata": {},
   "outputs": [
    {
     "data": {
      "text/plain": [
       "temp   49.98\n",
       "dtype: float64"
      ]
     },
     "execution_count": 16,
     "metadata": {},
     "output_type": "execute_result"
    }
   ],
   "source": [
    "average_temps.min()\n"
   ]
  },
  {
   "cell_type": "code",
   "execution_count": null,
   "id": "40392034",
   "metadata": {},
   "outputs": [],
   "source": [
    "# OR"
   ]
  },
  {
   "cell_type": "code",
   "execution_count": 43,
   "id": "6cfac503",
   "metadata": {},
   "outputs": [],
   "source": [
    "#create a column for month\n",
    "sf_temps['month'] = sf_temps.index.month\n"
   ]
  },
  {
   "cell_type": "code",
   "execution_count": 44,
   "id": "a4ff3a55",
   "metadata": {},
   "outputs": [
    {
     "data": {
      "text/plain": [
       "temp     January\n",
       "month    January\n",
       "dtype: object"
      ]
     },
     "execution_count": 44,
     "metadata": {},
     "output_type": "execute_result"
    }
   ],
   "source": [
    "sf_temps.groupby(sf_temps.index.month_name()).mean().idxmin()\n"
   ]
  },
  {
   "cell_type": "code",
   "execution_count": 45,
   "id": "2243525b",
   "metadata": {},
   "outputs": [
    {
     "data": {
      "text/plain": [
       "49.98413978494623"
      ]
     },
     "execution_count": 45,
     "metadata": {},
     "output_type": "execute_result"
    }
   ],
   "source": [
    " sf_temps.groupby('month')['temp'].mean().min()\n"
   ]
  },
  {
   "cell_type": "markdown",
   "id": "0b3edc79",
   "metadata": {},
   "source": [
    "## 5. Which month has the highest average temperature?\n"
   ]
  },
  {
   "cell_type": "code",
   "execution_count": 47,
   "id": "4a3978bb",
   "metadata": {},
   "outputs": [
    {
     "data": {
      "text/plain": [
       "date\n",
       "2010-09-30   62.49\n",
       "2010-08-31   62.41\n",
       "2010-07-31   61.77\n",
       "2010-06-30   60.44\n",
       "2010-10-31   60.25\n",
       "2010-05-31   57.97\n",
       "2010-04-30   55.63\n",
       "2010-11-30   55.19\n",
       "2010-03-31   53.96\n",
       "2010-02-28   52.24\n",
       "2010-12-31   50.50\n",
       "2010-01-31   49.98\n",
       "Name: temp, dtype: float64"
      ]
     },
     "execution_count": 47,
     "metadata": {},
     "output_type": "execute_result"
    }
   ],
   "source": [
    "#resample by month, get average temp,sort desc\n",
    "sf_temps.temp.resample('M').mean().sort_values(ascending=False)"
   ]
  },
  {
   "cell_type": "code",
   "execution_count": 48,
   "id": "a81c66ab",
   "metadata": {},
   "outputs": [
    {
     "data": {
      "text/plain": [
       "temp   62.49\n",
       "dtype: float64"
      ]
     },
     "execution_count": 48,
     "metadata": {},
     "output_type": "execute_result"
    }
   ],
   "source": [
    "average_temps.max()\n"
   ]
  },
  {
   "cell_type": "code",
   "execution_count": null,
   "id": "9dc7f5ed",
   "metadata": {},
   "outputs": [],
   "source": [
    "# OR"
   ]
  },
  {
   "cell_type": "code",
   "execution_count": 49,
   "id": "5b4dc1e4",
   "metadata": {},
   "outputs": [
    {
     "data": {
      "text/plain": [
       "temp     September\n",
       "month     December\n",
       "dtype: object"
      ]
     },
     "execution_count": 49,
     "metadata": {},
     "output_type": "execute_result"
    }
   ],
   "source": [
    "sf_temps.groupby(sf_temps.index.month_name()).mean().idxmax()\n"
   ]
  },
  {
   "cell_type": "code",
   "execution_count": 50,
   "id": "7f6e118b",
   "metadata": {},
   "outputs": [
    {
     "data": {
      "text/plain": [
       "temp   62.49\n",
       "dtype: float64"
      ]
     },
     "execution_count": 50,
     "metadata": {},
     "output_type": "execute_result"
    }
   ],
   "source": [
    "sf_temps.groupby('month').mean().max()\n"
   ]
  },
  {
   "cell_type": "markdown",
   "id": "5a6a9435",
   "metadata": {},
   "source": [
    "answer: September (2010-09-30)\n"
   ]
  },
  {
   "cell_type": "markdown",
   "id": "6fbc5bfc",
   "metadata": {},
   "source": [
    "## 6. Resample by the day and calculate the min and max temp for the day (Hint: .agg(['min', 'max'])). Use this resampled dataframe to calculate the change in temperature for the day. Which month has the highest daily temperature variability?\n"
   ]
  },
  {
   "cell_type": "code",
   "execution_count": 51,
   "id": "7b18dfe3",
   "metadata": {},
   "outputs": [],
   "source": [
    "#resample temps by day- add min max columns\n",
    "daily_temps = sf_temps.temp.resample('D').agg(['min', 'max'])"
   ]
  },
  {
   "cell_type": "code",
   "execution_count": 52,
   "id": "ac8636ba",
   "metadata": {},
   "outputs": [
    {
     "data": {
      "text/html": [
       "<div>\n",
       "<style scoped>\n",
       "    .dataframe tbody tr th:only-of-type {\n",
       "        vertical-align: middle;\n",
       "    }\n",
       "\n",
       "    .dataframe tbody tr th {\n",
       "        vertical-align: top;\n",
       "    }\n",
       "\n",
       "    .dataframe thead th {\n",
       "        text-align: right;\n",
       "    }\n",
       "</style>\n",
       "<table border=\"1\" class=\"dataframe\">\n",
       "  <thead>\n",
       "    <tr style=\"text-align: right;\">\n",
       "      <th></th>\n",
       "      <th>min</th>\n",
       "      <th>max</th>\n",
       "    </tr>\n",
       "    <tr>\n",
       "      <th>date</th>\n",
       "      <th></th>\n",
       "      <th></th>\n",
       "    </tr>\n",
       "  </thead>\n",
       "  <tbody>\n",
       "    <tr>\n",
       "      <th>2010-01-01</th>\n",
       "      <td>45.80</td>\n",
       "      <td>53.30</td>\n",
       "    </tr>\n",
       "    <tr>\n",
       "      <th>2010-01-02</th>\n",
       "      <td>46.00</td>\n",
       "      <td>53.40</td>\n",
       "    </tr>\n",
       "    <tr>\n",
       "      <th>2010-01-03</th>\n",
       "      <td>46.10</td>\n",
       "      <td>53.50</td>\n",
       "    </tr>\n",
       "    <tr>\n",
       "      <th>2010-01-04</th>\n",
       "      <td>46.10</td>\n",
       "      <td>53.60</td>\n",
       "    </tr>\n",
       "    <tr>\n",
       "      <th>2010-01-05</th>\n",
       "      <td>46.10</td>\n",
       "      <td>53.80</td>\n",
       "    </tr>\n",
       "    <tr>\n",
       "      <th>...</th>\n",
       "      <td>...</td>\n",
       "      <td>...</td>\n",
       "    </tr>\n",
       "    <tr>\n",
       "      <th>2010-12-27</th>\n",
       "      <td>45.60</td>\n",
       "      <td>53.20</td>\n",
       "    </tr>\n",
       "    <tr>\n",
       "      <th>2010-12-28</th>\n",
       "      <td>45.60</td>\n",
       "      <td>53.20</td>\n",
       "    </tr>\n",
       "    <tr>\n",
       "      <th>2010-12-29</th>\n",
       "      <td>45.60</td>\n",
       "      <td>53.20</td>\n",
       "    </tr>\n",
       "    <tr>\n",
       "      <th>2010-12-30</th>\n",
       "      <td>45.60</td>\n",
       "      <td>53.20</td>\n",
       "    </tr>\n",
       "    <tr>\n",
       "      <th>2010-12-31</th>\n",
       "      <td>45.80</td>\n",
       "      <td>53.20</td>\n",
       "    </tr>\n",
       "  </tbody>\n",
       "</table>\n",
       "<p>365 rows × 2 columns</p>\n",
       "</div>"
      ],
      "text/plain": [
       "             min   max\n",
       "date                  \n",
       "2010-01-01 45.80 53.30\n",
       "2010-01-02 46.00 53.40\n",
       "2010-01-03 46.10 53.50\n",
       "2010-01-04 46.10 53.60\n",
       "2010-01-05 46.10 53.80\n",
       "...          ...   ...\n",
       "2010-12-27 45.60 53.20\n",
       "2010-12-28 45.60 53.20\n",
       "2010-12-29 45.60 53.20\n",
       "2010-12-30 45.60 53.20\n",
       "2010-12-31 45.80 53.20\n",
       "\n",
       "[365 rows x 2 columns]"
      ]
     },
     "execution_count": 52,
     "metadata": {},
     "output_type": "execute_result"
    }
   ],
   "source": [
    "daily_temps"
   ]
  },
  {
   "cell_type": "code",
   "execution_count": 53,
   "id": "d59e1e1b",
   "metadata": {},
   "outputs": [],
   "source": [
    "#create column that shows the temp difference between min and max\n",
    "daily_temps['temp_diff'] = daily_temps['max'] - daily_temps['min']"
   ]
  },
  {
   "cell_type": "code",
   "execution_count": 54,
   "id": "77a539e4",
   "metadata": {},
   "outputs": [
    {
     "data": {
      "text/html": [
       "<div>\n",
       "<style scoped>\n",
       "    .dataframe tbody tr th:only-of-type {\n",
       "        vertical-align: middle;\n",
       "    }\n",
       "\n",
       "    .dataframe tbody tr th {\n",
       "        vertical-align: top;\n",
       "    }\n",
       "\n",
       "    .dataframe thead th {\n",
       "        text-align: right;\n",
       "    }\n",
       "</style>\n",
       "<table border=\"1\" class=\"dataframe\">\n",
       "  <thead>\n",
       "    <tr style=\"text-align: right;\">\n",
       "      <th></th>\n",
       "      <th>min</th>\n",
       "      <th>max</th>\n",
       "      <th>temp_diff</th>\n",
       "    </tr>\n",
       "    <tr>\n",
       "      <th>date</th>\n",
       "      <th></th>\n",
       "      <th></th>\n",
       "      <th></th>\n",
       "    </tr>\n",
       "  </thead>\n",
       "  <tbody>\n",
       "    <tr>\n",
       "      <th>2010-01-01</th>\n",
       "      <td>45.80</td>\n",
       "      <td>53.30</td>\n",
       "      <td>7.50</td>\n",
       "    </tr>\n",
       "    <tr>\n",
       "      <th>2010-01-02</th>\n",
       "      <td>46.00</td>\n",
       "      <td>53.40</td>\n",
       "      <td>7.40</td>\n",
       "    </tr>\n",
       "    <tr>\n",
       "      <th>2010-01-03</th>\n",
       "      <td>46.10</td>\n",
       "      <td>53.50</td>\n",
       "      <td>7.40</td>\n",
       "    </tr>\n",
       "    <tr>\n",
       "      <th>2010-01-04</th>\n",
       "      <td>46.10</td>\n",
       "      <td>53.60</td>\n",
       "      <td>7.50</td>\n",
       "    </tr>\n",
       "    <tr>\n",
       "      <th>2010-01-05</th>\n",
       "      <td>46.10</td>\n",
       "      <td>53.80</td>\n",
       "      <td>7.70</td>\n",
       "    </tr>\n",
       "    <tr>\n",
       "      <th>...</th>\n",
       "      <td>...</td>\n",
       "      <td>...</td>\n",
       "      <td>...</td>\n",
       "    </tr>\n",
       "    <tr>\n",
       "      <th>2010-12-27</th>\n",
       "      <td>45.60</td>\n",
       "      <td>53.20</td>\n",
       "      <td>7.60</td>\n",
       "    </tr>\n",
       "    <tr>\n",
       "      <th>2010-12-28</th>\n",
       "      <td>45.60</td>\n",
       "      <td>53.20</td>\n",
       "      <td>7.60</td>\n",
       "    </tr>\n",
       "    <tr>\n",
       "      <th>2010-12-29</th>\n",
       "      <td>45.60</td>\n",
       "      <td>53.20</td>\n",
       "      <td>7.60</td>\n",
       "    </tr>\n",
       "    <tr>\n",
       "      <th>2010-12-30</th>\n",
       "      <td>45.60</td>\n",
       "      <td>53.20</td>\n",
       "      <td>7.60</td>\n",
       "    </tr>\n",
       "    <tr>\n",
       "      <th>2010-12-31</th>\n",
       "      <td>45.80</td>\n",
       "      <td>53.20</td>\n",
       "      <td>7.40</td>\n",
       "    </tr>\n",
       "  </tbody>\n",
       "</table>\n",
       "<p>365 rows × 3 columns</p>\n",
       "</div>"
      ],
      "text/plain": [
       "             min   max  temp_diff\n",
       "date                             \n",
       "2010-01-01 45.80 53.30       7.50\n",
       "2010-01-02 46.00 53.40       7.40\n",
       "2010-01-03 46.10 53.50       7.40\n",
       "2010-01-04 46.10 53.60       7.50\n",
       "2010-01-05 46.10 53.80       7.70\n",
       "...          ...   ...        ...\n",
       "2010-12-27 45.60 53.20       7.60\n",
       "2010-12-28 45.60 53.20       7.60\n",
       "2010-12-29 45.60 53.20       7.60\n",
       "2010-12-30 45.60 53.20       7.60\n",
       "2010-12-31 45.80 53.20       7.40\n",
       "\n",
       "[365 rows x 3 columns]"
      ]
     },
     "execution_count": 54,
     "metadata": {},
     "output_type": "execute_result"
    }
   ],
   "source": [
    "#make sure new column was created\n",
    "daily_temps"
   ]
  },
  {
   "cell_type": "code",
   "execution_count": 55,
   "id": "bb628a64",
   "metadata": {},
   "outputs": [
    {
     "data": {
      "text/plain": [
       "date\n",
       "2010-08-31   15.00\n",
       "2010-09-30   14.90\n",
       "2010-06-30   14.80\n",
       "2010-07-31   14.80\n",
       "2010-10-31   14.40\n",
       "2010-05-31   13.10\n",
       "2010-04-30   13.00\n",
       "2010-03-31   12.00\n",
       "2010-11-30   11.80\n",
       "2010-02-28    9.90\n",
       "2010-01-31    9.30\n",
       "2010-12-31    8.90\n",
       "Name: temp_diff, dtype: float64"
      ]
     },
     "execution_count": 55,
     "metadata": {},
     "output_type": "execute_result"
    }
   ],
   "source": [
    "#sort the values to see temp difference to answer question\n",
    "daily_temps.temp_diff.resample('M').max().sort_values(ascending=False)"
   ]
  },
  {
   "cell_type": "markdown",
   "id": "68dd95a1",
   "metadata": {},
   "source": [
    "Answer: August (2010-08-31) with 15.00 degrees\n"
   ]
  },
  {
   "cell_type": "markdown",
   "id": "22634bf3",
   "metadata": {},
   "source": [
    "## 7. Bonus: Visualize the daily min, average, and max temperature over time on a single line plot, i.e. the min, average, and maximum temperature should be 3 seperate lines.\n"
   ]
  },
  {
   "cell_type": "code",
   "execution_count": 56,
   "id": "3e3506ae",
   "metadata": {
    "scrolled": true
   },
   "outputs": [
    {
     "data": {
      "image/png": "[encoded data removed]",
      "text/plain": [
       "<Figure size 800x600 with 1 Axes>"
      ]
     },
     "metadata": {},
     "output_type": "display_data"
    }
   ],
   "source": [
    "#resample temperatures by day- get min max and average\n",
    "sf_temps.temp.resample('D').agg(['min', 'mean', 'max']).plot()\n",
    "plt.title('Min, Max & Mean Temperatures in 2010')\n",
    "plt.ylabel('Temperature')\n",
    "plt.show()"
   ]
  },
  {
   "cell_type": "markdown",
   "id": "1f58ee30",
   "metadata": {},
   "source": [
    "# Second Part"
   ]
  },
  {
   "cell_type": "markdown",
   "id": "abaacf15",
   "metadata": {},
   "source": [
    "## Seattle Data"
   ]
  },
  {
   "cell_type": "code",
   "execution_count": 57,
   "id": "73d791ff",
   "metadata": {
    "scrolled": true
   },
   "outputs": [
    {
     "data": {
      "text/html": [
       "<div>\n",
       "<style scoped>\n",
       "    .dataframe tbody tr th:only-of-type {\n",
       "        vertical-align: middle;\n",
       "    }\n",
       "\n",
       "    .dataframe tbody tr th {\n",
       "        vertical-align: top;\n",
       "    }\n",
       "\n",
       "    .dataframe thead th {\n",
       "        text-align: right;\n",
       "    }\n",
       "</style>\n",
       "<table border=\"1\" class=\"dataframe\">\n",
       "  <thead>\n",
       "    <tr style=\"text-align: right;\">\n",
       "      <th></th>\n",
       "      <th>date</th>\n",
       "      <th>precipitation</th>\n",
       "      <th>temp_max</th>\n",
       "      <th>temp_min</th>\n",
       "      <th>wind</th>\n",
       "      <th>weather</th>\n",
       "    </tr>\n",
       "  </thead>\n",
       "  <tbody>\n",
       "    <tr>\n",
       "      <th>0</th>\n",
       "      <td>2012-01-01</td>\n",
       "      <td>0.00</td>\n",
       "      <td>12.80</td>\n",
       "      <td>5.00</td>\n",
       "      <td>4.70</td>\n",
       "      <td>drizzle</td>\n",
       "    </tr>\n",
       "    <tr>\n",
       "      <th>1</th>\n",
       "      <td>2012-01-02</td>\n",
       "      <td>10.90</td>\n",
       "      <td>10.60</td>\n",
       "      <td>2.80</td>\n",
       "      <td>4.50</td>\n",
       "      <td>rain</td>\n",
       "    </tr>\n",
       "    <tr>\n",
       "      <th>2</th>\n",
       "      <td>2012-01-03</td>\n",
       "      <td>0.80</td>\n",
       "      <td>11.70</td>\n",
       "      <td>7.20</td>\n",
       "      <td>2.30</td>\n",
       "      <td>rain</td>\n",
       "    </tr>\n",
       "    <tr>\n",
       "      <th>3</th>\n",
       "      <td>2012-01-04</td>\n",
       "      <td>20.30</td>\n",
       "      <td>12.20</td>\n",
       "      <td>5.60</td>\n",
       "      <td>4.70</td>\n",
       "      <td>rain</td>\n",
       "    </tr>\n",
       "    <tr>\n",
       "      <th>4</th>\n",
       "      <td>2012-01-05</td>\n",
       "      <td>1.30</td>\n",
       "      <td>8.90</td>\n",
       "      <td>2.80</td>\n",
       "      <td>6.10</td>\n",
       "      <td>rain</td>\n",
       "    </tr>\n",
       "    <tr>\n",
       "      <th>...</th>\n",
       "      <td>...</td>\n",
       "      <td>...</td>\n",
       "      <td>...</td>\n",
       "      <td>...</td>\n",
       "      <td>...</td>\n",
       "      <td>...</td>\n",
       "    </tr>\n",
       "    <tr>\n",
       "      <th>1456</th>\n",
       "      <td>2015-12-27</td>\n",
       "      <td>8.60</td>\n",
       "      <td>4.40</td>\n",
       "      <td>1.70</td>\n",
       "      <td>2.90</td>\n",
       "      <td>fog</td>\n",
       "    </tr>\n",
       "    <tr>\n",
       "      <th>1457</th>\n",
       "      <td>2015-12-28</td>\n",
       "      <td>1.50</td>\n",
       "      <td>5.00</td>\n",
       "      <td>1.70</td>\n",
       "      <td>1.30</td>\n",
       "      <td>fog</td>\n",
       "    </tr>\n",
       "    <tr>\n",
       "      <th>1458</th>\n",
       "      <td>2015-12-29</td>\n",
       "      <td>0.00</td>\n",
       "      <td>7.20</td>\n",
       "      <td>0.60</td>\n",
       "      <td>2.60</td>\n",
       "      <td>fog</td>\n",
       "    </tr>\n",
       "    <tr>\n",
       "      <th>1459</th>\n",
       "      <td>2015-12-30</td>\n",
       "      <td>0.00</td>\n",
       "      <td>5.60</td>\n",
       "      <td>-1.00</td>\n",
       "      <td>3.40</td>\n",
       "      <td>sun</td>\n",
       "    </tr>\n",
       "    <tr>\n",
       "      <th>1460</th>\n",
       "      <td>2015-12-31</td>\n",
       "      <td>0.00</td>\n",
       "      <td>5.60</td>\n",
       "      <td>-2.10</td>\n",
       "      <td>3.50</td>\n",
       "      <td>sun</td>\n",
       "    </tr>\n",
       "  </tbody>\n",
       "</table>\n",
       "<p>1461 rows × 6 columns</p>\n",
       "</div>"
      ],
      "text/plain": [
       "           date  precipitation  temp_max  temp_min  wind  weather\n",
       "0    2012-01-01           0.00     12.80      5.00  4.70  drizzle\n",
       "1    2012-01-02          10.90     10.60      2.80  4.50     rain\n",
       "2    2012-01-03           0.80     11.70      7.20  2.30     rain\n",
       "3    2012-01-04          20.30     12.20      5.60  4.70     rain\n",
       "4    2012-01-05           1.30      8.90      2.80  6.10     rain\n",
       "...         ...            ...       ...       ...   ...      ...\n",
       "1456 2015-12-27           8.60      4.40      1.70  2.90      fog\n",
       "1457 2015-12-28           1.50      5.00      1.70  1.30      fog\n",
       "1458 2015-12-29           0.00      7.20      0.60  2.60      fog\n",
       "1459 2015-12-30           0.00      5.60     -1.00  3.40      sun\n",
       "1460 2015-12-31           0.00      5.60     -2.10  3.50      sun\n",
       "\n",
       "[1461 rows x 6 columns]"
      ]
     },
     "execution_count": 57,
     "metadata": {},
     "output_type": "execute_result"
    }
   ],
   "source": [
    "# import seattle data\n",
    "# Load the Seattle weather dataset\n",
    "seattle_weather = data.seattle_weather()\n",
    "seattle_weather"
   ]
  },
  {
   "cell_type": "code",
   "execution_count": 58,
   "id": "8db53ca2",
   "metadata": {},
   "outputs": [
    {
     "name": "stdout",
     "output_type": "stream",
     "text": [
      "<class 'pandas.core.frame.DataFrame'>\n",
      "RangeIndex: 1461 entries, 0 to 1460\n",
      "Data columns (total 6 columns):\n",
      " #   Column         Non-Null Count  Dtype         \n",
      "---  ------         --------------  -----         \n",
      " 0   date           1461 non-null   datetime64[ns]\n",
      " 1   precipitation  1461 non-null   float64       \n",
      " 2   temp_max       1461 non-null   float64       \n",
      " 3   temp_min       1461 non-null   float64       \n",
      " 4   wind           1461 non-null   float64       \n",
      " 5   weather        1461 non-null   object        \n",
      "dtypes: datetime64[ns](1), float64(4), object(1)\n",
      "memory usage: 68.6+ KB\n"
     ]
    }
   ],
   "source": [
    "seattle_weather.info()"
   ]
  },
  {
   "cell_type": "code",
   "execution_count": 60,
   "id": "39d61a16",
   "metadata": {},
   "outputs": [
    {
     "data": {
      "text/plain": [
       "pandas.core.indexes.range.RangeIndex"
      ]
     },
     "execution_count": 60,
     "metadata": {},
     "output_type": "execute_result"
    }
   ],
   "source": [
    "#check the index- should be date\n",
    "type(seattle_weather.index)\n",
    "\n",
    "#it is not, must change that"
   ]
  },
  {
   "cell_type": "code",
   "execution_count": 62,
   "id": "f4771194",
   "metadata": {},
   "outputs": [],
   "source": [
    "seattle_weather= seattle_weather.set_index('date').sort_index()"
   ]
  },
  {
   "cell_type": "code",
   "execution_count": 63,
   "id": "789bc94c",
   "metadata": {},
   "outputs": [
    {
     "data": {
      "text/plain": [
       "pandas.core.indexes.datetimes.DatetimeIndex"
      ]
     },
     "execution_count": 63,
     "metadata": {},
     "output_type": "execute_result"
    }
   ],
   "source": [
    "#make sure index was reset\n",
    "type(seattle_weather.index)"
   ]
  },
  {
   "cell_type": "markdown",
   "id": "54948f3b",
   "metadata": {},
   "source": [
    "# Use the above dataset for the following exercises:\n"
   ]
  },
  {
   "cell_type": "markdown",
   "id": "3401b3bd",
   "metadata": {},
   "source": [
    "## 1. Which year and month combination has the highest amount of precipitation?"
   ]
  },
  {
   "cell_type": "code",
   "execution_count": 65,
   "id": "d126151b",
   "metadata": {},
   "outputs": [
    {
     "data": {
      "text/plain": [
       "date\n",
       "2015-12-31   9.18\n",
       "2014-03-31   7.74\n",
       "2015-11-30   7.09\n",
       "2012-11-30   7.02\n",
       "2012-03-31   5.90\n",
       "2012-12-31   5.61\n",
       "2012-01-31   5.59\n",
       "2014-02-28   5.54\n",
       "2014-10-31   5.53\n",
       "2012-10-31   5.49\n",
       "2013-09-30   5.23\n",
       "2013-04-30   4.99\n",
       "2015-02-28   4.79\n",
       "2014-11-30   4.10\n",
       "2015-10-31   3.95\n",
       "2014-12-31   3.93\n",
       "2015-03-31   3.66\n",
       "2014-04-30   3.54\n",
       "2013-01-31   3.41\n",
       "2013-11-30   3.21\n",
       "2012-02-29   3.18\n",
       "2014-01-31   3.03\n",
       "2015-01-31   3.00\n",
       "2015-08-31   2.69\n",
       "2014-05-31   2.58\n",
       "2012-06-30   2.50\n",
       "2012-04-30   2.27\n",
       "2013-03-31   2.25\n",
       "2013-05-31   1.95\n",
       "2014-09-30   1.89\n",
       "2015-04-30   1.72\n",
       "2012-05-31   1.68\n",
       "2014-08-31   1.48\n",
       "2013-02-28   1.44\n",
       "2013-12-31   1.37\n",
       "2013-10-31   1.26\n",
       "2013-08-31   1.11\n",
       "2013-06-30   1.10\n",
       "2012-07-31   0.85\n",
       "2015-09-30   0.70\n",
       "2014-07-31   0.63\n",
       "2014-06-30   0.63\n",
       "2015-05-31   0.48\n",
       "2015-06-30   0.20\n",
       "2015-07-31   0.07\n",
       "2012-09-30   0.03\n",
       "2013-07-31   0.00\n",
       "2012-08-31   0.00\n",
       "Name: precipitation, dtype: float64"
      ]
     },
     "execution_count": 65,
     "metadata": {},
     "output_type": "execute_result"
    }
   ],
   "source": [
    "seattle_weather.precipitation.resample('M').mean().sort_values(ascending=False)\n"
   ]
  },
  {
   "cell_type": "code",
   "execution_count": 66,
   "id": "66869fdd",
   "metadata": {},
   "outputs": [
    {
     "data": {
      "text/plain": [
       "55.9"
      ]
     },
     "execution_count": 66,
     "metadata": {},
     "output_type": "execute_result"
    }
   ],
   "source": [
    "seattle_weather.precipitation.max()"
   ]
  },
  {
   "cell_type": "code",
   "execution_count": 67,
   "id": "9cb5734e",
   "metadata": {},
   "outputs": [
    {
     "data": {
      "text/plain": [
       "date\n",
       "2015-03-15   55.90\n",
       "2015-12-08   54.10\n",
       "2012-11-19   54.10\n",
       "2015-11-14   47.20\n",
       "2014-03-05   46.70\n",
       "              ... \n",
       "2013-10-13    0.00\n",
       "2013-10-14    0.00\n",
       "2013-10-15    0.00\n",
       "2013-10-16    0.00\n",
       "2015-12-31    0.00\n",
       "Name: precipitation, Length: 1461, dtype: float64"
      ]
     },
     "execution_count": 67,
     "metadata": {},
     "output_type": "execute_result"
    }
   ],
   "source": [
    "seattle_weather.precipitation.sort_values(ascending=False)\n"
   ]
  },
  {
   "cell_type": "markdown",
   "id": "7eb56451",
   "metadata": {},
   "source": [
    "Answer: March 2015\n"
   ]
  },
  {
   "cell_type": "markdown",
   "id": "61c5f3d7",
   "metadata": {},
   "source": [
    "## 2. Visualize the amount of monthly precipitation over time."
   ]
  },
  {
   "cell_type": "code",
   "execution_count": 69,
   "id": "38e196d4",
   "metadata": {},
   "outputs": [
    {
     "data": {
      "image/png": "[encoded data removed]",
      "text/plain": [
       "<Figure size 800x600 with 1 Axes>"
      ]
     },
     "metadata": {},
     "output_type": "display_data"
    }
   ],
   "source": [
    "seattle_weather.precipitation.resample('M').mean().plot()\n",
    "plt.title('Precipitation Rates in Seatle')\n",
    "plt.ylabel('Precipiation')\n",
    "plt.show()"
   ]
  },
  {
   "cell_type": "markdown",
   "id": "77897e39",
   "metadata": {},
   "source": [
    "## 3. Visualize the amount of wind over time. Choose a time interval you think is appropriate.\n"
   ]
  },
  {
   "cell_type": "code",
   "execution_count": 70,
   "id": "7631bc70",
   "metadata": {},
   "outputs": [
    {
     "data": {
      "image/png": "[encoded data removed]",
      "text/plain": [
       "<Figure size 800x600 with 1 Axes>"
      ]
     },
     "metadata": {},
     "output_type": "display_data"
    }
   ],
   "source": [
    "# Visualize the amount of wind \n",
    "seattle_weather.wind.resample('M').mean().plot()\n",
    "plt.title('Wind Rates in Seatle')\n",
    "plt.ylabel('Wind')\n",
    "plt.show()\n"
   ]
  },
  {
   "cell_type": "markdown",
   "id": "22a0696d",
   "metadata": {},
   "source": [
    "## 4. Which year-month combination is the windiest?\n"
   ]
  },
  {
   "cell_type": "code",
   "execution_count": 72,
   "id": "ee7f5c1b",
   "metadata": {},
   "outputs": [
    {
     "data": {
      "text/plain": [
       "date\n",
       "2012-12-17   9.50\n",
       "2014-01-11   8.80\n",
       "2013-12-01   8.80\n",
       "2012-01-21   8.20\n",
       "2014-01-12   8.10\n",
       "             ... \n",
       "2013-01-22   0.60\n",
       "2013-11-25   0.50\n",
       "2015-01-10   0.50\n",
       "2013-12-26   0.50\n",
       "2013-10-23   0.40\n",
       "Name: wind, Length: 1461, dtype: float64"
      ]
     },
     "execution_count": 72,
     "metadata": {},
     "output_type": "execute_result"
    }
   ],
   "source": [
    "seattle_weather.wind.sort_values(ascending=False)\n"
   ]
  },
  {
   "cell_type": "markdown",
   "id": "081801da",
   "metadata": {},
   "source": [
    "Answer: December 2012 (2012-12-17) with 9.50\n"
   ]
  },
  {
   "cell_type": "markdown",
   "id": "eacd383f",
   "metadata": {},
   "source": [
    "## 5. What's the sunniest year? (Hint: which day has the highest number of days where weather == sun?)\n"
   ]
  },
  {
   "cell_type": "code",
   "execution_count": 73,
   "id": "36469b75",
   "metadata": {},
   "outputs": [
    {
     "data": {
      "text/plain": [
       "array(['drizzle', 'rain', 'sun', 'snow', 'fog'], dtype=object)"
      ]
     },
     "execution_count": 73,
     "metadata": {},
     "output_type": "execute_result"
    }
   ],
   "source": [
    "\n",
    "\n",
    "#take a look at weather types\n",
    "seattle_weather.weather.unique()"
   ]
  },
  {
   "cell_type": "code",
   "execution_count": null,
   "id": "46e9c2af",
   "metadata": {},
   "outputs": [],
   "source": [
    "\n",
    "#see the counts for each type\n",
    "seattle_weather.weather.value_counts()"
   ]
  },
  {
   "cell_type": "code",
   "execution_count": 74,
   "id": "4b897c22",
   "metadata": {},
   "outputs": [],
   "source": [
    "\n",
    "#create a column for days that are sunny\n",
    "seattle_weather['sunny_day'] = seattle_weather.weather == 'sun'"
   ]
  },
  {
   "cell_type": "code",
   "execution_count": 75,
   "id": "3bee0741",
   "metadata": {},
   "outputs": [
    {
     "data": {
      "text/html": [
       "<div>\n",
       "<style scoped>\n",
       "    .dataframe tbody tr th:only-of-type {\n",
       "        vertical-align: middle;\n",
       "    }\n",
       "\n",
       "    .dataframe tbody tr th {\n",
       "        vertical-align: top;\n",
       "    }\n",
       "\n",
       "    .dataframe thead th {\n",
       "        text-align: right;\n",
       "    }\n",
       "</style>\n",
       "<table border=\"1\" class=\"dataframe\">\n",
       "  <thead>\n",
       "    <tr style=\"text-align: right;\">\n",
       "      <th></th>\n",
       "      <th>precipitation</th>\n",
       "      <th>temp_max</th>\n",
       "      <th>temp_min</th>\n",
       "      <th>wind</th>\n",
       "      <th>weather</th>\n",
       "      <th>sunny_day</th>\n",
       "    </tr>\n",
       "    <tr>\n",
       "      <th>date</th>\n",
       "      <th></th>\n",
       "      <th></th>\n",
       "      <th></th>\n",
       "      <th></th>\n",
       "      <th></th>\n",
       "      <th></th>\n",
       "    </tr>\n",
       "  </thead>\n",
       "  <tbody>\n",
       "    <tr>\n",
       "      <th>2012-01-01</th>\n",
       "      <td>0.00</td>\n",
       "      <td>12.80</td>\n",
       "      <td>5.00</td>\n",
       "      <td>4.70</td>\n",
       "      <td>drizzle</td>\n",
       "      <td>False</td>\n",
       "    </tr>\n",
       "    <tr>\n",
       "      <th>2012-01-02</th>\n",
       "      <td>10.90</td>\n",
       "      <td>10.60</td>\n",
       "      <td>2.80</td>\n",
       "      <td>4.50</td>\n",
       "      <td>rain</td>\n",
       "      <td>False</td>\n",
       "    </tr>\n",
       "    <tr>\n",
       "      <th>2012-01-03</th>\n",
       "      <td>0.80</td>\n",
       "      <td>11.70</td>\n",
       "      <td>7.20</td>\n",
       "      <td>2.30</td>\n",
       "      <td>rain</td>\n",
       "      <td>False</td>\n",
       "    </tr>\n",
       "    <tr>\n",
       "      <th>2012-01-04</th>\n",
       "      <td>20.30</td>\n",
       "      <td>12.20</td>\n",
       "      <td>5.60</td>\n",
       "      <td>4.70</td>\n",
       "      <td>rain</td>\n",
       "      <td>False</td>\n",
       "    </tr>\n",
       "    <tr>\n",
       "      <th>2012-01-05</th>\n",
       "      <td>1.30</td>\n",
       "      <td>8.90</td>\n",
       "      <td>2.80</td>\n",
       "      <td>6.10</td>\n",
       "      <td>rain</td>\n",
       "      <td>False</td>\n",
       "    </tr>\n",
       "  </tbody>\n",
       "</table>\n",
       "</div>"
      ],
      "text/plain": [
       "            precipitation  temp_max  temp_min  wind  weather  sunny_day\n",
       "date                                                                   \n",
       "2012-01-01           0.00     12.80      5.00  4.70  drizzle      False\n",
       "2012-01-02          10.90     10.60      2.80  4.50     rain      False\n",
       "2012-01-03           0.80     11.70      7.20  2.30     rain      False\n",
       "2012-01-04          20.30     12.20      5.60  4.70     rain      False\n",
       "2012-01-05           1.30      8.90      2.80  6.10     rain      False"
      ]
     },
     "execution_count": 75,
     "metadata": {},
     "output_type": "execute_result"
    }
   ],
   "source": [
    "seattle_weather.head()"
   ]
  },
  {
   "cell_type": "code",
   "execution_count": 76,
   "id": "1921b846",
   "metadata": {},
   "outputs": [
    {
     "data": {
      "text/plain": [
       "date\n",
       "2014-12-31    211\n",
       "2013-12-31    205\n",
       "2015-12-31    180\n",
       "2012-12-31    118\n",
       "Name: sunny_day, dtype: int64"
      ]
     },
     "execution_count": 76,
     "metadata": {},
     "output_type": "execute_result"
    }
   ],
   "source": [
    "#resample by year to answer question\n",
    "seattle_weather.sunny_day.resample('Y').sum().sort_values(ascending=False)"
   ]
  },
  {
   "cell_type": "code",
   "execution_count": 77,
   "id": "bda22aca",
   "metadata": {},
   "outputs": [
    {
     "data": {
      "text/plain": [
       "date\n",
       "2014-12-31   0.58\n",
       "2013-12-31   0.56\n",
       "2015-12-31   0.49\n",
       "2012-12-31   0.32\n",
       "Name: sunny_day, dtype: float64"
      ]
     },
     "execution_count": 77,
     "metadata": {},
     "output_type": "execute_result"
    }
   ],
   "source": [
    "#can also look at average\n",
    "seattle_weather.sunny_day.resample('Y').mean().sort_values(ascending=False)"
   ]
  },
  {
   "cell_type": "markdown",
   "id": "043dfa37",
   "metadata": {},
   "source": [
    "## 6. In which month does it rain the most?\n"
   ]
  },
  {
   "cell_type": "code",
   "execution_count": 78,
   "id": "e4fa1c06",
   "metadata": {},
   "outputs": [],
   "source": [
    "#create a column for days that are sunny\n",
    "seattle_weather['rainy_day'] = seattle_weather.weather == 'rain'"
   ]
  },
  {
   "cell_type": "code",
   "execution_count": 79,
   "id": "b2773924",
   "metadata": {},
   "outputs": [
    {
     "data": {
      "text/html": [
       "<div>\n",
       "<style scoped>\n",
       "    .dataframe tbody tr th:only-of-type {\n",
       "        vertical-align: middle;\n",
       "    }\n",
       "\n",
       "    .dataframe tbody tr th {\n",
       "        vertical-align: top;\n",
       "    }\n",
       "\n",
       "    .dataframe thead th {\n",
       "        text-align: right;\n",
       "    }\n",
       "</style>\n",
       "<table border=\"1\" class=\"dataframe\">\n",
       "  <thead>\n",
       "    <tr style=\"text-align: right;\">\n",
       "      <th></th>\n",
       "      <th>precipitation</th>\n",
       "      <th>temp_max</th>\n",
       "      <th>temp_min</th>\n",
       "      <th>wind</th>\n",
       "      <th>weather</th>\n",
       "      <th>sunny_day</th>\n",
       "      <th>rainy_day</th>\n",
       "    </tr>\n",
       "    <tr>\n",
       "      <th>date</th>\n",
       "      <th></th>\n",
       "      <th></th>\n",
       "      <th></th>\n",
       "      <th></th>\n",
       "      <th></th>\n",
       "      <th></th>\n",
       "      <th></th>\n",
       "    </tr>\n",
       "  </thead>\n",
       "  <tbody>\n",
       "    <tr>\n",
       "      <th>2012-01-01</th>\n",
       "      <td>0.00</td>\n",
       "      <td>12.80</td>\n",
       "      <td>5.00</td>\n",
       "      <td>4.70</td>\n",
       "      <td>drizzle</td>\n",
       "      <td>False</td>\n",
       "      <td>False</td>\n",
       "    </tr>\n",
       "    <tr>\n",
       "      <th>2012-01-02</th>\n",
       "      <td>10.90</td>\n",
       "      <td>10.60</td>\n",
       "      <td>2.80</td>\n",
       "      <td>4.50</td>\n",
       "      <td>rain</td>\n",
       "      <td>False</td>\n",
       "      <td>True</td>\n",
       "    </tr>\n",
       "    <tr>\n",
       "      <th>2012-01-03</th>\n",
       "      <td>0.80</td>\n",
       "      <td>11.70</td>\n",
       "      <td>7.20</td>\n",
       "      <td>2.30</td>\n",
       "      <td>rain</td>\n",
       "      <td>False</td>\n",
       "      <td>True</td>\n",
       "    </tr>\n",
       "    <tr>\n",
       "      <th>2012-01-04</th>\n",
       "      <td>20.30</td>\n",
       "      <td>12.20</td>\n",
       "      <td>5.60</td>\n",
       "      <td>4.70</td>\n",
       "      <td>rain</td>\n",
       "      <td>False</td>\n",
       "      <td>True</td>\n",
       "    </tr>\n",
       "    <tr>\n",
       "      <th>2012-01-05</th>\n",
       "      <td>1.30</td>\n",
       "      <td>8.90</td>\n",
       "      <td>2.80</td>\n",
       "      <td>6.10</td>\n",
       "      <td>rain</td>\n",
       "      <td>False</td>\n",
       "      <td>True</td>\n",
       "    </tr>\n",
       "  </tbody>\n",
       "</table>\n",
       "</div>"
      ],
      "text/plain": [
       "            precipitation  temp_max  temp_min  wind  weather  sunny_day  \\\n",
       "date                                                                      \n",
       "2012-01-01           0.00     12.80      5.00  4.70  drizzle      False   \n",
       "2012-01-02          10.90     10.60      2.80  4.50     rain      False   \n",
       "2012-01-03           0.80     11.70      7.20  2.30     rain      False   \n",
       "2012-01-04          20.30     12.20      5.60  4.70     rain      False   \n",
       "2012-01-05           1.30      8.90      2.80  6.10     rain      False   \n",
       "\n",
       "            rainy_day  \n",
       "date                   \n",
       "2012-01-01      False  \n",
       "2012-01-02       True  \n",
       "2012-01-03       True  \n",
       "2012-01-04       True  \n",
       "2012-01-05       True  "
      ]
     },
     "execution_count": 79,
     "metadata": {},
     "output_type": "execute_result"
    }
   ],
   "source": [
    "seattle_weather.head()"
   ]
  },
  {
   "cell_type": "code",
   "execution_count": 80,
   "id": "18794134",
   "metadata": {},
   "outputs": [],
   "source": [
    "\n",
    "#create column to identify month!\n",
    "seattle_weather['month'] = seattle_weather.index.month"
   ]
  },
  {
   "cell_type": "code",
   "execution_count": 81,
   "id": "9a364fd7",
   "metadata": {},
   "outputs": [
    {
     "data": {
      "text/html": [
       "<div>\n",
       "<style scoped>\n",
       "    .dataframe tbody tr th:only-of-type {\n",
       "        vertical-align: middle;\n",
       "    }\n",
       "\n",
       "    .dataframe tbody tr th {\n",
       "        vertical-align: top;\n",
       "    }\n",
       "\n",
       "    .dataframe thead th {\n",
       "        text-align: right;\n",
       "    }\n",
       "</style>\n",
       "<table border=\"1\" class=\"dataframe\">\n",
       "  <thead>\n",
       "    <tr style=\"text-align: right;\">\n",
       "      <th></th>\n",
       "      <th>precipitation</th>\n",
       "      <th>temp_max</th>\n",
       "      <th>temp_min</th>\n",
       "      <th>wind</th>\n",
       "      <th>weather</th>\n",
       "      <th>sunny_day</th>\n",
       "      <th>rainy_day</th>\n",
       "      <th>month</th>\n",
       "    </tr>\n",
       "    <tr>\n",
       "      <th>date</th>\n",
       "      <th></th>\n",
       "      <th></th>\n",
       "      <th></th>\n",
       "      <th></th>\n",
       "      <th></th>\n",
       "      <th></th>\n",
       "      <th></th>\n",
       "      <th></th>\n",
       "    </tr>\n",
       "  </thead>\n",
       "  <tbody>\n",
       "    <tr>\n",
       "      <th>2012-01-01</th>\n",
       "      <td>0.00</td>\n",
       "      <td>12.80</td>\n",
       "      <td>5.00</td>\n",
       "      <td>4.70</td>\n",
       "      <td>drizzle</td>\n",
       "      <td>False</td>\n",
       "      <td>False</td>\n",
       "      <td>1</td>\n",
       "    </tr>\n",
       "    <tr>\n",
       "      <th>2012-01-02</th>\n",
       "      <td>10.90</td>\n",
       "      <td>10.60</td>\n",
       "      <td>2.80</td>\n",
       "      <td>4.50</td>\n",
       "      <td>rain</td>\n",
       "      <td>False</td>\n",
       "      <td>True</td>\n",
       "      <td>1</td>\n",
       "    </tr>\n",
       "    <tr>\n",
       "      <th>2012-01-03</th>\n",
       "      <td>0.80</td>\n",
       "      <td>11.70</td>\n",
       "      <td>7.20</td>\n",
       "      <td>2.30</td>\n",
       "      <td>rain</td>\n",
       "      <td>False</td>\n",
       "      <td>True</td>\n",
       "      <td>1</td>\n",
       "    </tr>\n",
       "    <tr>\n",
       "      <th>2012-01-04</th>\n",
       "      <td>20.30</td>\n",
       "      <td>12.20</td>\n",
       "      <td>5.60</td>\n",
       "      <td>4.70</td>\n",
       "      <td>rain</td>\n",
       "      <td>False</td>\n",
       "      <td>True</td>\n",
       "      <td>1</td>\n",
       "    </tr>\n",
       "    <tr>\n",
       "      <th>2012-01-05</th>\n",
       "      <td>1.30</td>\n",
       "      <td>8.90</td>\n",
       "      <td>2.80</td>\n",
       "      <td>6.10</td>\n",
       "      <td>rain</td>\n",
       "      <td>False</td>\n",
       "      <td>True</td>\n",
       "      <td>1</td>\n",
       "    </tr>\n",
       "  </tbody>\n",
       "</table>\n",
       "</div>"
      ],
      "text/plain": [
       "            precipitation  temp_max  temp_min  wind  weather  sunny_day  \\\n",
       "date                                                                      \n",
       "2012-01-01           0.00     12.80      5.00  4.70  drizzle      False   \n",
       "2012-01-02          10.90     10.60      2.80  4.50     rain      False   \n",
       "2012-01-03           0.80     11.70      7.20  2.30     rain      False   \n",
       "2012-01-04          20.30     12.20      5.60  4.70     rain      False   \n",
       "2012-01-05           1.30      8.90      2.80  6.10     rain      False   \n",
       "\n",
       "            rainy_day  month  \n",
       "date                          \n",
       "2012-01-01      False      1  \n",
       "2012-01-02       True      1  \n",
       "2012-01-03       True      1  \n",
       "2012-01-04       True      1  \n",
       "2012-01-05       True      1  "
      ]
     },
     "execution_count": 81,
     "metadata": {},
     "output_type": "execute_result"
    }
   ],
   "source": [
    "seattle_weather.head()"
   ]
  },
  {
   "cell_type": "code",
   "execution_count": 82,
   "id": "59aecd46",
   "metadata": {},
   "outputs": [
    {
     "data": {
      "text/plain": [
       "date\n",
       "2012-11-30    25\n",
       "2012-12-31    23\n",
       "2013-02-28    23\n",
       "2012-03-31    19\n",
       "2012-04-30    19\n",
       "2012-06-30    19\n",
       "2013-03-31    18\n",
       "2012-01-31    18\n",
       "2012-10-31    17\n",
       "2012-02-29    17\n",
       "2013-01-31    16\n",
       "2012-05-31    16\n",
       "2012-07-31    12\n",
       "2012-09-30     4\n",
       "2012-08-31     2\n",
       "2015-08-31     2\n",
       "2013-10-31     1\n",
       "2014-08-31     1\n",
       "2014-07-31     1\n",
       "2015-01-31     1\n",
       "2015-04-30     1\n",
       "2014-10-31     1\n",
       "2013-08-31     1\n",
       "2013-07-31     1\n",
       "2015-10-31     1\n",
       "2015-07-31     0\n",
       "2015-06-30     0\n",
       "2015-05-31     0\n",
       "2015-03-31     0\n",
       "2015-02-28     0\n",
       "2014-11-30     0\n",
       "2015-11-30     0\n",
       "2014-12-31     0\n",
       "2015-09-30     0\n",
       "2014-01-31     0\n",
       "2014-09-30     0\n",
       "2014-06-30     0\n",
       "2014-05-31     0\n",
       "2014-04-30     0\n",
       "2014-03-31     0\n",
       "2014-02-28     0\n",
       "2013-12-31     0\n",
       "2013-11-30     0\n",
       "2013-09-30     0\n",
       "2013-06-30     0\n",
       "2013-05-31     0\n",
       "2013-04-30     0\n",
       "2015-12-31     0\n",
       "Name: rainy_day, dtype: int64"
      ]
     },
     "execution_count": 82,
     "metadata": {},
     "output_type": "execute_result"
    }
   ],
   "source": [
    "#resample by month to answer question\n",
    "#this only gives me monthly totals individuals\n",
    "seattle_weather.rainy_day.resample('M').sum().sort_values(ascending=False)"
   ]
  },
  {
   "cell_type": "code",
   "execution_count": 83,
   "id": "a9fa75dc",
   "metadata": {},
   "outputs": [
    {
     "data": {
      "text/plain": [
       "month\n",
       "11   642.50\n",
       "12   622.70\n",
       "3    606.20\n",
       "10   503.40\n",
       "1    466.00\n",
       "2    422.00\n",
       "4    375.40\n",
       "9    235.50\n",
       "5    207.50\n",
       "8    163.70\n",
       "6    132.90\n",
       "7     48.20\n",
       "Name: precipitation, dtype: float64"
      ]
     },
     "execution_count": 83,
     "metadata": {},
     "output_type": "execute_result"
    }
   ],
   "source": [
    "\n",
    "#by month... descending precipiation amounts\n",
    "seattle_weather.groupby('month').precipitation.sum().sort_values(ascending=False)\n",
    "\n",
    "#November had 642.5 days of rain between 2012 and 2015"
   ]
  },
  {
   "cell_type": "markdown",
   "id": "945d0c0d",
   "metadata": {},
   "source": [
    "Answer: November (11) with 642.50 precipitation\n"
   ]
  },
  {
   "cell_type": "markdown",
   "id": "4f76671e",
   "metadata": {},
   "source": [
    "## 7. Which month has the most number of days with a non-zero amount of precipitation?\n"
   ]
  },
  {
   "cell_type": "code",
   "execution_count": 85,
   "id": "0ca08ca9",
   "metadata": {},
   "outputs": [
    {
     "data": {
      "text/plain": [
       "month\n",
       "2    0.35\n",
       "3    0.30\n",
       "1    0.28\n",
       "11   0.21\n",
       "12   0.19\n",
       "4    0.17\n",
       "10   0.16\n",
       "6    0.16\n",
       "5    0.13\n",
       "7    0.11\n",
       "8    0.05\n",
       "9    0.03\n",
       "Name: rainy_day, dtype: float64"
      ]
     },
     "execution_count": 85,
     "metadata": {},
     "output_type": "execute_result"
    }
   ],
   "source": [
    "seattle_weather.groupby('month').rainy_day.mean().sort_values(ascending=False)\n"
   ]
  },
  {
   "cell_type": "code",
   "execution_count": 86,
   "id": "93e7f82a",
   "metadata": {},
   "outputs": [],
   "source": [
    "\n",
    "## Can also use precipitation\n",
    "seattle_weather['precip_amnt'] = seattle_weather.precipitation > 0"
   ]
  },
  {
   "cell_type": "code",
   "execution_count": 87,
   "id": "47eee4a0",
   "metadata": {},
   "outputs": [
    {
     "data": {
      "text/html": [
       "<div>\n",
       "<style scoped>\n",
       "    .dataframe tbody tr th:only-of-type {\n",
       "        vertical-align: middle;\n",
       "    }\n",
       "\n",
       "    .dataframe tbody tr th {\n",
       "        vertical-align: top;\n",
       "    }\n",
       "\n",
       "    .dataframe thead th {\n",
       "        text-align: right;\n",
       "    }\n",
       "</style>\n",
       "<table border=\"1\" class=\"dataframe\">\n",
       "  <thead>\n",
       "    <tr style=\"text-align: right;\">\n",
       "      <th></th>\n",
       "      <th>precipitation</th>\n",
       "      <th>temp_max</th>\n",
       "      <th>temp_min</th>\n",
       "      <th>wind</th>\n",
       "      <th>weather</th>\n",
       "      <th>sunny_day</th>\n",
       "      <th>rainy_day</th>\n",
       "      <th>month</th>\n",
       "      <th>precip_amnt</th>\n",
       "    </tr>\n",
       "    <tr>\n",
       "      <th>date</th>\n",
       "      <th></th>\n",
       "      <th></th>\n",
       "      <th></th>\n",
       "      <th></th>\n",
       "      <th></th>\n",
       "      <th></th>\n",
       "      <th></th>\n",
       "      <th></th>\n",
       "      <th></th>\n",
       "    </tr>\n",
       "  </thead>\n",
       "  <tbody>\n",
       "    <tr>\n",
       "      <th>2012-01-01</th>\n",
       "      <td>0.00</td>\n",
       "      <td>12.80</td>\n",
       "      <td>5.00</td>\n",
       "      <td>4.70</td>\n",
       "      <td>drizzle</td>\n",
       "      <td>False</td>\n",
       "      <td>False</td>\n",
       "      <td>1</td>\n",
       "      <td>False</td>\n",
       "    </tr>\n",
       "    <tr>\n",
       "      <th>2012-01-02</th>\n",
       "      <td>10.90</td>\n",
       "      <td>10.60</td>\n",
       "      <td>2.80</td>\n",
       "      <td>4.50</td>\n",
       "      <td>rain</td>\n",
       "      <td>False</td>\n",
       "      <td>True</td>\n",
       "      <td>1</td>\n",
       "      <td>True</td>\n",
       "    </tr>\n",
       "    <tr>\n",
       "      <th>2012-01-03</th>\n",
       "      <td>0.80</td>\n",
       "      <td>11.70</td>\n",
       "      <td>7.20</td>\n",
       "      <td>2.30</td>\n",
       "      <td>rain</td>\n",
       "      <td>False</td>\n",
       "      <td>True</td>\n",
       "      <td>1</td>\n",
       "      <td>True</td>\n",
       "    </tr>\n",
       "    <tr>\n",
       "      <th>2012-01-04</th>\n",
       "      <td>20.30</td>\n",
       "      <td>12.20</td>\n",
       "      <td>5.60</td>\n",
       "      <td>4.70</td>\n",
       "      <td>rain</td>\n",
       "      <td>False</td>\n",
       "      <td>True</td>\n",
       "      <td>1</td>\n",
       "      <td>True</td>\n",
       "    </tr>\n",
       "    <tr>\n",
       "      <th>2012-01-05</th>\n",
       "      <td>1.30</td>\n",
       "      <td>8.90</td>\n",
       "      <td>2.80</td>\n",
       "      <td>6.10</td>\n",
       "      <td>rain</td>\n",
       "      <td>False</td>\n",
       "      <td>True</td>\n",
       "      <td>1</td>\n",
       "      <td>True</td>\n",
       "    </tr>\n",
       "  </tbody>\n",
       "</table>\n",
       "</div>"
      ],
      "text/plain": [
       "            precipitation  temp_max  temp_min  wind  weather  sunny_day  \\\n",
       "date                                                                      \n",
       "2012-01-01           0.00     12.80      5.00  4.70  drizzle      False   \n",
       "2012-01-02          10.90     10.60      2.80  4.50     rain      False   \n",
       "2012-01-03           0.80     11.70      7.20  2.30     rain      False   \n",
       "2012-01-04          20.30     12.20      5.60  4.70     rain      False   \n",
       "2012-01-05           1.30      8.90      2.80  6.10     rain      False   \n",
       "\n",
       "            rainy_day  month  precip_amnt  \n",
       "date                                       \n",
       "2012-01-01      False      1        False  \n",
       "2012-01-02       True      1         True  \n",
       "2012-01-03       True      1         True  \n",
       "2012-01-04       True      1         True  \n",
       "2012-01-05       True      1         True  "
      ]
     },
     "execution_count": 87,
     "metadata": {},
     "output_type": "execute_result"
    }
   ],
   "source": [
    "seattle_weather.head()"
   ]
  },
  {
   "cell_type": "code",
   "execution_count": 88,
   "id": "74b4accc",
   "metadata": {},
   "outputs": [
    {
     "data": {
      "text/plain": [
       "month\n",
       "12   0.65\n",
       "2    0.65\n",
       "11   0.59\n",
       "3    0.59\n",
       "1    0.53\n",
       "10   0.49\n",
       "4    0.49\n",
       "6    0.31\n",
       "9    0.29\n",
       "5    0.27\n",
       "8    0.18\n",
       "7    0.09\n",
       "Name: precip_amnt, dtype: float64"
      ]
     },
     "execution_count": 88,
     "metadata": {},
     "output_type": "execute_result"
    }
   ],
   "source": [
    "seattle_weather.groupby('month').precip_amnt.mean().sort_values(ascending=False)\n"
   ]
  },
  {
   "cell_type": "markdown",
   "id": "894bdff7",
   "metadata": {},
   "source": [
    "# Flight Exercises:\n"
   ]
  },
  {
   "cell_type": "code",
   "execution_count": 89,
   "id": "c4e9eec5",
   "metadata": {},
   "outputs": [
    {
     "data": {
      "text/html": [
       "<div>\n",
       "<style scoped>\n",
       "    .dataframe tbody tr th:only-of-type {\n",
       "        vertical-align: middle;\n",
       "    }\n",
       "\n",
       "    .dataframe tbody tr th {\n",
       "        vertical-align: top;\n",
       "    }\n",
       "\n",
       "    .dataframe thead th {\n",
       "        text-align: right;\n",
       "    }\n",
       "</style>\n",
       "<table border=\"1\" class=\"dataframe\">\n",
       "  <thead>\n",
       "    <tr style=\"text-align: right;\">\n",
       "      <th></th>\n",
       "      <th>date</th>\n",
       "      <th>delay</th>\n",
       "      <th>distance</th>\n",
       "      <th>origin</th>\n",
       "      <th>destination</th>\n",
       "    </tr>\n",
       "  </thead>\n",
       "  <tbody>\n",
       "    <tr>\n",
       "      <th>0</th>\n",
       "      <td>2001-01-13 14:56:00</td>\n",
       "      <td>32</td>\n",
       "      <td>417</td>\n",
       "      <td>SAN</td>\n",
       "      <td>SJC</td>\n",
       "    </tr>\n",
       "    <tr>\n",
       "      <th>1</th>\n",
       "      <td>2001-01-31 16:40:00</td>\n",
       "      <td>-5</td>\n",
       "      <td>1093</td>\n",
       "      <td>FLL</td>\n",
       "      <td>ISP</td>\n",
       "    </tr>\n",
       "    <tr>\n",
       "      <th>2</th>\n",
       "      <td>2001-02-11 18:39:00</td>\n",
       "      <td>3</td>\n",
       "      <td>293</td>\n",
       "      <td>LBB</td>\n",
       "      <td>DAL</td>\n",
       "    </tr>\n",
       "    <tr>\n",
       "      <th>3</th>\n",
       "      <td>2001-01-10 21:00:00</td>\n",
       "      <td>-15</td>\n",
       "      <td>550</td>\n",
       "      <td>MSY</td>\n",
       "      <td>MCO</td>\n",
       "    </tr>\n",
       "    <tr>\n",
       "      <th>4</th>\n",
       "      <td>2001-03-30 21:45:00</td>\n",
       "      <td>-2</td>\n",
       "      <td>229</td>\n",
       "      <td>STL</td>\n",
       "      <td>IND</td>\n",
       "    </tr>\n",
       "    <tr>\n",
       "      <th>...</th>\n",
       "      <td>...</td>\n",
       "      <td>...</td>\n",
       "      <td>...</td>\n",
       "      <td>...</td>\n",
       "      <td>...</td>\n",
       "    </tr>\n",
       "    <tr>\n",
       "      <th>19995</th>\n",
       "      <td>2001-03-22 15:10:00</td>\n",
       "      <td>4</td>\n",
       "      <td>446</td>\n",
       "      <td>SAN</td>\n",
       "      <td>OAK</td>\n",
       "    </tr>\n",
       "    <tr>\n",
       "      <th>19996</th>\n",
       "      <td>2001-01-19 13:05:00</td>\n",
       "      <td>-6</td>\n",
       "      <td>1489</td>\n",
       "      <td>SEA</td>\n",
       "      <td>MCI</td>\n",
       "    </tr>\n",
       "    <tr>\n",
       "      <th>19997</th>\n",
       "      <td>2001-02-07 11:37:00</td>\n",
       "      <td>-16</td>\n",
       "      <td>1848</td>\n",
       "      <td>MCO</td>\n",
       "      <td>PHX</td>\n",
       "    </tr>\n",
       "    <tr>\n",
       "      <th>19998</th>\n",
       "      <td>2001-02-24 16:50:00</td>\n",
       "      <td>42</td>\n",
       "      <td>443</td>\n",
       "      <td>RDU</td>\n",
       "      <td>BNA</td>\n",
       "    </tr>\n",
       "    <tr>\n",
       "      <th>19999</th>\n",
       "      <td>2001-03-14 11:33:00</td>\n",
       "      <td>0</td>\n",
       "      <td>328</td>\n",
       "      <td>ABQ</td>\n",
       "      <td>PHX</td>\n",
       "    </tr>\n",
       "  </tbody>\n",
       "</table>\n",
       "<p>20000 rows × 5 columns</p>\n",
       "</div>"
      ],
      "text/plain": [
       "                     date  delay  distance origin destination\n",
       "0     2001-01-13 14:56:00     32       417    SAN         SJC\n",
       "1     2001-01-31 16:40:00     -5      1093    FLL         ISP\n",
       "2     2001-02-11 18:39:00      3       293    LBB         DAL\n",
       "3     2001-01-10 21:00:00    -15       550    MSY         MCO\n",
       "4     2001-03-30 21:45:00     -2       229    STL         IND\n",
       "...                   ...    ...       ...    ...         ...\n",
       "19995 2001-03-22 15:10:00      4       446    SAN         OAK\n",
       "19996 2001-01-19 13:05:00     -6      1489    SEA         MCI\n",
       "19997 2001-02-07 11:37:00    -16      1848    MCO         PHX\n",
       "19998 2001-02-24 16:50:00     42       443    RDU         BNA\n",
       "19999 2001-03-14 11:33:00      0       328    ABQ         PHX\n",
       "\n",
       "[20000 rows x 5 columns]"
      ]
     },
     "execution_count": 89,
     "metadata": {},
     "output_type": "execute_result"
    }
   ],
   "source": [
    "# Load the flights_20k dataset\n",
    "flights = data.flights_20k()\n",
    "flights"
   ]
  },
  {
   "cell_type": "code",
   "execution_count": 90,
   "id": "18ecf72e",
   "metadata": {},
   "outputs": [
    {
     "name": "stdout",
     "output_type": "stream",
     "text": [
      "<class 'pandas.core.frame.DataFrame'>\n",
      "RangeIndex: 20000 entries, 0 to 19999\n",
      "Data columns (total 5 columns):\n",
      " #   Column       Non-Null Count  Dtype         \n",
      "---  ------       --------------  -----         \n",
      " 0   date         20000 non-null  datetime64[ns]\n",
      " 1   delay        20000 non-null  int64         \n",
      " 2   distance     20000 non-null  int64         \n",
      " 3   origin       20000 non-null  object        \n",
      " 4   destination  20000 non-null  object        \n",
      "dtypes: datetime64[ns](1), int64(2), object(2)\n",
      "memory usage: 781.4+ KB\n"
     ]
    }
   ],
   "source": [
    "#check dtypes\n",
    "flights.info()"
   ]
  },
  {
   "cell_type": "code",
   "execution_count": 91,
   "id": "be51ce88",
   "metadata": {},
   "outputs": [
    {
     "data": {
      "text/plain": [
       "pandas.core.indexes.range.RangeIndex"
      ]
     },
     "execution_count": 91,
     "metadata": {},
     "output_type": "execute_result"
    }
   ],
   "source": [
    "#check the index- should be date\n",
    "type(flights.index)"
   ]
  },
  {
   "cell_type": "code",
   "execution_count": 92,
   "id": "b0f33669",
   "metadata": {},
   "outputs": [],
   "source": [
    "#must complete step 2&3 (set date as index and sort)\n",
    "flights = flights.set_index('date').sort_index()"
   ]
  },
  {
   "cell_type": "code",
   "execution_count": 93,
   "id": "ce23ec56",
   "metadata": {},
   "outputs": [
    {
     "data": {
      "text/plain": [
       "pandas.core.indexes.datetimes.DatetimeIndex"
      ]
     },
     "execution_count": 93,
     "metadata": {},
     "output_type": "execute_result"
    }
   ],
   "source": [
    "#confirm the change\n",
    "type(flights.index)"
   ]
  },
  {
   "cell_type": "markdown",
   "id": "b4bbf01a",
   "metadata": {},
   "source": [
    "# Third Part\n"
   ]
  },
  {
   "cell_type": "markdown",
   "id": "d5eed0bd",
   "metadata": {},
   "source": [
    "## Use the above dataset for the following exercises:"
   ]
  },
  {
   "cell_type": "markdown",
   "id": "de6e6ffa",
   "metadata": {},
   "source": [
    "## 1. Convert any negative delays to 0."
   ]
  },
  {
   "cell_type": "code",
   "execution_count": 94,
   "id": "e4eaee67",
   "metadata": {},
   "outputs": [],
   "source": [
    "flights['neg_delay'] = flights.delay < 0\n"
   ]
  },
  {
   "cell_type": "code",
   "execution_count": 95,
   "id": "71f95513",
   "metadata": {},
   "outputs": [],
   "source": [
    "#turn all neg values into 0\n",
    "flights['delay'] = flights['delay'].apply(lambda x : x if x > 0 else 0)"
   ]
  },
  {
   "cell_type": "code",
   "execution_count": 96,
   "id": "16bc0dd0",
   "metadata": {},
   "outputs": [
    {
     "data": {
      "text/html": [
       "<div>\n",
       "<style scoped>\n",
       "    .dataframe tbody tr th:only-of-type {\n",
       "        vertical-align: middle;\n",
       "    }\n",
       "\n",
       "    .dataframe tbody tr th {\n",
       "        vertical-align: top;\n",
       "    }\n",
       "\n",
       "    .dataframe thead th {\n",
       "        text-align: right;\n",
       "    }\n",
       "</style>\n",
       "<table border=\"1\" class=\"dataframe\">\n",
       "  <thead>\n",
       "    <tr style=\"text-align: right;\">\n",
       "      <th></th>\n",
       "      <th>delay</th>\n",
       "      <th>distance</th>\n",
       "      <th>origin</th>\n",
       "      <th>destination</th>\n",
       "      <th>neg_delay</th>\n",
       "    </tr>\n",
       "    <tr>\n",
       "      <th>date</th>\n",
       "      <th></th>\n",
       "      <th></th>\n",
       "      <th></th>\n",
       "      <th></th>\n",
       "      <th></th>\n",
       "    </tr>\n",
       "  </thead>\n",
       "  <tbody>\n",
       "    <tr>\n",
       "      <th>2001-01-01 00:01:00</th>\n",
       "      <td>14</td>\n",
       "      <td>405</td>\n",
       "      <td>MCI</td>\n",
       "      <td>MDW</td>\n",
       "      <td>False</td>\n",
       "    </tr>\n",
       "    <tr>\n",
       "      <th>2001-01-01 06:20:00</th>\n",
       "      <td>0</td>\n",
       "      <td>491</td>\n",
       "      <td>BNA</td>\n",
       "      <td>MCI</td>\n",
       "      <td>False</td>\n",
       "    </tr>\n",
       "    <tr>\n",
       "      <th>2001-01-01 06:30:00</th>\n",
       "      <td>0</td>\n",
       "      <td>251</td>\n",
       "      <td>MDW</td>\n",
       "      <td>STL</td>\n",
       "      <td>True</td>\n",
       "    </tr>\n",
       "    <tr>\n",
       "      <th>2001-01-01 07:00:00</th>\n",
       "      <td>0</td>\n",
       "      <td>361</td>\n",
       "      <td>OAK</td>\n",
       "      <td>ONT</td>\n",
       "      <td>True</td>\n",
       "    </tr>\n",
       "    <tr>\n",
       "      <th>2001-01-01 07:00:00</th>\n",
       "      <td>0</td>\n",
       "      <td>303</td>\n",
       "      <td>MSY</td>\n",
       "      <td>HOU</td>\n",
       "      <td>False</td>\n",
       "    </tr>\n",
       "    <tr>\n",
       "      <th>...</th>\n",
       "      <td>...</td>\n",
       "      <td>...</td>\n",
       "      <td>...</td>\n",
       "      <td>...</td>\n",
       "      <td>...</td>\n",
       "    </tr>\n",
       "    <tr>\n",
       "      <th>2001-03-31 21:02:00</th>\n",
       "      <td>26</td>\n",
       "      <td>303</td>\n",
       "      <td>MSY</td>\n",
       "      <td>HOU</td>\n",
       "      <td>False</td>\n",
       "    </tr>\n",
       "    <tr>\n",
       "      <th>2001-03-31 21:05:00</th>\n",
       "      <td>0</td>\n",
       "      <td>318</td>\n",
       "      <td>FLL</td>\n",
       "      <td>JAX</td>\n",
       "      <td>True</td>\n",
       "    </tr>\n",
       "    <tr>\n",
       "      <th>2001-03-31 21:05:00</th>\n",
       "      <td>0</td>\n",
       "      <td>451</td>\n",
       "      <td>MCI</td>\n",
       "      <td>IND</td>\n",
       "      <td>True</td>\n",
       "    </tr>\n",
       "    <tr>\n",
       "      <th>2001-03-31 21:30:00</th>\n",
       "      <td>30</td>\n",
       "      <td>174</td>\n",
       "      <td>TPA</td>\n",
       "      <td>PBI</td>\n",
       "      <td>False</td>\n",
       "    </tr>\n",
       "    <tr>\n",
       "      <th>2001-03-31 21:30:00</th>\n",
       "      <td>0</td>\n",
       "      <td>495</td>\n",
       "      <td>BWI</td>\n",
       "      <td>SDF</td>\n",
       "      <td>True</td>\n",
       "    </tr>\n",
       "  </tbody>\n",
       "</table>\n",
       "<p>20000 rows × 5 columns</p>\n",
       "</div>"
      ],
      "text/plain": [
       "                     delay  distance origin destination  neg_delay\n",
       "date                                                              \n",
       "2001-01-01 00:01:00     14       405    MCI         MDW      False\n",
       "2001-01-01 06:20:00      0       491    BNA         MCI      False\n",
       "2001-01-01 06:30:00      0       251    MDW         STL       True\n",
       "2001-01-01 07:00:00      0       361    OAK         ONT       True\n",
       "2001-01-01 07:00:00      0       303    MSY         HOU      False\n",
       "...                    ...       ...    ...         ...        ...\n",
       "2001-03-31 21:02:00     26       303    MSY         HOU      False\n",
       "2001-03-31 21:05:00      0       318    FLL         JAX       True\n",
       "2001-03-31 21:05:00      0       451    MCI         IND       True\n",
       "2001-03-31 21:30:00     30       174    TPA         PBI      False\n",
       "2001-03-31 21:30:00      0       495    BWI         SDF       True\n",
       "\n",
       "[20000 rows x 5 columns]"
      ]
     },
     "execution_count": 96,
     "metadata": {},
     "output_type": "execute_result"
    }
   ],
   "source": [
    "#make sure it worked\n",
    "flights"
   ]
  },
  {
   "cell_type": "code",
   "execution_count": 97,
   "id": "1b7d3331",
   "metadata": {},
   "outputs": [
    {
     "data": {
      "text/plain": [
       "0"
      ]
     },
     "execution_count": 97,
     "metadata": {},
     "output_type": "execute_result"
    }
   ],
   "source": [
    "#should not be any negative values\n",
    "flights.delay.min()"
   ]
  },
  {
   "cell_type": "markdown",
   "id": "2b079fd6",
   "metadata": {},
   "source": [
    "## 2. Which hour of the day has the highest average delay?\n"
   ]
  },
  {
   "cell_type": "code",
   "execution_count": 98,
   "id": "422112ad",
   "metadata": {},
   "outputs": [
    {
     "data": {
      "text/plain": [
       "date\n",
       "2001-01-01 00:00:00   14.00\n",
       "2001-01-01 01:00:00     NaN\n",
       "2001-01-01 02:00:00     NaN\n",
       "2001-01-01 03:00:00     NaN\n",
       "2001-01-01 04:00:00     NaN\n",
       "                       ... \n",
       "2001-03-31 17:00:00   11.67\n",
       "2001-03-31 18:00:00   12.54\n",
       "2001-03-31 19:00:00   22.12\n",
       "2001-03-31 20:00:00   27.60\n",
       "2001-03-31 21:00:00   11.20\n",
       "Freq: H, Name: delay, Length: 2158, dtype: float64"
      ]
     },
     "execution_count": 98,
     "metadata": {},
     "output_type": "execute_result"
    }
   ],
   "source": [
    "#resample by the hour, get average delay time\n",
    "flights.resample('H').delay.mean()"
   ]
  },
  {
   "cell_type": "code",
   "execution_count": 99,
   "id": "6472002e",
   "metadata": {},
   "outputs": [],
   "source": [
    "#create column that shows what hour the time is in\n",
    "flights['hour'] = flights.index.hour"
   ]
  },
  {
   "cell_type": "code",
   "execution_count": 100,
   "id": "4f4b0650",
   "metadata": {},
   "outputs": [
    {
     "data": {
      "text/html": [
       "<div>\n",
       "<style scoped>\n",
       "    .dataframe tbody tr th:only-of-type {\n",
       "        vertical-align: middle;\n",
       "    }\n",
       "\n",
       "    .dataframe tbody tr th {\n",
       "        vertical-align: top;\n",
       "    }\n",
       "\n",
       "    .dataframe thead th {\n",
       "        text-align: right;\n",
       "    }\n",
       "</style>\n",
       "<table border=\"1\" class=\"dataframe\">\n",
       "  <thead>\n",
       "    <tr style=\"text-align: right;\">\n",
       "      <th></th>\n",
       "      <th>delay</th>\n",
       "      <th>distance</th>\n",
       "      <th>origin</th>\n",
       "      <th>destination</th>\n",
       "      <th>neg_delay</th>\n",
       "      <th>hour</th>\n",
       "    </tr>\n",
       "    <tr>\n",
       "      <th>date</th>\n",
       "      <th></th>\n",
       "      <th></th>\n",
       "      <th></th>\n",
       "      <th></th>\n",
       "      <th></th>\n",
       "      <th></th>\n",
       "    </tr>\n",
       "  </thead>\n",
       "  <tbody>\n",
       "    <tr>\n",
       "      <th>2001-01-01 00:01:00</th>\n",
       "      <td>14</td>\n",
       "      <td>405</td>\n",
       "      <td>MCI</td>\n",
       "      <td>MDW</td>\n",
       "      <td>False</td>\n",
       "      <td>0</td>\n",
       "    </tr>\n",
       "    <tr>\n",
       "      <th>2001-01-01 06:20:00</th>\n",
       "      <td>0</td>\n",
       "      <td>491</td>\n",
       "      <td>BNA</td>\n",
       "      <td>MCI</td>\n",
       "      <td>False</td>\n",
       "      <td>6</td>\n",
       "    </tr>\n",
       "    <tr>\n",
       "      <th>2001-01-01 06:30:00</th>\n",
       "      <td>0</td>\n",
       "      <td>251</td>\n",
       "      <td>MDW</td>\n",
       "      <td>STL</td>\n",
       "      <td>True</td>\n",
       "      <td>6</td>\n",
       "    </tr>\n",
       "    <tr>\n",
       "      <th>2001-01-01 07:00:00</th>\n",
       "      <td>0</td>\n",
       "      <td>361</td>\n",
       "      <td>OAK</td>\n",
       "      <td>ONT</td>\n",
       "      <td>True</td>\n",
       "      <td>7</td>\n",
       "    </tr>\n",
       "    <tr>\n",
       "      <th>2001-01-01 07:00:00</th>\n",
       "      <td>0</td>\n",
       "      <td>303</td>\n",
       "      <td>MSY</td>\n",
       "      <td>HOU</td>\n",
       "      <td>False</td>\n",
       "      <td>7</td>\n",
       "    </tr>\n",
       "    <tr>\n",
       "      <th>...</th>\n",
       "      <td>...</td>\n",
       "      <td>...</td>\n",
       "      <td>...</td>\n",
       "      <td>...</td>\n",
       "      <td>...</td>\n",
       "      <td>...</td>\n",
       "    </tr>\n",
       "    <tr>\n",
       "      <th>2001-03-31 21:02:00</th>\n",
       "      <td>26</td>\n",
       "      <td>303</td>\n",
       "      <td>MSY</td>\n",
       "      <td>HOU</td>\n",
       "      <td>False</td>\n",
       "      <td>21</td>\n",
       "    </tr>\n",
       "    <tr>\n",
       "      <th>2001-03-31 21:05:00</th>\n",
       "      <td>0</td>\n",
       "      <td>318</td>\n",
       "      <td>FLL</td>\n",
       "      <td>JAX</td>\n",
       "      <td>True</td>\n",
       "      <td>21</td>\n",
       "    </tr>\n",
       "    <tr>\n",
       "      <th>2001-03-31 21:05:00</th>\n",
       "      <td>0</td>\n",
       "      <td>451</td>\n",
       "      <td>MCI</td>\n",
       "      <td>IND</td>\n",
       "      <td>True</td>\n",
       "      <td>21</td>\n",
       "    </tr>\n",
       "    <tr>\n",
       "      <th>2001-03-31 21:30:00</th>\n",
       "      <td>30</td>\n",
       "      <td>174</td>\n",
       "      <td>TPA</td>\n",
       "      <td>PBI</td>\n",
       "      <td>False</td>\n",
       "      <td>21</td>\n",
       "    </tr>\n",
       "    <tr>\n",
       "      <th>2001-03-31 21:30:00</th>\n",
       "      <td>0</td>\n",
       "      <td>495</td>\n",
       "      <td>BWI</td>\n",
       "      <td>SDF</td>\n",
       "      <td>True</td>\n",
       "      <td>21</td>\n",
       "    </tr>\n",
       "  </tbody>\n",
       "</table>\n",
       "<p>20000 rows × 6 columns</p>\n",
       "</div>"
      ],
      "text/plain": [
       "                     delay  distance origin destination  neg_delay  hour\n",
       "date                                                                    \n",
       "2001-01-01 00:01:00     14       405    MCI         MDW      False     0\n",
       "2001-01-01 06:20:00      0       491    BNA         MCI      False     6\n",
       "2001-01-01 06:30:00      0       251    MDW         STL       True     6\n",
       "2001-01-01 07:00:00      0       361    OAK         ONT       True     7\n",
       "2001-01-01 07:00:00      0       303    MSY         HOU      False     7\n",
       "...                    ...       ...    ...         ...        ...   ...\n",
       "2001-03-31 21:02:00     26       303    MSY         HOU      False    21\n",
       "2001-03-31 21:05:00      0       318    FLL         JAX       True    21\n",
       "2001-03-31 21:05:00      0       451    MCI         IND       True    21\n",
       "2001-03-31 21:30:00     30       174    TPA         PBI      False    21\n",
       "2001-03-31 21:30:00      0       495    BWI         SDF       True    21\n",
       "\n",
       "[20000 rows x 6 columns]"
      ]
     },
     "execution_count": 100,
     "metadata": {},
     "output_type": "execute_result"
    }
   ],
   "source": [
    "#make sure column for hour was created\n",
    "flights"
   ]
  },
  {
   "cell_type": "code",
   "execution_count": 101,
   "id": "b0b0811b",
   "metadata": {},
   "outputs": [
    {
     "data": {
      "text/plain": [
       "hour\n",
       "20    20126\n",
       "21    19875\n",
       "19    19833\n",
       "17    18849\n",
       "18    18375\n",
       "16    17157\n",
       "15    16041\n",
       "14    14036\n",
       "13    13492\n",
       "22    12068\n",
       "12    11951\n",
       "11     9062\n",
       "10     6752\n",
       "9      5993\n",
       "8      5421\n",
       "7      4356\n",
       "23     4248\n",
       "6      2425\n",
       "0      1535\n",
       "3       605\n",
       "1       170\n",
       "5        19\n",
       "Name: delay, dtype: int64"
      ]
     },
     "execution_count": 101,
     "metadata": {},
     "output_type": "execute_result"
    }
   ],
   "source": [
    "#by hour- find delays descending\n",
    "flights.groupby('hour').delay.sum().sort_values(ascending=False)\n",
    "\n",
    "#hour 20 has most delays"
   ]
  },
  {
   "cell_type": "markdown",
   "id": "a1d63e69",
   "metadata": {},
   "source": [
    "Answer: 8pm (20) with 20126 minutes of delay\n"
   ]
  },
  {
   "cell_type": "markdown",
   "id": "208c6d0b",
   "metadata": {},
   "source": [
    "## 3. Does the day of the week make a difference in the delay amount?\n"
   ]
  },
  {
   "cell_type": "code",
   "execution_count": 102,
   "id": "a0b3ae1c",
   "metadata": {},
   "outputs": [
    {
     "data": {
      "text/plain": [
       "date\n",
       "2001-01-01    8.75\n",
       "2001-01-02   21.81\n",
       "2001-01-03   17.15\n",
       "2001-01-04    7.18\n",
       "2001-01-05    9.29\n",
       "              ... \n",
       "2001-03-27    4.67\n",
       "2001-03-28    3.55\n",
       "2001-03-29   13.55\n",
       "2001-03-30    8.89\n",
       "2001-03-31    7.00\n",
       "Freq: D, Name: delay, Length: 90, dtype: float64"
      ]
     },
     "execution_count": 102,
     "metadata": {},
     "output_type": "execute_result"
    }
   ],
   "source": [
    "flights.resample('D').delay.mean()\n"
   ]
  },
  {
   "cell_type": "code",
   "execution_count": 104,
   "id": "0b2013d8",
   "metadata": {},
   "outputs": [
    {
     "data": {
      "text/html": [
       "<div>\n",
       "<style scoped>\n",
       "    .dataframe tbody tr th:only-of-type {\n",
       "        vertical-align: middle;\n",
       "    }\n",
       "\n",
       "    .dataframe tbody tr th {\n",
       "        vertical-align: top;\n",
       "    }\n",
       "\n",
       "    .dataframe thead th {\n",
       "        text-align: right;\n",
       "    }\n",
       "</style>\n",
       "<table border=\"1\" class=\"dataframe\">\n",
       "  <thead>\n",
       "    <tr style=\"text-align: right;\">\n",
       "      <th></th>\n",
       "      <th>delay</th>\n",
       "      <th>distance</th>\n",
       "      <th>origin</th>\n",
       "      <th>destination</th>\n",
       "      <th>neg_delay</th>\n",
       "      <th>hour</th>\n",
       "      <th>day</th>\n",
       "    </tr>\n",
       "    <tr>\n",
       "      <th>date</th>\n",
       "      <th></th>\n",
       "      <th></th>\n",
       "      <th></th>\n",
       "      <th></th>\n",
       "      <th></th>\n",
       "      <th></th>\n",
       "      <th></th>\n",
       "    </tr>\n",
       "  </thead>\n",
       "  <tbody>\n",
       "    <tr>\n",
       "      <th>2001-01-01 00:01:00</th>\n",
       "      <td>14</td>\n",
       "      <td>405</td>\n",
       "      <td>MCI</td>\n",
       "      <td>MDW</td>\n",
       "      <td>False</td>\n",
       "      <td>0</td>\n",
       "      <td>Monday</td>\n",
       "    </tr>\n",
       "    <tr>\n",
       "      <th>2001-01-01 06:20:00</th>\n",
       "      <td>0</td>\n",
       "      <td>491</td>\n",
       "      <td>BNA</td>\n",
       "      <td>MCI</td>\n",
       "      <td>False</td>\n",
       "      <td>6</td>\n",
       "      <td>Monday</td>\n",
       "    </tr>\n",
       "    <tr>\n",
       "      <th>2001-01-01 06:30:00</th>\n",
       "      <td>0</td>\n",
       "      <td>251</td>\n",
       "      <td>MDW</td>\n",
       "      <td>STL</td>\n",
       "      <td>True</td>\n",
       "      <td>6</td>\n",
       "      <td>Monday</td>\n",
       "    </tr>\n",
       "    <tr>\n",
       "      <th>2001-01-01 07:00:00</th>\n",
       "      <td>0</td>\n",
       "      <td>361</td>\n",
       "      <td>OAK</td>\n",
       "      <td>ONT</td>\n",
       "      <td>True</td>\n",
       "      <td>7</td>\n",
       "      <td>Monday</td>\n",
       "    </tr>\n",
       "    <tr>\n",
       "      <th>2001-01-01 07:00:00</th>\n",
       "      <td>0</td>\n",
       "      <td>303</td>\n",
       "      <td>MSY</td>\n",
       "      <td>HOU</td>\n",
       "      <td>False</td>\n",
       "      <td>7</td>\n",
       "      <td>Monday</td>\n",
       "    </tr>\n",
       "    <tr>\n",
       "      <th>...</th>\n",
       "      <td>...</td>\n",
       "      <td>...</td>\n",
       "      <td>...</td>\n",
       "      <td>...</td>\n",
       "      <td>...</td>\n",
       "      <td>...</td>\n",
       "      <td>...</td>\n",
       "    </tr>\n",
       "    <tr>\n",
       "      <th>2001-03-31 21:02:00</th>\n",
       "      <td>26</td>\n",
       "      <td>303</td>\n",
       "      <td>MSY</td>\n",
       "      <td>HOU</td>\n",
       "      <td>False</td>\n",
       "      <td>21</td>\n",
       "      <td>Saturday</td>\n",
       "    </tr>\n",
       "    <tr>\n",
       "      <th>2001-03-31 21:05:00</th>\n",
       "      <td>0</td>\n",
       "      <td>318</td>\n",
       "      <td>FLL</td>\n",
       "      <td>JAX</td>\n",
       "      <td>True</td>\n",
       "      <td>21</td>\n",
       "      <td>Saturday</td>\n",
       "    </tr>\n",
       "    <tr>\n",
       "      <th>2001-03-31 21:05:00</th>\n",
       "      <td>0</td>\n",
       "      <td>451</td>\n",
       "      <td>MCI</td>\n",
       "      <td>IND</td>\n",
       "      <td>True</td>\n",
       "      <td>21</td>\n",
       "      <td>Saturday</td>\n",
       "    </tr>\n",
       "    <tr>\n",
       "      <th>2001-03-31 21:30:00</th>\n",
       "      <td>30</td>\n",
       "      <td>174</td>\n",
       "      <td>TPA</td>\n",
       "      <td>PBI</td>\n",
       "      <td>False</td>\n",
       "      <td>21</td>\n",
       "      <td>Saturday</td>\n",
       "    </tr>\n",
       "    <tr>\n",
       "      <th>2001-03-31 21:30:00</th>\n",
       "      <td>0</td>\n",
       "      <td>495</td>\n",
       "      <td>BWI</td>\n",
       "      <td>SDF</td>\n",
       "      <td>True</td>\n",
       "      <td>21</td>\n",
       "      <td>Saturday</td>\n",
       "    </tr>\n",
       "  </tbody>\n",
       "</table>\n",
       "<p>20000 rows × 7 columns</p>\n",
       "</div>"
      ],
      "text/plain": [
       "                     delay  distance origin destination  neg_delay  hour  \\\n",
       "date                                                                       \n",
       "2001-01-01 00:01:00     14       405    MCI         MDW      False     0   \n",
       "2001-01-01 06:20:00      0       491    BNA         MCI      False     6   \n",
       "2001-01-01 06:30:00      0       251    MDW         STL       True     6   \n",
       "2001-01-01 07:00:00      0       361    OAK         ONT       True     7   \n",
       "2001-01-01 07:00:00      0       303    MSY         HOU      False     7   \n",
       "...                    ...       ...    ...         ...        ...   ...   \n",
       "2001-03-31 21:02:00     26       303    MSY         HOU      False    21   \n",
       "2001-03-31 21:05:00      0       318    FLL         JAX       True    21   \n",
       "2001-03-31 21:05:00      0       451    MCI         IND       True    21   \n",
       "2001-03-31 21:30:00     30       174    TPA         PBI      False    21   \n",
       "2001-03-31 21:30:00      0       495    BWI         SDF       True    21   \n",
       "\n",
       "                          day  \n",
       "date                           \n",
       "2001-01-01 00:01:00    Monday  \n",
       "2001-01-01 06:20:00    Monday  \n",
       "2001-01-01 06:30:00    Monday  \n",
       "2001-01-01 07:00:00    Monday  \n",
       "2001-01-01 07:00:00    Monday  \n",
       "...                       ...  \n",
       "2001-03-31 21:02:00  Saturday  \n",
       "2001-03-31 21:05:00  Saturday  \n",
       "2001-03-31 21:05:00  Saturday  \n",
       "2001-03-31 21:30:00  Saturday  \n",
       "2001-03-31 21:30:00  Saturday  \n",
       "\n",
       "[20000 rows x 7 columns]"
      ]
     },
     "execution_count": 104,
     "metadata": {},
     "output_type": "execute_result"
    }
   ],
   "source": [
    "flights['day'] = flights.index.day_name()\n",
    "flights"
   ]
  },
  {
   "cell_type": "code",
   "execution_count": 105,
   "id": "901509f4",
   "metadata": {},
   "outputs": [
    {
     "data": {
      "text/plain": [
       "day\n",
       "Friday      17.76\n",
       "Thursday    12.82\n",
       "Wednesday   11.03\n",
       "Sunday      10.41\n",
       "Tuesday      9.41\n",
       "Saturday     8.43\n",
       "Monday       7.17\n",
       "Name: delay, dtype: float64"
      ]
     },
     "execution_count": 105,
     "metadata": {},
     "output_type": "execute_result"
    }
   ],
   "source": [
    "weekday_delay = flights.groupby('day').delay.mean().sort_values(ascending=False)\n",
    "weekday_delay"
   ]
  },
  {
   "cell_type": "code",
   "execution_count": 106,
   "id": "9ecb4d78",
   "metadata": {},
   "outputs": [
    {
     "data": {
      "text/plain": [
       "day\n",
       "Wednesday    3079\n",
       "Friday       3028\n",
       "Thursday     3011\n",
       "Monday       2980\n",
       "Tuesday      2945\n",
       "Sunday       2614\n",
       "Saturday     2343\n",
       "Name: count, dtype: int64"
      ]
     },
     "execution_count": 106,
     "metadata": {},
     "output_type": "execute_result"
    }
   ],
   "source": [
    "#see what days have what number of delays\n",
    "flights.day.value_counts()"
   ]
  },
  {
   "cell_type": "code",
   "execution_count": 107,
   "id": "0aee8475",
   "metadata": {},
   "outputs": [
    {
     "data": {
      "image/png": "[encoded data removed]",
      "text/plain": [
       "<Figure size 800x600 with 1 Axes>"
      ]
     },
     "metadata": {},
     "output_type": "display_data"
    }
   ],
   "source": [
    "weekday_delay.plot()\n",
    "plt.title('Average Delay (in minutes) by Weekday')\n",
    "plt.ylabel('Average Delay in Minutes')\n",
    "plt.show()"
   ]
  },
  {
   "cell_type": "markdown",
   "id": "c29b204c",
   "metadata": {},
   "source": [
    "## 4. Does the month make a difference in the delay amount?"
   ]
  },
  {
   "cell_type": "code",
   "execution_count": 109,
   "id": "2e7fc850",
   "metadata": {},
   "outputs": [
    {
     "data": {
      "text/html": [
       "<div>\n",
       "<style scoped>\n",
       "    .dataframe tbody tr th:only-of-type {\n",
       "        vertical-align: middle;\n",
       "    }\n",
       "\n",
       "    .dataframe tbody tr th {\n",
       "        vertical-align: top;\n",
       "    }\n",
       "\n",
       "    .dataframe thead th {\n",
       "        text-align: right;\n",
       "    }\n",
       "</style>\n",
       "<table border=\"1\" class=\"dataframe\">\n",
       "  <thead>\n",
       "    <tr style=\"text-align: right;\">\n",
       "      <th></th>\n",
       "      <th>delay</th>\n",
       "      <th>distance</th>\n",
       "      <th>origin</th>\n",
       "      <th>destination</th>\n",
       "      <th>neg_delay</th>\n",
       "      <th>hour</th>\n",
       "      <th>day</th>\n",
       "      <th>month</th>\n",
       "    </tr>\n",
       "    <tr>\n",
       "      <th>date</th>\n",
       "      <th></th>\n",
       "      <th></th>\n",
       "      <th></th>\n",
       "      <th></th>\n",
       "      <th></th>\n",
       "      <th></th>\n",
       "      <th></th>\n",
       "      <th></th>\n",
       "    </tr>\n",
       "  </thead>\n",
       "  <tbody>\n",
       "    <tr>\n",
       "      <th>2001-01-01 00:01:00</th>\n",
       "      <td>14</td>\n",
       "      <td>405</td>\n",
       "      <td>MCI</td>\n",
       "      <td>MDW</td>\n",
       "      <td>False</td>\n",
       "      <td>0</td>\n",
       "      <td>Monday</td>\n",
       "      <td>January</td>\n",
       "    </tr>\n",
       "    <tr>\n",
       "      <th>2001-01-01 06:20:00</th>\n",
       "      <td>0</td>\n",
       "      <td>491</td>\n",
       "      <td>BNA</td>\n",
       "      <td>MCI</td>\n",
       "      <td>False</td>\n",
       "      <td>6</td>\n",
       "      <td>Monday</td>\n",
       "      <td>January</td>\n",
       "    </tr>\n",
       "    <tr>\n",
       "      <th>2001-01-01 06:30:00</th>\n",
       "      <td>0</td>\n",
       "      <td>251</td>\n",
       "      <td>MDW</td>\n",
       "      <td>STL</td>\n",
       "      <td>True</td>\n",
       "      <td>6</td>\n",
       "      <td>Monday</td>\n",
       "      <td>January</td>\n",
       "    </tr>\n",
       "    <tr>\n",
       "      <th>2001-01-01 07:00:00</th>\n",
       "      <td>0</td>\n",
       "      <td>361</td>\n",
       "      <td>OAK</td>\n",
       "      <td>ONT</td>\n",
       "      <td>True</td>\n",
       "      <td>7</td>\n",
       "      <td>Monday</td>\n",
       "      <td>January</td>\n",
       "    </tr>\n",
       "    <tr>\n",
       "      <th>2001-01-01 07:00:00</th>\n",
       "      <td>0</td>\n",
       "      <td>303</td>\n",
       "      <td>MSY</td>\n",
       "      <td>HOU</td>\n",
       "      <td>False</td>\n",
       "      <td>7</td>\n",
       "      <td>Monday</td>\n",
       "      <td>January</td>\n",
       "    </tr>\n",
       "    <tr>\n",
       "      <th>...</th>\n",
       "      <td>...</td>\n",
       "      <td>...</td>\n",
       "      <td>...</td>\n",
       "      <td>...</td>\n",
       "      <td>...</td>\n",
       "      <td>...</td>\n",
       "      <td>...</td>\n",
       "      <td>...</td>\n",
       "    </tr>\n",
       "    <tr>\n",
       "      <th>2001-03-31 21:02:00</th>\n",
       "      <td>26</td>\n",
       "      <td>303</td>\n",
       "      <td>MSY</td>\n",
       "      <td>HOU</td>\n",
       "      <td>False</td>\n",
       "      <td>21</td>\n",
       "      <td>Saturday</td>\n",
       "      <td>March</td>\n",
       "    </tr>\n",
       "    <tr>\n",
       "      <th>2001-03-31 21:05:00</th>\n",
       "      <td>0</td>\n",
       "      <td>318</td>\n",
       "      <td>FLL</td>\n",
       "      <td>JAX</td>\n",
       "      <td>True</td>\n",
       "      <td>21</td>\n",
       "      <td>Saturday</td>\n",
       "      <td>March</td>\n",
       "    </tr>\n",
       "    <tr>\n",
       "      <th>2001-03-31 21:05:00</th>\n",
       "      <td>0</td>\n",
       "      <td>451</td>\n",
       "      <td>MCI</td>\n",
       "      <td>IND</td>\n",
       "      <td>True</td>\n",
       "      <td>21</td>\n",
       "      <td>Saturday</td>\n",
       "      <td>March</td>\n",
       "    </tr>\n",
       "    <tr>\n",
       "      <th>2001-03-31 21:30:00</th>\n",
       "      <td>30</td>\n",
       "      <td>174</td>\n",
       "      <td>TPA</td>\n",
       "      <td>PBI</td>\n",
       "      <td>False</td>\n",
       "      <td>21</td>\n",
       "      <td>Saturday</td>\n",
       "      <td>March</td>\n",
       "    </tr>\n",
       "    <tr>\n",
       "      <th>2001-03-31 21:30:00</th>\n",
       "      <td>0</td>\n",
       "      <td>495</td>\n",
       "      <td>BWI</td>\n",
       "      <td>SDF</td>\n",
       "      <td>True</td>\n",
       "      <td>21</td>\n",
       "      <td>Saturday</td>\n",
       "      <td>March</td>\n",
       "    </tr>\n",
       "  </tbody>\n",
       "</table>\n",
       "<p>20000 rows × 8 columns</p>\n",
       "</div>"
      ],
      "text/plain": [
       "                     delay  distance origin destination  neg_delay  hour  \\\n",
       "date                                                                       \n",
       "2001-01-01 00:01:00     14       405    MCI         MDW      False     0   \n",
       "2001-01-01 06:20:00      0       491    BNA         MCI      False     6   \n",
       "2001-01-01 06:30:00      0       251    MDW         STL       True     6   \n",
       "2001-01-01 07:00:00      0       361    OAK         ONT       True     7   \n",
       "2001-01-01 07:00:00      0       303    MSY         HOU      False     7   \n",
       "...                    ...       ...    ...         ...        ...   ...   \n",
       "2001-03-31 21:02:00     26       303    MSY         HOU      False    21   \n",
       "2001-03-31 21:05:00      0       318    FLL         JAX       True    21   \n",
       "2001-03-31 21:05:00      0       451    MCI         IND       True    21   \n",
       "2001-03-31 21:30:00     30       174    TPA         PBI      False    21   \n",
       "2001-03-31 21:30:00      0       495    BWI         SDF       True    21   \n",
       "\n",
       "                          day    month  \n",
       "date                                    \n",
       "2001-01-01 00:01:00    Monday  January  \n",
       "2001-01-01 06:20:00    Monday  January  \n",
       "2001-01-01 06:30:00    Monday  January  \n",
       "2001-01-01 07:00:00    Monday  January  \n",
       "2001-01-01 07:00:00    Monday  January  \n",
       "...                       ...      ...  \n",
       "2001-03-31 21:02:00  Saturday    March  \n",
       "2001-03-31 21:05:00  Saturday    March  \n",
       "2001-03-31 21:05:00  Saturday    March  \n",
       "2001-03-31 21:30:00  Saturday    March  \n",
       "2001-03-31 21:30:00  Saturday    March  \n",
       "\n",
       "[20000 rows x 8 columns]"
      ]
     },
     "execution_count": 109,
     "metadata": {},
     "output_type": "execute_result"
    }
   ],
   "source": [
    "#create a column for month\n",
    "flights['month'] = flights.index.month_name()\n",
    "flights"
   ]
  },
  {
   "cell_type": "code",
   "execution_count": 110,
   "id": "bbe2ac96",
   "metadata": {},
   "outputs": [
    {
     "data": {
      "text/plain": [
       "month\n",
       "February   12.31\n",
       "January    11.30\n",
       "March       9.88\n",
       "Name: delay, dtype: float64"
      ]
     },
     "execution_count": 110,
     "metadata": {},
     "output_type": "execute_result"
    }
   ],
   "source": [
    "#see average minutes of delay by month\n",
    "monthly_delay = flights.groupby('month').delay.mean()\n",
    "monthly_delay"
   ]
  },
  {
   "cell_type": "code",
   "execution_count": 111,
   "id": "8a9530b5",
   "metadata": {},
   "outputs": [
    {
     "data": {
      "text/plain": [
       "month\n",
       "March       6960\n",
       "January     6784\n",
       "February    6256\n",
       "Name: count, dtype: int64"
      ]
     },
     "execution_count": 111,
     "metadata": {},
     "output_type": "execute_result"
    }
   ],
   "source": [
    "#see how many delays are in each month\n",
    "flights.month.value_counts()"
   ]
  },
  {
   "cell_type": "code",
   "execution_count": 112,
   "id": "3a3f2126",
   "metadata": {},
   "outputs": [
    {
     "data": {
      "image/png": "[encoded data removed]",
      "text/plain": [
       "<Figure size 800x600 with 1 Axes>"
      ]
     },
     "metadata": {},
     "output_type": "display_data"
    }
   ],
   "source": [
    "monthly_delay.plot()\n",
    "plt.title('Average Delay (in minutes) by Month')\n",
    "plt.ylabel('Average Delay in Minutes')\n",
    "plt.show()\n"
   ]
  },
  {
   "cell_type": "markdown",
   "id": "c4d541e4",
   "metadata": {},
   "source": [
    "# Bonus"
   ]
  },
  {
   "cell_type": "code",
   "execution_count": 113,
   "id": "8dfc595a",
   "metadata": {},
   "outputs": [],
   "source": [
    "iowa = data.iowa_electricity()\n"
   ]
  },
  {
   "cell_type": "markdown",
   "id": "3955086b",
   "metadata": {},
   "source": [
    " - For each row, calculate the percentage of the year's total that energy source provided.\n",
    " - Lineplot of generation over time, color by source\n",
    " - Display the data as table where years are columns, and energy source is rows (Hint: df.pivot_table)\n",
    " - Make a line plot that shows the amount of energy generated over time. Each source should be a separate line?\n",
    " - Is the total generation increasing over time?\n",
    " - How would you control for increasing consumption over time when considering how much energy is coming from each source?\n",
    " - express each number as a % of the year's total"
   ]
  },
  {
   "cell_type": "code",
   "execution_count": 114,
   "id": "dee7720b",
   "metadata": {},
   "outputs": [
    {
     "name": "stdout",
     "output_type": "stream",
     "text": [
      "<class 'pandas.core.frame.DataFrame'>\n",
      "RangeIndex: 51 entries, 0 to 50\n",
      "Data columns (total 3 columns):\n",
      " #   Column          Non-Null Count  Dtype         \n",
      "---  ------          --------------  -----         \n",
      " 0   year            51 non-null     datetime64[ns]\n",
      " 1   source          51 non-null     object        \n",
      " 2   net_generation  51 non-null     int64         \n",
      "dtypes: datetime64[ns](1), int64(1), object(1)\n",
      "memory usage: 1.3+ KB\n"
     ]
    }
   ],
   "source": [
    "#check dtype\n",
    "iowa.info()"
   ]
  },
  {
   "cell_type": "code",
   "execution_count": 115,
   "id": "7a07a591",
   "metadata": {},
   "outputs": [
    {
     "data": {
      "text/plain": [
       "pandas.core.indexes.range.RangeIndex"
      ]
     },
     "execution_count": 115,
     "metadata": {},
     "output_type": "execute_result"
    }
   ],
   "source": [
    "#check index, make sure its set to year\n",
    "type(iowa.index)"
   ]
  },
  {
   "cell_type": "code",
   "execution_count": 116,
   "id": "a734aaad",
   "metadata": {},
   "outputs": [],
   "source": [
    "#must complete step 2&3 (set date as index and sort)\n",
    "iowa = iowa.set_index('year').sort_index()"
   ]
  },
  {
   "cell_type": "code",
   "execution_count": 117,
   "id": "4966860c",
   "metadata": {},
   "outputs": [
    {
     "data": {
      "text/plain": [
       "pandas.core.indexes.datetimes.DatetimeIndex"
      ]
     },
     "execution_count": 117,
     "metadata": {},
     "output_type": "execute_result"
    }
   ],
   "source": [
    "#confirm index is changed\n",
    "type(iowa.index)"
   ]
  },
  {
   "cell_type": "code",
   "execution_count": 118,
   "id": "d14d6570",
   "metadata": {},
   "outputs": [
    {
     "data": {
      "text/html": [
       "<div>\n",
       "<style scoped>\n",
       "    .dataframe tbody tr th:only-of-type {\n",
       "        vertical-align: middle;\n",
       "    }\n",
       "\n",
       "    .dataframe tbody tr th {\n",
       "        vertical-align: top;\n",
       "    }\n",
       "\n",
       "    .dataframe thead th {\n",
       "        text-align: right;\n",
       "    }\n",
       "</style>\n",
       "<table border=\"1\" class=\"dataframe\">\n",
       "  <thead>\n",
       "    <tr style=\"text-align: right;\">\n",
       "      <th></th>\n",
       "      <th>source</th>\n",
       "      <th>net_generation</th>\n",
       "    </tr>\n",
       "    <tr>\n",
       "      <th>year</th>\n",
       "      <th></th>\n",
       "      <th></th>\n",
       "    </tr>\n",
       "  </thead>\n",
       "  <tbody>\n",
       "    <tr>\n",
       "      <th>2016-01-01</th>\n",
       "      <td>Fossil Fuels</td>\n",
       "      <td>28437</td>\n",
       "    </tr>\n",
       "    <tr>\n",
       "      <th>2016-01-01</th>\n",
       "      <td>Nuclear Energy</td>\n",
       "      <td>4703</td>\n",
       "    </tr>\n",
       "    <tr>\n",
       "      <th>2017-01-01</th>\n",
       "      <td>Fossil Fuels</td>\n",
       "      <td>29329</td>\n",
       "    </tr>\n",
       "    <tr>\n",
       "      <th>2017-01-01</th>\n",
       "      <td>Nuclear Energy</td>\n",
       "      <td>5214</td>\n",
       "    </tr>\n",
       "    <tr>\n",
       "      <th>2017-01-01</th>\n",
       "      <td>Renewables</td>\n",
       "      <td>21933</td>\n",
       "    </tr>\n",
       "  </tbody>\n",
       "</table>\n",
       "</div>"
      ],
      "text/plain": [
       "                    source  net_generation\n",
       "year                                      \n",
       "2016-01-01    Fossil Fuels           28437\n",
       "2016-01-01  Nuclear Energy            4703\n",
       "2017-01-01    Fossil Fuels           29329\n",
       "2017-01-01  Nuclear Energy            5214\n",
       "2017-01-01      Renewables           21933"
      ]
     },
     "execution_count": 118,
     "metadata": {},
     "output_type": "execute_result"
    }
   ],
   "source": [
    "iowa.tail()\n"
   ]
  },
  {
   "cell_type": "markdown",
   "id": "772d7568",
   "metadata": {},
   "source": [
    "## 1 For each row, calculate the percentage of the year's total that energy source provided."
   ]
  },
  {
   "cell_type": "code",
   "execution_count": 119,
   "id": "156b7a38",
   "metadata": {},
   "outputs": [],
   "source": [
    "#create column for year only\n",
    "iowa['number_year'] = iowa.index.year"
   ]
  },
  {
   "cell_type": "code",
   "execution_count": 120,
   "id": "0bd4209d",
   "metadata": {},
   "outputs": [
    {
     "data": {
      "text/html": [
       "<div>\n",
       "<style scoped>\n",
       "    .dataframe tbody tr th:only-of-type {\n",
       "        vertical-align: middle;\n",
       "    }\n",
       "\n",
       "    .dataframe tbody tr th {\n",
       "        vertical-align: top;\n",
       "    }\n",
       "\n",
       "    .dataframe thead th {\n",
       "        text-align: right;\n",
       "    }\n",
       "</style>\n",
       "<table border=\"1\" class=\"dataframe\">\n",
       "  <thead>\n",
       "    <tr style=\"text-align: right;\">\n",
       "      <th></th>\n",
       "      <th>source</th>\n",
       "      <th>net_generation</th>\n",
       "      <th>number_year</th>\n",
       "    </tr>\n",
       "    <tr>\n",
       "      <th>year</th>\n",
       "      <th></th>\n",
       "      <th></th>\n",
       "      <th></th>\n",
       "    </tr>\n",
       "  </thead>\n",
       "  <tbody>\n",
       "    <tr>\n",
       "      <th>2001-01-01</th>\n",
       "      <td>Fossil Fuels</td>\n",
       "      <td>35361</td>\n",
       "      <td>2001</td>\n",
       "    </tr>\n",
       "    <tr>\n",
       "      <th>2001-01-01</th>\n",
       "      <td>Nuclear Energy</td>\n",
       "      <td>3853</td>\n",
       "      <td>2001</td>\n",
       "    </tr>\n",
       "    <tr>\n",
       "      <th>2001-01-01</th>\n",
       "      <td>Renewables</td>\n",
       "      <td>1437</td>\n",
       "      <td>2001</td>\n",
       "    </tr>\n",
       "    <tr>\n",
       "      <th>2002-01-01</th>\n",
       "      <td>Fossil Fuels</td>\n",
       "      <td>35991</td>\n",
       "      <td>2002</td>\n",
       "    </tr>\n",
       "    <tr>\n",
       "      <th>2002-01-01</th>\n",
       "      <td>Nuclear Energy</td>\n",
       "      <td>4574</td>\n",
       "      <td>2002</td>\n",
       "    </tr>\n",
       "  </tbody>\n",
       "</table>\n",
       "</div>"
      ],
      "text/plain": [
       "                    source  net_generation  number_year\n",
       "year                                                   \n",
       "2001-01-01    Fossil Fuels           35361         2001\n",
       "2001-01-01  Nuclear Energy            3853         2001\n",
       "2001-01-01      Renewables            1437         2001\n",
       "2002-01-01    Fossil Fuels           35991         2002\n",
       "2002-01-01  Nuclear Energy            4574         2002"
      ]
     },
     "execution_count": 120,
     "metadata": {},
     "output_type": "execute_result"
    }
   ],
   "source": [
    "#make sure column was created\n",
    "iowa.head()"
   ]
  },
  {
   "cell_type": "code",
   "execution_count": 121,
   "id": "e41c7a63",
   "metadata": {},
   "outputs": [
    {
     "data": {
      "text/plain": [
       "number_year\n",
       "2001   13550.33\n",
       "2002   14176.00\n",
       "2003   14035.67\n",
       "2004   14412.00\n",
       "2005   14715.00\n",
       "2006   15157.67\n",
       "2007   16592.67\n",
       "2008   17695.33\n",
       "2009   17286.33\n",
       "2010   19169.67\n",
       "2011   18790.33\n",
       "2012   18891.67\n",
       "2013   18890.00\n",
       "2014   18951.33\n",
       "2015   18884.33\n",
       "2016   18127.00\n",
       "2017   18825.33\n",
       "Name: net_generation, dtype: float64"
      ]
     },
     "execution_count": 121,
     "metadata": {},
     "output_type": "execute_result"
    }
   ],
   "source": [
    "#this gives average by year for all source types\n",
    "iowa.groupby('number_year').net_generation.mean()"
   ]
  },
  {
   "cell_type": "code",
   "execution_count": 122,
   "id": "7acc27a5",
   "metadata": {},
   "outputs": [
    {
     "data": {
      "text/plain": [
       "source\n",
       "Fossil Fuels     36478.18\n",
       "Nuclear Energy    4711.94\n",
       "Renewables        9660.00\n",
       "Name: net_generation, dtype: float64"
      ]
     },
     "execution_count": 122,
     "metadata": {},
     "output_type": "execute_result"
    }
   ],
   "source": [
    "# This gives average generation by source type\n",
    "iowa.groupby('source').net_generation.mean()"
   ]
  },
  {
   "cell_type": "code",
   "execution_count": null,
   "id": "efab1369",
   "metadata": {},
   "outputs": [],
   "source": []
  }
 ],
 "metadata": {
  "kernelspec": {
   "display_name": "Python 3 (ipykernel)",
   "language": "python",
   "name": "python3"
  },
  "language_info": {
   "codemirror_mode": {
    "name": "ipython",
    "version": 3
   },
   "file_extension": ".py",
   "mimetype": "text/x-python",
   "name": "python",
   "nbconvert_exporter": "python",
   "pygments_lexer": "ipython3",
   "version": "3.11.3"
  }
 },
 "nbformat": 4,
 "nbformat_minor": 5
}
