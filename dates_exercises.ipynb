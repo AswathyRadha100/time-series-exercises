{
 "cells": [
  {
   "cell_type": "markdown",
   "id": "455f0f98",
   "metadata": {},
   "source": [
    "<div style=\"background-color: olive; padding: 40px; font-size: 40px;\">\n",
    "            Working With Time Series in Pandas\n",
    "    \n",
    "    \n",
    "</div>"
   ]
  },
  {
   "cell_type": "code",
   "execution_count": 91,
   "id": "7300b88c",
   "metadata": {},
   "outputs": [],
   "source": [
    "import pandas as pd\n",
    "import numpy as np\n",
    "import matplotlib.pyplot as plt\n",
    "from vega_datasets import data\n",
    "import datetime\n",
    "import seaborn as sns\n",
    "sns.set()\n",
    "# set figure size\n",
    "plt.rcParams[\"figure.figsize\"] = (8,6)\n",
    "\n",
    "# specify decimal places to display\n",
    "pd.set_option('display.float_format', lambda x: '%.2f' % x)"
   ]
  },
  {
   "cell_type": "markdown",
   "id": "4ef7602a",
   "metadata": {},
   "source": [
    "# Exercises"
   ]
  },
  {
   "cell_type": "code",
   "execution_count": null,
   "id": "f1e32fd9",
   "metadata": {},
   "outputs": [],
   "source": [
    "For all of the datasets below, examine the data types of each column, ensure that the dates are in the proper format, and set the dataframe's index to the date column as appropriate.\n",
    "\n",
    "For this exercise you'll need to install a library that will provide us access to some more datasets:\n",
    "\n",
    "\n",
    "pip install vega_datasets"
   ]
  },
  {
   "cell_type": "markdown",
   "id": "3f98979b",
   "metadata": {},
   "source": [
    "# First Part"
   ]
  },
  {
   "cell_type": "code",
   "execution_count": 92,
   "id": "0d248577",
   "metadata": {},
   "outputs": [
    {
     "data": {
      "text/html": [
       "<div>\n",
       "<style scoped>\n",
       "    .dataframe tbody tr th:only-of-type {\n",
       "        vertical-align: middle;\n",
       "    }\n",
       "\n",
       "    .dataframe tbody tr th {\n",
       "        vertical-align: top;\n",
       "    }\n",
       "\n",
       "    .dataframe thead th {\n",
       "        text-align: right;\n",
       "    }\n",
       "</style>\n",
       "<table border=\"1\" class=\"dataframe\">\n",
       "  <thead>\n",
       "    <tr style=\"text-align: right;\">\n",
       "      <th></th>\n",
       "      <th>temp</th>\n",
       "      <th>date</th>\n",
       "    </tr>\n",
       "  </thead>\n",
       "  <tbody>\n",
       "    <tr>\n",
       "      <th>0</th>\n",
       "      <td>47.80</td>\n",
       "      <td>2010-01-01 00:00:00</td>\n",
       "    </tr>\n",
       "    <tr>\n",
       "      <th>1</th>\n",
       "      <td>47.40</td>\n",
       "      <td>2010-01-01 01:00:00</td>\n",
       "    </tr>\n",
       "    <tr>\n",
       "      <th>2</th>\n",
       "      <td>46.90</td>\n",
       "      <td>2010-01-01 02:00:00</td>\n",
       "    </tr>\n",
       "    <tr>\n",
       "      <th>3</th>\n",
       "      <td>46.50</td>\n",
       "      <td>2010-01-01 03:00:00</td>\n",
       "    </tr>\n",
       "    <tr>\n",
       "      <th>4</th>\n",
       "      <td>46.00</td>\n",
       "      <td>2010-01-01 04:00:00</td>\n",
       "    </tr>\n",
       "    <tr>\n",
       "      <th>...</th>\n",
       "      <td>...</td>\n",
       "      <td>...</td>\n",
       "    </tr>\n",
       "    <tr>\n",
       "      <th>8754</th>\n",
       "      <td>50.40</td>\n",
       "      <td>2010-12-31 19:00:00</td>\n",
       "    </tr>\n",
       "    <tr>\n",
       "      <th>8755</th>\n",
       "      <td>49.90</td>\n",
       "      <td>2010-12-31 20:00:00</td>\n",
       "    </tr>\n",
       "    <tr>\n",
       "      <th>8756</th>\n",
       "      <td>49.40</td>\n",
       "      <td>2010-12-31 21:00:00</td>\n",
       "    </tr>\n",
       "    <tr>\n",
       "      <th>8757</th>\n",
       "      <td>48.80</td>\n",
       "      <td>2010-12-31 22:00:00</td>\n",
       "    </tr>\n",
       "    <tr>\n",
       "      <th>8758</th>\n",
       "      <td>48.30</td>\n",
       "      <td>2010-12-31 23:00:00</td>\n",
       "    </tr>\n",
       "  </tbody>\n",
       "</table>\n",
       "<p>8759 rows × 2 columns</p>\n",
       "</div>"
      ],
      "text/plain": [
       "      temp                date\n",
       "0    47.80 2010-01-01 00:00:00\n",
       "1    47.40 2010-01-01 01:00:00\n",
       "2    46.90 2010-01-01 02:00:00\n",
       "3    46.50 2010-01-01 03:00:00\n",
       "4    46.00 2010-01-01 04:00:00\n",
       "...    ...                 ...\n",
       "8754 50.40 2010-12-31 19:00:00\n",
       "8755 49.90 2010-12-31 20:00:00\n",
       "8756 49.40 2010-12-31 21:00:00\n",
       "8757 48.80 2010-12-31 22:00:00\n",
       "8758 48.30 2010-12-31 23:00:00\n",
       "\n",
       "[8759 rows x 2 columns]"
      ]
     },
     "execution_count": 92,
     "metadata": {},
     "output_type": "execute_result"
    }
   ],
   "source": [
    "# Acquire the data\n",
    "sf_temps = data.sf_temps()\n",
    "sf_temps"
   ]
  },
  {
   "cell_type": "code",
   "execution_count": 76,
   "id": "1992648a",
   "metadata": {},
   "outputs": [
    {
     "name": "stdout",
     "output_type": "stream",
     "text": [
      "<class 'pandas.core.frame.DataFrame'>\n",
      "RangeIndex: 8759 entries, 0 to 8758\n",
      "Data columns (total 2 columns):\n",
      " #   Column  Non-Null Count  Dtype         \n",
      "---  ------  --------------  -----         \n",
      " 0   temp    8759 non-null   float64       \n",
      " 1   date    8759 non-null   datetime64[ns]\n",
      "dtypes: datetime64[ns](1), float64(1)\n",
      "memory usage: 137.0 KB\n"
     ]
    }
   ],
   "source": [
    "# If 'date' dtype is not datetime, must convert\n",
    "sf_temps.info()"
   ]
  },
  {
   "cell_type": "code",
   "execution_count": 93,
   "id": "fa8c7ccc",
   "metadata": {},
   "outputs": [],
   "source": [
    "# set date as index and sort \n",
    "sf_temps = sf_temps.set_index('date').sort_index()\n"
   ]
  },
  {
   "cell_type": "code",
   "execution_count": 94,
   "id": "2abc9f44",
   "metadata": {},
   "outputs": [
    {
     "data": {
      "text/plain": [
       "pandas.core.indexes.datetimes.DatetimeIndex"
      ]
     },
     "execution_count": 94,
     "metadata": {},
     "output_type": "execute_result"
    }
   ],
   "source": [
    "# checks and displays the data type of the index \n",
    "type(sf_temps.index)"
   ]
  },
  {
   "cell_type": "markdown",
   "id": "65bd974e",
   "metadata": {},
   "source": [
    "# Use the above dataset for the following exercises:"
   ]
  },
  {
   "cell_type": "markdown",
   "id": "8a10ca50",
   "metadata": {},
   "source": [
    "## 1. Resample by the day and take the average temperature. Visualize the average temperature over time.\n"
   ]
  },
  {
   "cell_type": "code",
   "execution_count": 79,
   "id": "d4ff1a65",
   "metadata": {},
   "outputs": [
    {
     "data": {
      "text/html": [
       "<div>\n",
       "<style scoped>\n",
       "    .dataframe tbody tr th:only-of-type {\n",
       "        vertical-align: middle;\n",
       "    }\n",
       "\n",
       "    .dataframe tbody tr th {\n",
       "        vertical-align: top;\n",
       "    }\n",
       "\n",
       "    .dataframe thead th {\n",
       "        text-align: right;\n",
       "    }\n",
       "</style>\n",
       "<table border=\"1\" class=\"dataframe\">\n",
       "  <thead>\n",
       "    <tr style=\"text-align: right;\">\n",
       "      <th></th>\n",
       "      <th>temp</th>\n",
       "    </tr>\n",
       "    <tr>\n",
       "      <th>date</th>\n",
       "      <th></th>\n",
       "    </tr>\n",
       "  </thead>\n",
       "  <tbody>\n",
       "    <tr>\n",
       "      <th>2010-01-01</th>\n",
       "      <td>49.17</td>\n",
       "    </tr>\n",
       "    <tr>\n",
       "      <th>2010-01-02</th>\n",
       "      <td>49.30</td>\n",
       "    </tr>\n",
       "    <tr>\n",
       "      <th>2010-01-03</th>\n",
       "      <td>49.39</td>\n",
       "    </tr>\n",
       "    <tr>\n",
       "      <th>2010-01-04</th>\n",
       "      <td>49.45</td>\n",
       "    </tr>\n",
       "    <tr>\n",
       "      <th>2010-01-05</th>\n",
       "      <td>49.49</td>\n",
       "    </tr>\n",
       "  </tbody>\n",
       "</table>\n",
       "</div>"
      ],
      "text/plain": [
       "            temp\n",
       "date            \n",
       "2010-01-01 49.17\n",
       "2010-01-02 49.30\n",
       "2010-01-03 49.39\n",
       "2010-01-04 49.45\n",
       "2010-01-05 49.49"
      ]
     },
     "execution_count": 79,
     "metadata": {},
     "output_type": "execute_result"
    }
   ],
   "source": [
    "sf_temps.resample('D').mean().head()"
   ]
  },
  {
   "cell_type": "code",
   "execution_count": 80,
   "id": "97d92451",
   "metadata": {},
   "outputs": [
    {
     "data": {
      "image/png": "[encoded data removed]",
      "text/plain": [
       "<Figure size 800x600 with 1 Axes>"
      ]
     },
     "metadata": {},
     "output_type": "display_data"
    }
   ],
   "source": [
    "sf_temps.resample('D').mean().plot()\n",
    "plt.title('SF Temperatures in 2010')\n",
    "plt.ylabel('Temperature')\n",
    "plt.show()"
   ]
  },
  {
   "cell_type": "code",
   "execution_count": null,
   "id": "87cb47d1",
   "metadata": {},
   "outputs": [],
   "source": [
    "# OR"
   ]
  },
  {
   "cell_type": "code",
   "execution_count": 59,
   "id": "b03638d0",
   "metadata": {},
   "outputs": [],
   "source": [
    "# Convert to datetime \n",
    "\n",
    "sf_temps.date = pd.to_datetime(sf_temps.date, format='%Y-%m-%d %I-%p')"
   ]
  },
  {
   "cell_type": "code",
   "execution_count": 60,
   "id": "e2d6dfda",
   "metadata": {},
   "outputs": [],
   "source": [
    "# Make date the index\n",
    "\n",
    "sf_temps = sf_temps.set_index('date').sort_index()"
   ]
  },
  {
   "cell_type": "code",
   "execution_count": 62,
   "id": "b2ef0b1b",
   "metadata": {},
   "outputs": [
    {
     "data": {
      "text/html": [
       "<div>\n",
       "<style scoped>\n",
       "    .dataframe tbody tr th:only-of-type {\n",
       "        vertical-align: middle;\n",
       "    }\n",
       "\n",
       "    .dataframe tbody tr th {\n",
       "        vertical-align: top;\n",
       "    }\n",
       "\n",
       "    .dataframe thead th {\n",
       "        text-align: right;\n",
       "    }\n",
       "</style>\n",
       "<table border=\"1\" class=\"dataframe\">\n",
       "  <thead>\n",
       "    <tr style=\"text-align: right;\">\n",
       "      <th></th>\n",
       "      <th>temp</th>\n",
       "    </tr>\n",
       "    <tr>\n",
       "      <th>date</th>\n",
       "      <th></th>\n",
       "    </tr>\n",
       "  </thead>\n",
       "  <tbody>\n",
       "    <tr>\n",
       "      <th>2010-01-01</th>\n",
       "      <td>49.170833</td>\n",
       "    </tr>\n",
       "    <tr>\n",
       "      <th>2010-01-02</th>\n",
       "      <td>49.304167</td>\n",
       "    </tr>\n",
       "    <tr>\n",
       "      <th>2010-01-03</th>\n",
       "      <td>49.391667</td>\n",
       "    </tr>\n",
       "    <tr>\n",
       "      <th>2010-01-04</th>\n",
       "      <td>49.445833</td>\n",
       "    </tr>\n",
       "    <tr>\n",
       "      <th>2010-01-05</th>\n",
       "      <td>49.491667</td>\n",
       "    </tr>\n",
       "    <tr>\n",
       "      <th>...</th>\n",
       "      <td>...</td>\n",
       "    </tr>\n",
       "    <tr>\n",
       "      <th>2010-12-27</th>\n",
       "      <td>48.991667</td>\n",
       "    </tr>\n",
       "    <tr>\n",
       "      <th>2010-12-28</th>\n",
       "      <td>49.000000</td>\n",
       "    </tr>\n",
       "    <tr>\n",
       "      <th>2010-12-29</th>\n",
       "      <td>49.012500</td>\n",
       "    </tr>\n",
       "    <tr>\n",
       "      <th>2010-12-30</th>\n",
       "      <td>49.012500</td>\n",
       "    </tr>\n",
       "    <tr>\n",
       "      <th>2010-12-31</th>\n",
       "      <td>49.116667</td>\n",
       "    </tr>\n",
       "  </tbody>\n",
       "</table>\n",
       "<p>365 rows × 1 columns</p>\n",
       "</div>"
      ],
      "text/plain": [
       "                 temp\n",
       "date                 \n",
       "2010-01-01  49.170833\n",
       "2010-01-02  49.304167\n",
       "2010-01-03  49.391667\n",
       "2010-01-04  49.445833\n",
       "2010-01-05  49.491667\n",
       "...               ...\n",
       "2010-12-27  48.991667\n",
       "2010-12-28  49.000000\n",
       "2010-12-29  49.012500\n",
       "2010-12-30  49.012500\n",
       "2010-12-31  49.116667\n",
       "\n",
       "[365 rows x 1 columns]"
      ]
     },
     "execution_count": 62,
     "metadata": {},
     "output_type": "execute_result"
    }
   ],
   "source": [
    "# Resample by day, find the average temp\n",
    "\n",
    "sf_temps.resample('D').mean()"
   ]
  },
  {
   "cell_type": "code",
   "execution_count": 63,
   "id": "dc68e6fd",
   "metadata": {},
   "outputs": [
    {
     "data": {
      "image/png": "[encoded data removed]",
      "text/plain": [
       "<Figure size 1200x600 with 1 Axes>"
      ]
     },
     "metadata": {},
     "output_type": "display_data"
    }
   ],
   "source": [
    "# Visualize the average temperature over time\n",
    "plt.figure(figsize=(12, 6))\n",
    "plt.plot(average_temp_by_day.index, average_temp_by_day['temp'], label='Average Temperature')\n",
    "plt.title('Average Temperature Over Time')\n",
    "plt.xlabel('Date')\n",
    "plt.ylabel('Temperature (°C)')\n",
    "plt.legend()\n",
    "plt.show()\n"
   ]
  },
  {
   "cell_type": "markdown",
   "id": "d813326e",
   "metadata": {},
   "source": [
    "Notes:-\n",
    "Resample by the day, means to group the temperature data into daily intervals.  Take the mean (average) temperature reading for each day.\n",
    "\n",
    "Take the average temperature: After resampling by the day, calculate the average temperature for each day. This involves finding the mean temperature value for all the temperature readings within a single day.\n",
    "\n",
    ".resample('D') method in pandas resamples the data to a daily frequency."
   ]
  },
  {
   "cell_type": "markdown",
   "id": "651abc7a",
   "metadata": {},
   "source": [
    "## 2. Write the code necessary to visualize the minimum temperature over time.\n"
   ]
  },
  {
   "cell_type": "code",
   "execution_count": 81,
   "id": "4c43ee52",
   "metadata": {},
   "outputs": [
    {
     "data": {
      "image/png": "[encoded data removed]",
      "text/plain": [
       "<Figure size 800x600 with 1 Axes>"
      ]
     },
     "metadata": {},
     "output_type": "display_data"
    }
   ],
   "source": [
    "# Plot the min temps\n",
    "\n",
    "sf_temps.resample('D').min().plot()\n",
    "plt.title('Minimum SF Temperatures in 2010')\n",
    "plt.ylabel('Temperature')\n",
    "plt.show()\n"
   ]
  },
  {
   "cell_type": "markdown",
   "id": "b0520b5a",
   "metadata": {},
   "source": [
    "## 3. Write the code necessary to visualize the maximum temperature over time.\n"
   ]
  },
  {
   "cell_type": "code",
   "execution_count": 82,
   "id": "e73f1c62",
   "metadata": {},
   "outputs": [
    {
     "data": {
      "image/png": "[encoded data removed]",
      "text/plain": [
       "<Figure size 800x600 with 1 Axes>"
      ]
     },
     "metadata": {},
     "output_type": "display_data"
    }
   ],
   "source": [
    "# Plot the max temps\n",
    "\n",
    "sf_temps.resample('D').max().plot()\n",
    "plt.title('Maximum Temperatures in 2010')\n",
    "plt.ylabel('Temperature')\n",
    "plt.show()"
   ]
  },
  {
   "cell_type": "markdown",
   "id": "76067951",
   "metadata": {},
   "source": [
    "## 4. Which month is the coldest, on average?\n"
   ]
  },
  {
   "cell_type": "code",
   "execution_count": 83,
   "id": "fb25c71d",
   "metadata": {},
   "outputs": [
    {
     "data": {
      "text/plain": [
       "date\n",
       "2010-01-31   49.98\n",
       "2010-12-31   50.50\n",
       "2010-02-28   52.24\n",
       "2010-03-31   53.96\n",
       "2010-11-30   55.19\n",
       "2010-04-30   55.63\n",
       "2010-05-31   57.97\n",
       "2010-10-31   60.25\n",
       "2010-06-30   60.44\n",
       "2010-07-31   61.77\n",
       "2010-08-31   62.41\n",
       "2010-09-30   62.49\n",
       "Name: temp, dtype: float64"
      ]
     },
     "execution_count": 83,
     "metadata": {},
     "output_type": "execute_result"
    }
   ],
   "source": [
    "# Resampling by month, get the average, sort those values\n",
    "sf_temps.temp.resample('M').mean().sort_values()\n"
   ]
  },
  {
   "cell_type": "code",
   "execution_count": 85,
   "id": "8459dbf7",
   "metadata": {},
   "outputs": [],
   "source": [
    "average_temps = sf_temps.resample('M').mean()\n"
   ]
  },
  {
   "cell_type": "code",
   "execution_count": 86,
   "id": "5ef87729",
   "metadata": {},
   "outputs": [
    {
     "data": {
      "text/plain": [
       "temp   49.98\n",
       "dtype: float64"
      ]
     },
     "execution_count": 86,
     "metadata": {},
     "output_type": "execute_result"
    }
   ],
   "source": [
    "average_temps.min()\n"
   ]
  },
  {
   "cell_type": "markdown",
   "id": "8e3ac650",
   "metadata": {},
   "source": [
    "January (2010-01-31) is the coldest month, on average"
   ]
  },
  {
   "cell_type": "code",
   "execution_count": 100,
   "id": "0410f4fd",
   "metadata": {},
   "outputs": [],
   "source": [
    "# OR"
   ]
  },
  {
   "cell_type": "code",
   "execution_count": 106,
   "id": "1ad6b71c",
   "metadata": {},
   "outputs": [
    {
     "name": "stdout",
     "output_type": "stream",
     "text": [
      "temp   49.98\n",
      "dtype: float64\n",
      "temp    January\n",
      "dtype: object\n"
     ]
    }
   ],
   "source": [
    "# Create a 'month' column \n",
    "sf_temps['month'] = sf_temps.index.month_name()\n",
    "\n",
    "# Group by month and calculate the mean\n",
    "monthly_means = sf_temps.groupby('month').mean()\n",
    "\n",
    "# Find the month with the minimum mean temperature\n",
    "min_mean_month = monthly_means.idxmin()\n",
    "\n",
    "# Find the minimum mean temperature\n",
    "min_mean_temp = monthly_means.min()\n",
    "\n",
    "print(min_mean_temp)\n",
    "print(min_mean_month)\n"
   ]
  },
  {
   "cell_type": "markdown",
   "id": "10649796",
   "metadata": {},
   "source": [
    "## 5. Which month has the highest average temperature?\n"
   ]
  },
  {
   "cell_type": "code",
   "execution_count": 107,
   "id": "c8073586",
   "metadata": {},
   "outputs": [
    {
     "data": {
      "text/plain": [
       "date\n",
       "2010-09-30   62.49\n",
       "2010-08-31   62.41\n",
       "2010-07-31   61.77\n",
       "2010-06-30   60.44\n",
       "2010-10-31   60.25\n",
       "2010-05-31   57.97\n",
       "2010-04-30   55.63\n",
       "2010-11-30   55.19\n",
       "2010-03-31   53.96\n",
       "2010-02-28   52.24\n",
       "2010-12-31   50.50\n",
       "2010-01-31   49.98\n",
       "Name: temp, dtype: float64"
      ]
     },
     "execution_count": 107,
     "metadata": {},
     "output_type": "execute_result"
    }
   ],
   "source": [
    "#resample by month ,get average temp, sort desc\n",
    "sf_temps.temp.resample('M').mean().sort_values(ascending=False)"
   ]
  },
  {
   "cell_type": "code",
   "execution_count": 108,
   "id": "cbbe2118",
   "metadata": {},
   "outputs": [
    {
     "data": {
      "text/plain": [
       "temp   62.49\n",
       "dtype: float64"
      ]
     },
     "execution_count": 108,
     "metadata": {},
     "output_type": "execute_result"
    }
   ],
   "source": [
    "average_temps.max()\n"
   ]
  },
  {
   "cell_type": "code",
   "execution_count": null,
   "id": "582cc0ba",
   "metadata": {},
   "outputs": [],
   "source": [
    "# OR"
   ]
  },
  {
   "cell_type": "code",
   "execution_count": 111,
   "id": "b4fbc3e1",
   "metadata": {},
   "outputs": [
    {
     "name": "stdout",
     "output_type": "stream",
     "text": [
      "temp   62.49\n",
      "dtype: float64\n",
      "temp    September\n",
      "dtype: object\n"
     ]
    }
   ],
   "source": [
    "# Create a 'month' column \n",
    "sf_temps['month'] = sf_temps.index.month_name()\n",
    "\n",
    "# Group by month and calculate the mean\n",
    "monthly_means = sf_temps.groupby('month').mean()\n",
    "\n",
    "# Find the month with the maximum mean temperature\n",
    "max_mean_month = monthly_means.idxmax()\n",
    "\n",
    "# Find the minimum mean temperature\n",
    "max_mean_temp = monthly_means.max()\n",
    "\n",
    "print(max_mean_temp)\n",
    "print(max_mean_month)\n"
   ]
  },
  {
   "cell_type": "markdown",
   "id": "eaeb891e",
   "metadata": {},
   "source": [
    "## 6. Resample by the day and calculate the min and max temp for the day (Hint: .agg(['min', 'max'])). Use this resampled dataframe to calculate the change in temperature for the day. Which month has the highest daily temperature variability?\n"
   ]
  },
  {
   "cell_type": "code",
   "execution_count": 113,
   "id": "4bc5360e",
   "metadata": {},
   "outputs": [
    {
     "data": {
      "text/html": [
       "<div>\n",
       "<style scoped>\n",
       "    .dataframe tbody tr th:only-of-type {\n",
       "        vertical-align: middle;\n",
       "    }\n",
       "\n",
       "    .dataframe tbody tr th {\n",
       "        vertical-align: top;\n",
       "    }\n",
       "\n",
       "    .dataframe thead th {\n",
       "        text-align: right;\n",
       "    }\n",
       "</style>\n",
       "<table border=\"1\" class=\"dataframe\">\n",
       "  <thead>\n",
       "    <tr style=\"text-align: right;\">\n",
       "      <th></th>\n",
       "      <th>min</th>\n",
       "      <th>max</th>\n",
       "    </tr>\n",
       "    <tr>\n",
       "      <th>date</th>\n",
       "      <th></th>\n",
       "      <th></th>\n",
       "    </tr>\n",
       "  </thead>\n",
       "  <tbody>\n",
       "    <tr>\n",
       "      <th>2010-01-01</th>\n",
       "      <td>45.80</td>\n",
       "      <td>53.30</td>\n",
       "    </tr>\n",
       "    <tr>\n",
       "      <th>2010-01-02</th>\n",
       "      <td>46.00</td>\n",
       "      <td>53.40</td>\n",
       "    </tr>\n",
       "    <tr>\n",
       "      <th>2010-01-03</th>\n",
       "      <td>46.10</td>\n",
       "      <td>53.50</td>\n",
       "    </tr>\n",
       "    <tr>\n",
       "      <th>2010-01-04</th>\n",
       "      <td>46.10</td>\n",
       "      <td>53.60</td>\n",
       "    </tr>\n",
       "    <tr>\n",
       "      <th>2010-01-05</th>\n",
       "      <td>46.10</td>\n",
       "      <td>53.80</td>\n",
       "    </tr>\n",
       "    <tr>\n",
       "      <th>...</th>\n",
       "      <td>...</td>\n",
       "      <td>...</td>\n",
       "    </tr>\n",
       "    <tr>\n",
       "      <th>2010-12-27</th>\n",
       "      <td>45.60</td>\n",
       "      <td>53.20</td>\n",
       "    </tr>\n",
       "    <tr>\n",
       "      <th>2010-12-28</th>\n",
       "      <td>45.60</td>\n",
       "      <td>53.20</td>\n",
       "    </tr>\n",
       "    <tr>\n",
       "      <th>2010-12-29</th>\n",
       "      <td>45.60</td>\n",
       "      <td>53.20</td>\n",
       "    </tr>\n",
       "    <tr>\n",
       "      <th>2010-12-30</th>\n",
       "      <td>45.60</td>\n",
       "      <td>53.20</td>\n",
       "    </tr>\n",
       "    <tr>\n",
       "      <th>2010-12-31</th>\n",
       "      <td>45.80</td>\n",
       "      <td>53.20</td>\n",
       "    </tr>\n",
       "  </tbody>\n",
       "</table>\n",
       "<p>365 rows × 2 columns</p>\n",
       "</div>"
      ],
      "text/plain": [
       "             min   max\n",
       "date                  \n",
       "2010-01-01 45.80 53.30\n",
       "2010-01-02 46.00 53.40\n",
       "2010-01-03 46.10 53.50\n",
       "2010-01-04 46.10 53.60\n",
       "2010-01-05 46.10 53.80\n",
       "...          ...   ...\n",
       "2010-12-27 45.60 53.20\n",
       "2010-12-28 45.60 53.20\n",
       "2010-12-29 45.60 53.20\n",
       "2010-12-30 45.60 53.20\n",
       "2010-12-31 45.80 53.20\n",
       "\n",
       "[365 rows x 2 columns]"
      ]
     },
     "execution_count": 113,
     "metadata": {},
     "output_type": "execute_result"
    }
   ],
   "source": [
    "#resample temps by day- add min max columns\n",
    "daily_temps = sf_temps.temp.resample('D').agg(['min', 'max'])\n",
    "daily_temps"
   ]
  },
  {
   "cell_type": "code",
   "execution_count": 115,
   "id": "82a007fd",
   "metadata": {},
   "outputs": [
    {
     "data": {
      "text/html": [
       "<div>\n",
       "<style scoped>\n",
       "    .dataframe tbody tr th:only-of-type {\n",
       "        vertical-align: middle;\n",
       "    }\n",
       "\n",
       "    .dataframe tbody tr th {\n",
       "        vertical-align: top;\n",
       "    }\n",
       "\n",
       "    .dataframe thead th {\n",
       "        text-align: right;\n",
       "    }\n",
       "</style>\n",
       "<table border=\"1\" class=\"dataframe\">\n",
       "  <thead>\n",
       "    <tr style=\"text-align: right;\">\n",
       "      <th></th>\n",
       "      <th>min</th>\n",
       "      <th>max</th>\n",
       "      <th>temp_diff</th>\n",
       "    </tr>\n",
       "    <tr>\n",
       "      <th>date</th>\n",
       "      <th></th>\n",
       "      <th></th>\n",
       "      <th></th>\n",
       "    </tr>\n",
       "  </thead>\n",
       "  <tbody>\n",
       "    <tr>\n",
       "      <th>2010-01-01</th>\n",
       "      <td>45.80</td>\n",
       "      <td>53.30</td>\n",
       "      <td>7.50</td>\n",
       "    </tr>\n",
       "    <tr>\n",
       "      <th>2010-01-02</th>\n",
       "      <td>46.00</td>\n",
       "      <td>53.40</td>\n",
       "      <td>7.40</td>\n",
       "    </tr>\n",
       "    <tr>\n",
       "      <th>2010-01-03</th>\n",
       "      <td>46.10</td>\n",
       "      <td>53.50</td>\n",
       "      <td>7.40</td>\n",
       "    </tr>\n",
       "    <tr>\n",
       "      <th>2010-01-04</th>\n",
       "      <td>46.10</td>\n",
       "      <td>53.60</td>\n",
       "      <td>7.50</td>\n",
       "    </tr>\n",
       "    <tr>\n",
       "      <th>2010-01-05</th>\n",
       "      <td>46.10</td>\n",
       "      <td>53.80</td>\n",
       "      <td>7.70</td>\n",
       "    </tr>\n",
       "    <tr>\n",
       "      <th>...</th>\n",
       "      <td>...</td>\n",
       "      <td>...</td>\n",
       "      <td>...</td>\n",
       "    </tr>\n",
       "    <tr>\n",
       "      <th>2010-12-27</th>\n",
       "      <td>45.60</td>\n",
       "      <td>53.20</td>\n",
       "      <td>7.60</td>\n",
       "    </tr>\n",
       "    <tr>\n",
       "      <th>2010-12-28</th>\n",
       "      <td>45.60</td>\n",
       "      <td>53.20</td>\n",
       "      <td>7.60</td>\n",
       "    </tr>\n",
       "    <tr>\n",
       "      <th>2010-12-29</th>\n",
       "      <td>45.60</td>\n",
       "      <td>53.20</td>\n",
       "      <td>7.60</td>\n",
       "    </tr>\n",
       "    <tr>\n",
       "      <th>2010-12-30</th>\n",
       "      <td>45.60</td>\n",
       "      <td>53.20</td>\n",
       "      <td>7.60</td>\n",
       "    </tr>\n",
       "    <tr>\n",
       "      <th>2010-12-31</th>\n",
       "      <td>45.80</td>\n",
       "      <td>53.20</td>\n",
       "      <td>7.40</td>\n",
       "    </tr>\n",
       "  </tbody>\n",
       "</table>\n",
       "<p>365 rows × 3 columns</p>\n",
       "</div>"
      ],
      "text/plain": [
       "             min   max  temp_diff\n",
       "date                             \n",
       "2010-01-01 45.80 53.30       7.50\n",
       "2010-01-02 46.00 53.40       7.40\n",
       "2010-01-03 46.10 53.50       7.40\n",
       "2010-01-04 46.10 53.60       7.50\n",
       "2010-01-05 46.10 53.80       7.70\n",
       "...          ...   ...        ...\n",
       "2010-12-27 45.60 53.20       7.60\n",
       "2010-12-28 45.60 53.20       7.60\n",
       "2010-12-29 45.60 53.20       7.60\n",
       "2010-12-30 45.60 53.20       7.60\n",
       "2010-12-31 45.80 53.20       7.40\n",
       "\n",
       "[365 rows x 3 columns]"
      ]
     },
     "execution_count": 115,
     "metadata": {},
     "output_type": "execute_result"
    }
   ],
   "source": [
    "#create column that shows the temp difference between min and max\n",
    "daily_temps['temp_diff'] = daily_temps['max'] - daily_temps['min']\n",
    "daily_temps"
   ]
  },
  {
   "cell_type": "code",
   "execution_count": 116,
   "id": "0e68b0e1",
   "metadata": {},
   "outputs": [
    {
     "data": {
      "text/plain": [
       "date\n",
       "2010-08-31   15.00\n",
       "2010-09-30   14.90\n",
       "2010-06-30   14.80\n",
       "2010-07-31   14.80\n",
       "2010-10-31   14.40\n",
       "2010-05-31   13.10\n",
       "2010-04-30   13.00\n",
       "2010-03-31   12.00\n",
       "2010-11-30   11.80\n",
       "2010-02-28    9.90\n",
       "2010-01-31    9.30\n",
       "2010-12-31    8.90\n",
       "Name: temp_diff, dtype: float64"
      ]
     },
     "execution_count": 116,
     "metadata": {},
     "output_type": "execute_result"
    }
   ],
   "source": [
    "#sort the values to see temp difference to answer question\n",
    "daily_temps.temp_diff.resample('M').max().sort_values(ascending=False)"
   ]
  },
  {
   "cell_type": "markdown",
   "id": "f98c4a04",
   "metadata": {},
   "source": [
    "## 7. Bonus: Visualize the daily min, average, and max temperature over time on a single line plot, i.e. the min, average, and maximum temperature should be 3 seperate lines."
   ]
  },
  {
   "cell_type": "code",
   "execution_count": 117,
   "id": "40061e29",
   "metadata": {},
   "outputs": [
    {
     "data": {
      "image/png": "[encoded data removed]",
      "text/plain": [
       "<Figure size 800x600 with 1 Axes>"
      ]
     },
     "metadata": {},
     "output_type": "display_data"
    }
   ],
   "source": [
    "#resample temperatures by day- get min max and average\n",
    "sf_temps.temp.resample('D').agg(['min', 'mean', 'max']).plot()\n",
    "plt.title('Min, Max & Mean Temperatures in 2010')\n",
    "plt.ylabel('Temperature')\n",
    "plt.show()"
   ]
  },
  {
   "cell_type": "code",
   "execution_count": null,
   "id": "5a0364a3",
   "metadata": {},
   "outputs": [],
   "source": [
    "# OR"
   ]
  },
  {
   "cell_type": "code",
   "execution_count": 30,
   "id": "50a40fac",
   "metadata": {},
   "outputs": [
    {
     "data": {
      "image/png": "[encoded data removed]",
      "text/plain": [
       "<Figure size 1200x600 with 1 Axes>"
      ]
     },
     "metadata": {},
     "output_type": "display_data"
    }
   ],
   "source": [
    "# Resample by the day and calculate daily min, average, and max temperatures\n",
    "daily_temperatures = sf_temps.resample('D')['temp'].agg(['min', 'mean', 'max'])\n",
    "\n",
    "# Create a time index for the daily temperature data\n",
    "time_index = daily_temperatures.index\n",
    "\n",
    "# Plot the daily minimum temperature\n",
    "plt.figure(figsize=(12, 6))\n",
    "plt.plot(time_index, daily_temperatures['min'], label='Daily Min Temperature', linestyle='-', alpha=0.7)\n",
    "\n",
    "# Plot the daily average temperature\n",
    "plt.plot(time_index, daily_temperatures['mean'], label='Daily Avg Temperature', linestyle='-', alpha=0.7)\n",
    "\n",
    "# Plot the daily maximum temperature\n",
    "plt.plot(time_index, daily_temperatures['max'], label='Daily Max Temperature', linestyle='-', alpha=0.7)\n",
    "\n",
    "# Set labels and legend\n",
    "plt.title('Daily Min, Average, and Max Temperature Over Time')\n",
    "plt.xlabel('Date')\n",
    "plt.ylabel('Temperature (°C)')\n",
    "plt.legend()\n",
    "\n",
    "# Show the plot\n",
    "plt.show()\n"
   ]
  },
  {
   "cell_type": "markdown",
   "id": "00d84731",
   "metadata": {},
   "source": [
    "# Second Part"
   ]
  },
  {
   "cell_type": "code",
   "execution_count": 118,
   "id": "c814b90f",
   "metadata": {
    "scrolled": true
   },
   "outputs": [
    {
     "data": {
      "text/html": [
       "<div>\n",
       "<style scoped>\n",
       "    .dataframe tbody tr th:only-of-type {\n",
       "        vertical-align: middle;\n",
       "    }\n",
       "\n",
       "    .dataframe tbody tr th {\n",
       "        vertical-align: top;\n",
       "    }\n",
       "\n",
       "    .dataframe thead th {\n",
       "        text-align: right;\n",
       "    }\n",
       "</style>\n",
       "<table border=\"1\" class=\"dataframe\">\n",
       "  <thead>\n",
       "    <tr style=\"text-align: right;\">\n",
       "      <th></th>\n",
       "      <th>date</th>\n",
       "      <th>precipitation</th>\n",
       "      <th>temp_max</th>\n",
       "      <th>temp_min</th>\n",
       "      <th>wind</th>\n",
       "      <th>weather</th>\n",
       "    </tr>\n",
       "  </thead>\n",
       "  <tbody>\n",
       "    <tr>\n",
       "      <th>0</th>\n",
       "      <td>2012-01-01</td>\n",
       "      <td>0.00</td>\n",
       "      <td>12.80</td>\n",
       "      <td>5.00</td>\n",
       "      <td>4.70</td>\n",
       "      <td>drizzle</td>\n",
       "    </tr>\n",
       "    <tr>\n",
       "      <th>1</th>\n",
       "      <td>2012-01-02</td>\n",
       "      <td>10.90</td>\n",
       "      <td>10.60</td>\n",
       "      <td>2.80</td>\n",
       "      <td>4.50</td>\n",
       "      <td>rain</td>\n",
       "    </tr>\n",
       "    <tr>\n",
       "      <th>2</th>\n",
       "      <td>2012-01-03</td>\n",
       "      <td>0.80</td>\n",
       "      <td>11.70</td>\n",
       "      <td>7.20</td>\n",
       "      <td>2.30</td>\n",
       "      <td>rain</td>\n",
       "    </tr>\n",
       "    <tr>\n",
       "      <th>3</th>\n",
       "      <td>2012-01-04</td>\n",
       "      <td>20.30</td>\n",
       "      <td>12.20</td>\n",
       "      <td>5.60</td>\n",
       "      <td>4.70</td>\n",
       "      <td>rain</td>\n",
       "    </tr>\n",
       "    <tr>\n",
       "      <th>4</th>\n",
       "      <td>2012-01-05</td>\n",
       "      <td>1.30</td>\n",
       "      <td>8.90</td>\n",
       "      <td>2.80</td>\n",
       "      <td>6.10</td>\n",
       "      <td>rain</td>\n",
       "    </tr>\n",
       "    <tr>\n",
       "      <th>...</th>\n",
       "      <td>...</td>\n",
       "      <td>...</td>\n",
       "      <td>...</td>\n",
       "      <td>...</td>\n",
       "      <td>...</td>\n",
       "      <td>...</td>\n",
       "    </tr>\n",
       "    <tr>\n",
       "      <th>1456</th>\n",
       "      <td>2015-12-27</td>\n",
       "      <td>8.60</td>\n",
       "      <td>4.40</td>\n",
       "      <td>1.70</td>\n",
       "      <td>2.90</td>\n",
       "      <td>fog</td>\n",
       "    </tr>\n",
       "    <tr>\n",
       "      <th>1457</th>\n",
       "      <td>2015-12-28</td>\n",
       "      <td>1.50</td>\n",
       "      <td>5.00</td>\n",
       "      <td>1.70</td>\n",
       "      <td>1.30</td>\n",
       "      <td>fog</td>\n",
       "    </tr>\n",
       "    <tr>\n",
       "      <th>1458</th>\n",
       "      <td>2015-12-29</td>\n",
       "      <td>0.00</td>\n",
       "      <td>7.20</td>\n",
       "      <td>0.60</td>\n",
       "      <td>2.60</td>\n",
       "      <td>fog</td>\n",
       "    </tr>\n",
       "    <tr>\n",
       "      <th>1459</th>\n",
       "      <td>2015-12-30</td>\n",
       "      <td>0.00</td>\n",
       "      <td>5.60</td>\n",
       "      <td>-1.00</td>\n",
       "      <td>3.40</td>\n",
       "      <td>sun</td>\n",
       "    </tr>\n",
       "    <tr>\n",
       "      <th>1460</th>\n",
       "      <td>2015-12-31</td>\n",
       "      <td>0.00</td>\n",
       "      <td>5.60</td>\n",
       "      <td>-2.10</td>\n",
       "      <td>3.50</td>\n",
       "      <td>sun</td>\n",
       "    </tr>\n",
       "  </tbody>\n",
       "</table>\n",
       "<p>1461 rows × 6 columns</p>\n",
       "</div>"
      ],
      "text/plain": [
       "           date  precipitation  temp_max  temp_min  wind  weather\n",
       "0    2012-01-01           0.00     12.80      5.00  4.70  drizzle\n",
       "1    2012-01-02          10.90     10.60      2.80  4.50     rain\n",
       "2    2012-01-03           0.80     11.70      7.20  2.30     rain\n",
       "3    2012-01-04          20.30     12.20      5.60  4.70     rain\n",
       "4    2012-01-05           1.30      8.90      2.80  6.10     rain\n",
       "...         ...            ...       ...       ...   ...      ...\n",
       "1456 2015-12-27           8.60      4.40      1.70  2.90      fog\n",
       "1457 2015-12-28           1.50      5.00      1.70  1.30      fog\n",
       "1458 2015-12-29           0.00      7.20      0.60  2.60      fog\n",
       "1459 2015-12-30           0.00      5.60     -1.00  3.40      sun\n",
       "1460 2015-12-31           0.00      5.60     -2.10  3.50      sun\n",
       "\n",
       "[1461 rows x 6 columns]"
      ]
     },
     "execution_count": 118,
     "metadata": {},
     "output_type": "execute_result"
    }
   ],
   "source": [
    "# import seattle data\n",
    "# Load the Seattle weather dataset\n",
    "seattle_weather = data.seattle_weather()\n",
    "seattle_weather"
   ]
  },
  {
   "cell_type": "code",
   "execution_count": 119,
   "id": "bb5e2b86",
   "metadata": {},
   "outputs": [
    {
     "name": "stdout",
     "output_type": "stream",
     "text": [
      "<class 'pandas.core.frame.DataFrame'>\n",
      "RangeIndex: 1461 entries, 0 to 1460\n",
      "Data columns (total 6 columns):\n",
      " #   Column         Non-Null Count  Dtype         \n",
      "---  ------         --------------  -----         \n",
      " 0   date           1461 non-null   datetime64[ns]\n",
      " 1   precipitation  1461 non-null   float64       \n",
      " 2   temp_max       1461 non-null   float64       \n",
      " 3   temp_min       1461 non-null   float64       \n",
      " 4   wind           1461 non-null   float64       \n",
      " 5   weather        1461 non-null   object        \n",
      "dtypes: datetime64[ns](1), float64(4), object(1)\n",
      "memory usage: 68.6+ KB\n"
     ]
    }
   ],
   "source": [
    "seattle_weather.info()"
   ]
  },
  {
   "cell_type": "code",
   "execution_count": 121,
   "id": "8f4c3ede",
   "metadata": {},
   "outputs": [
    {
     "data": {
      "text/plain": [
       "pandas.core.indexes.range.RangeIndex"
      ]
     },
     "execution_count": 121,
     "metadata": {},
     "output_type": "execute_result"
    }
   ],
   "source": [
    "#check the index- should be date\n",
    "type(seattle_weather.index)\n",
    "\n",
    "#it is not, must change that"
   ]
  },
  {
   "cell_type": "code",
   "execution_count": 122,
   "id": "a8b55136",
   "metadata": {},
   "outputs": [],
   "source": [
    "#set date as index and sort\n",
    "seattle_weather = seattle_weather.set_index('date').sort_index()"
   ]
  },
  {
   "cell_type": "code",
   "execution_count": 123,
   "id": "7ae52ee8",
   "metadata": {},
   "outputs": [
    {
     "data": {
      "text/plain": [
       "pandas.core.indexes.datetimes.DatetimeIndex"
      ]
     },
     "execution_count": 123,
     "metadata": {},
     "output_type": "execute_result"
    }
   ],
   "source": [
    "#make sure index was reset\n",
    "type(seattle_weather.index)\n"
   ]
  },
  {
   "cell_type": "markdown",
   "id": "079a21ac",
   "metadata": {},
   "source": [
    "# Use the above dataset for the following exercises:\n"
   ]
  },
  {
   "cell_type": "markdown",
   "id": "de37e3ab",
   "metadata": {},
   "source": [
    "## 1. Which year and month combination has the highest amount of precipitation?"
   ]
  },
  {
   "cell_type": "code",
   "execution_count": 35,
   "id": "1e0c589c",
   "metadata": {},
   "outputs": [
    {
     "name": "stdout",
     "output_type": "stream",
     "text": [
      "The year and month with the highest amount of precipitation: 2015-3\n"
     ]
    }
   ],
   "source": [
    "# Which year and month combination has the highest amount of precipitation?\n",
    "highest_precipitation_month = seattle_weather.loc[seattle_weather['precipitation'].idxmax(), 'date']\n",
    "print(f\"The year and month with the highest amount of precipitation: {highest_precipitation_month.year}-{highest_precipitation_month.month}\")\n"
   ]
  },
  {
   "cell_type": "code",
   "execution_count": null,
   "id": "60195ed2",
   "metadata": {},
   "outputs": [],
   "source": [
    "# OR"
   ]
  },
  {
   "cell_type": "code",
   "execution_count": 124,
   "id": "11d41285",
   "metadata": {},
   "outputs": [
    {
     "data": {
      "text/plain": [
       "date\n",
       "2015-12-31   9.18\n",
       "2014-03-31   7.74\n",
       "2015-11-30   7.09\n",
       "2012-11-30   7.02\n",
       "2012-03-31   5.90\n",
       "2012-12-31   5.61\n",
       "2012-01-31   5.59\n",
       "2014-02-28   5.54\n",
       "2014-10-31   5.53\n",
       "2012-10-31   5.49\n",
       "2013-09-30   5.23\n",
       "2013-04-30   4.99\n",
       "2015-02-28   4.79\n",
       "2014-11-30   4.10\n",
       "2015-10-31   3.95\n",
       "2014-12-31   3.93\n",
       "2015-03-31   3.66\n",
       "2014-04-30   3.54\n",
       "2013-01-31   3.41\n",
       "2013-11-30   3.21\n",
       "2012-02-29   3.18\n",
       "2014-01-31   3.03\n",
       "2015-01-31   3.00\n",
       "2015-08-31   2.69\n",
       "2014-05-31   2.58\n",
       "2012-06-30   2.50\n",
       "2012-04-30   2.27\n",
       "2013-03-31   2.25\n",
       "2013-05-31   1.95\n",
       "2014-09-30   1.89\n",
       "2015-04-30   1.72\n",
       "2012-05-31   1.68\n",
       "2014-08-31   1.48\n",
       "2013-02-28   1.44\n",
       "2013-12-31   1.37\n",
       "2013-10-31   1.26\n",
       "2013-08-31   1.11\n",
       "2013-06-30   1.10\n",
       "2012-07-31   0.85\n",
       "2015-09-30   0.70\n",
       "2014-07-31   0.63\n",
       "2014-06-30   0.63\n",
       "2015-05-31   0.48\n",
       "2015-06-30   0.20\n",
       "2015-07-31   0.07\n",
       "2012-09-30   0.03\n",
       "2013-07-31   0.00\n",
       "2012-08-31   0.00\n",
       "Name: precipitation, dtype: float64"
      ]
     },
     "execution_count": 124,
     "metadata": {},
     "output_type": "execute_result"
    }
   ],
   "source": [
    "seattle_weather.precipitation.resample('M').mean().sort_values(ascending=False)\n"
   ]
  },
  {
   "cell_type": "code",
   "execution_count": 125,
   "id": "cc04352e",
   "metadata": {},
   "outputs": [
    {
     "data": {
      "text/plain": [
       "55.9"
      ]
     },
     "execution_count": 125,
     "metadata": {},
     "output_type": "execute_result"
    }
   ],
   "source": [
    "seattle_weather.precipitation.max()\n"
   ]
  },
  {
   "cell_type": "code",
   "execution_count": 126,
   "id": "7d06d8c7",
   "metadata": {},
   "outputs": [
    {
     "data": {
      "text/plain": [
       "date\n",
       "2015-03-15   55.90\n",
       "2015-12-08   54.10\n",
       "2012-11-19   54.10\n",
       "2015-11-14   47.20\n",
       "2014-03-05   46.70\n",
       "              ... \n",
       "2013-10-13    0.00\n",
       "2013-10-14    0.00\n",
       "2013-10-15    0.00\n",
       "2013-10-16    0.00\n",
       "2015-12-31    0.00\n",
       "Name: precipitation, Length: 1461, dtype: float64"
      ]
     },
     "execution_count": 126,
     "metadata": {},
     "output_type": "execute_result"
    }
   ],
   "source": [
    "seattle_weather.precipitation.sort_values(ascending=False)\n"
   ]
  },
  {
   "cell_type": "markdown",
   "id": "fa97a3a8",
   "metadata": {},
   "source": [
    "## 2. Visualize the amount of monthly precipitation over time."
   ]
  },
  {
   "cell_type": "code",
   "execution_count": 128,
   "id": "95ce9f74",
   "metadata": {},
   "outputs": [
    {
     "data": {
      "image/png": "[encoded data removed]",
      "text/plain": [
       "<Figure size 800x600 with 1 Axes>"
      ]
     },
     "metadata": {},
     "output_type": "display_data"
    }
   ],
   "source": [
    "seattle_weather.precipitation.resample('M').mean().plot()\n",
    "plt.title('Precipitation Rates in Seatle')\n",
    "plt.ylabel('Precipiation')\n",
    "plt.show()"
   ]
  },
  {
   "cell_type": "code",
   "execution_count": null,
   "id": "05ab1d5b",
   "metadata": {},
   "outputs": [],
   "source": [
    "# OR"
   ]
  },
  {
   "cell_type": "code",
   "execution_count": 36,
   "id": "d080d92e",
   "metadata": {},
   "outputs": [
    {
     "data": {
      "image/png": "[encoded data removed]",
      "text/plain": [
       "<Figure size 1200x600 with 1 Axes>"
      ]
     },
     "metadata": {},
     "output_type": "display_data"
    }
   ],
   "source": [
    "# Visualize the amount of monthly precipitation over time.\n",
    "seattle_weather['year_month'] = seattle_weather['date'].dt.to_period('M')\n",
    "monthly_precipitation = seattle_weather.groupby('year_month')['precipitation'].sum()\n",
    "monthly_precipitation.plot(kind='bar', figsize=(12, 6))\n",
    "plt.title('Monthly Precipitation in Seattle')\n",
    "plt.xlabel('Year-Month')\n",
    "plt.ylabel('Precipitation (inches)')\n",
    "plt.show()"
   ]
  },
  {
   "cell_type": "markdown",
   "id": "2471db74",
   "metadata": {},
   "source": [
    "## 3. Visualize the amount of wind over time. Choose a time interval you think is appropriate.\n"
   ]
  },
  {
   "cell_type": "code",
   "execution_count": 129,
   "id": "be4cb88b",
   "metadata": {},
   "outputs": [
    {
     "data": {
      "image/png": "[encoded data removed]",
      "text/plain": [
       "<Figure size 800x600 with 1 Axes>"
      ]
     },
     "metadata": {},
     "output_type": "display_data"
    }
   ],
   "source": [
    "seattle_weather.wind.resample('M').mean().plot()\n",
    "plt.title('Wind Rates in Seatle')\n",
    "plt.ylabel('Wind')\n",
    "plt.show()\n"
   ]
  },
  {
   "cell_type": "code",
   "execution_count": null,
   "id": "5a51c15b",
   "metadata": {},
   "outputs": [],
   "source": [
    "# OR"
   ]
  },
  {
   "cell_type": "code",
   "execution_count": 39,
   "id": "2a8812bf",
   "metadata": {},
   "outputs": [
    {
     "data": {
      "image/png": "[encoded data removed]",
      "text/plain": [
       "<Figure size 1200x600 with 1 Axes>"
      ]
     },
     "metadata": {},
     "output_type": "display_data"
    }
   ],
   "source": [
    "# Visualize the amount of wind over time. (Using a time interval of 3 months)\n",
    "seattle_weather['year_month'] = seattle_weather['date'].dt.to_period('M')\n",
    "wind_interval = seattle_weather.groupby('year_month')['wind'].sum()\n",
    "wind_interval.plot(kind='line', figsize=(12, 6))\n",
    "plt.title('Wind Over Time in Seattle')\n",
    "plt.xlabel('Year-Month')\n",
    "plt.ylabel('Wind')\n",
    "plt.show()\n"
   ]
  },
  {
   "cell_type": "markdown",
   "id": "31815956",
   "metadata": {},
   "source": [
    "## 4. Which year-month combination is the windiest?\n"
   ]
  },
  {
   "cell_type": "code",
   "execution_count": 38,
   "id": "39b564a7",
   "metadata": {},
   "outputs": [
    {
     "name": "stdout",
     "output_type": "stream",
     "text": [
      "The windiest year and month combination: 2012-12\n"
     ]
    }
   ],
   "source": [
    "# Which year-month combination is the windiest?\n",
    "windiest_month = seattle_weather.loc[seattle_weather['wind'].idxmax(), 'date']\n",
    "print(f\"The windiest year and month combination: {windiest_month.year}-{windiest_month.month}\")\n"
   ]
  },
  {
   "cell_type": "code",
   "execution_count": null,
   "id": "a5810f45",
   "metadata": {},
   "outputs": [],
   "source": [
    "# OR"
   ]
  },
  {
   "cell_type": "code",
   "execution_count": 130,
   "id": "7ef89d66",
   "metadata": {},
   "outputs": [
    {
     "data": {
      "text/plain": [
       "date\n",
       "2012-12-17   9.50\n",
       "2014-01-11   8.80\n",
       "2013-12-01   8.80\n",
       "2012-01-21   8.20\n",
       "2014-01-12   8.10\n",
       "             ... \n",
       "2013-01-22   0.60\n",
       "2013-11-25   0.50\n",
       "2015-01-10   0.50\n",
       "2013-12-26   0.50\n",
       "2013-10-23   0.40\n",
       "Name: wind, Length: 1461, dtype: float64"
      ]
     },
     "execution_count": 130,
     "metadata": {},
     "output_type": "execute_result"
    }
   ],
   "source": [
    "seattle_weather.wind.sort_values(ascending=False)\n"
   ]
  },
  {
   "cell_type": "markdown",
   "id": "a664d312",
   "metadata": {},
   "source": [
    "## 5. What's the sunniest year? (Hint: which day has the highest number of days where weather == sun?)\n"
   ]
  },
  {
   "cell_type": "code",
   "execution_count": 40,
   "id": "8f918d7a",
   "metadata": {},
   "outputs": [
    {
     "name": "stdout",
     "output_type": "stream",
     "text": [
      "The sunniest year: 2014\n"
     ]
    }
   ],
   "source": [
    "#  sunniest year\n",
    "sunniest_year = seattle_weather[seattle_weather['weather'] == 'sun'].groupby(seattle_weather['date'].dt.year)['weather'].count().idxmax()\n",
    "print(f\"The sunniest year: {sunniest_year}\")\n"
   ]
  },
  {
   "cell_type": "code",
   "execution_count": null,
   "id": "af9e73aa",
   "metadata": {},
   "outputs": [],
   "source": [
    "# OR"
   ]
  },
  {
   "cell_type": "code",
   "execution_count": 131,
   "id": "ca56539a",
   "metadata": {},
   "outputs": [
    {
     "data": {
      "text/plain": [
       "array(['drizzle', 'rain', 'sun', 'snow', 'fog'], dtype=object)"
      ]
     },
     "execution_count": 131,
     "metadata": {},
     "output_type": "execute_result"
    }
   ],
   "source": [
    "#take a look at weather types\n",
    "seattle_weather.weather.unique()"
   ]
  },
  {
   "cell_type": "code",
   "execution_count": 132,
   "id": "fabf72cd",
   "metadata": {},
   "outputs": [
    {
     "data": {
      "text/plain": [
       "weather\n",
       "sun        714\n",
       "fog        411\n",
       "rain       259\n",
       "drizzle     54\n",
       "snow        23\n",
       "Name: count, dtype: int64"
      ]
     },
     "execution_count": 132,
     "metadata": {},
     "output_type": "execute_result"
    }
   ],
   "source": [
    "#see the counts for each type\n",
    "seattle_weather.weather.value_counts()"
   ]
  },
  {
   "cell_type": "code",
   "execution_count": 133,
   "id": "398d7d70",
   "metadata": {},
   "outputs": [
    {
     "data": {
      "text/html": [
       "<div>\n",
       "<style scoped>\n",
       "    .dataframe tbody tr th:only-of-type {\n",
       "        vertical-align: middle;\n",
       "    }\n",
       "\n",
       "    .dataframe tbody tr th {\n",
       "        vertical-align: top;\n",
       "    }\n",
       "\n",
       "    .dataframe thead th {\n",
       "        text-align: right;\n",
       "    }\n",
       "</style>\n",
       "<table border=\"1\" class=\"dataframe\">\n",
       "  <thead>\n",
       "    <tr style=\"text-align: right;\">\n",
       "      <th></th>\n",
       "      <th>precipitation</th>\n",
       "      <th>temp_max</th>\n",
       "      <th>temp_min</th>\n",
       "      <th>wind</th>\n",
       "      <th>weather</th>\n",
       "      <th>sunny_day</th>\n",
       "    </tr>\n",
       "    <tr>\n",
       "      <th>date</th>\n",
       "      <th></th>\n",
       "      <th></th>\n",
       "      <th></th>\n",
       "      <th></th>\n",
       "      <th></th>\n",
       "      <th></th>\n",
       "    </tr>\n",
       "  </thead>\n",
       "  <tbody>\n",
       "    <tr>\n",
       "      <th>2012-01-01</th>\n",
       "      <td>0.00</td>\n",
       "      <td>12.80</td>\n",
       "      <td>5.00</td>\n",
       "      <td>4.70</td>\n",
       "      <td>drizzle</td>\n",
       "      <td>False</td>\n",
       "    </tr>\n",
       "    <tr>\n",
       "      <th>2012-01-02</th>\n",
       "      <td>10.90</td>\n",
       "      <td>10.60</td>\n",
       "      <td>2.80</td>\n",
       "      <td>4.50</td>\n",
       "      <td>rain</td>\n",
       "      <td>False</td>\n",
       "    </tr>\n",
       "    <tr>\n",
       "      <th>2012-01-03</th>\n",
       "      <td>0.80</td>\n",
       "      <td>11.70</td>\n",
       "      <td>7.20</td>\n",
       "      <td>2.30</td>\n",
       "      <td>rain</td>\n",
       "      <td>False</td>\n",
       "    </tr>\n",
       "    <tr>\n",
       "      <th>2012-01-04</th>\n",
       "      <td>20.30</td>\n",
       "      <td>12.20</td>\n",
       "      <td>5.60</td>\n",
       "      <td>4.70</td>\n",
       "      <td>rain</td>\n",
       "      <td>False</td>\n",
       "    </tr>\n",
       "    <tr>\n",
       "      <th>2012-01-05</th>\n",
       "      <td>1.30</td>\n",
       "      <td>8.90</td>\n",
       "      <td>2.80</td>\n",
       "      <td>6.10</td>\n",
       "      <td>rain</td>\n",
       "      <td>False</td>\n",
       "    </tr>\n",
       "  </tbody>\n",
       "</table>\n",
       "</div>"
      ],
      "text/plain": [
       "            precipitation  temp_max  temp_min  wind  weather  sunny_day\n",
       "date                                                                   \n",
       "2012-01-01           0.00     12.80      5.00  4.70  drizzle      False\n",
       "2012-01-02          10.90     10.60      2.80  4.50     rain      False\n",
       "2012-01-03           0.80     11.70      7.20  2.30     rain      False\n",
       "2012-01-04          20.30     12.20      5.60  4.70     rain      False\n",
       "2012-01-05           1.30      8.90      2.80  6.10     rain      False"
      ]
     },
     "execution_count": 133,
     "metadata": {},
     "output_type": "execute_result"
    }
   ],
   "source": [
    "#create a column for days that are sunny\n",
    "seattle_weather['sunny_day'] = seattle_weather.weather == 'sun'\n",
    "seattle_weather.head()\n"
   ]
  },
  {
   "cell_type": "code",
   "execution_count": 134,
   "id": "1a270935",
   "metadata": {},
   "outputs": [
    {
     "data": {
      "text/plain": [
       "date\n",
       "2014-12-31    211\n",
       "2013-12-31    205\n",
       "2015-12-31    180\n",
       "2012-12-31    118\n",
       "Name: sunny_day, dtype: int64"
      ]
     },
     "execution_count": 134,
     "metadata": {},
     "output_type": "execute_result"
    }
   ],
   "source": [
    "# resample by year to answer question\n",
    "seattle_weather.sunny_day.resample('Y').sum().sort_values(ascending=False)\n"
   ]
  },
  {
   "cell_type": "code",
   "execution_count": 135,
   "id": "e36a7e71",
   "metadata": {},
   "outputs": [
    {
     "data": {
      "text/plain": [
       "date\n",
       "2014-12-31   0.58\n",
       "2013-12-31   0.56\n",
       "2015-12-31   0.49\n",
       "2012-12-31   0.32\n",
       "Name: sunny_day, dtype: float64"
      ]
     },
     "execution_count": 135,
     "metadata": {},
     "output_type": "execute_result"
    }
   ],
   "source": [
    "#can also look at average\n",
    "seattle_weather.sunny_day.resample('Y').mean().sort_values(ascending=False)\n"
   ]
  },
  {
   "cell_type": "markdown",
   "id": "7eb2d188",
   "metadata": {},
   "source": [
    "## 6. In which month does it rain the most?\n"
   ]
  },
  {
   "cell_type": "code",
   "execution_count": 41,
   "id": "6b8bd5fd",
   "metadata": {},
   "outputs": [
    {
     "name": "stdout",
     "output_type": "stream",
     "text": [
      "The month with the most precipitation: 11\n"
     ]
    }
   ],
   "source": [
    "# month when it rains the most\n",
    "rainiest_month = seattle_weather[seattle_weather['precipitation'] > 0].groupby(seattle_weather['date'].dt.month)['precipitation'].sum().idxmax()\n",
    "print(f\"The month with the most precipitation: {rainiest_month}\")"
   ]
  },
  {
   "cell_type": "code",
   "execution_count": null,
   "id": "d9b04949",
   "metadata": {},
   "outputs": [],
   "source": [
    "# OR"
   ]
  },
  {
   "cell_type": "code",
   "execution_count": 136,
   "id": "c6db2a81",
   "metadata": {},
   "outputs": [
    {
     "data": {
      "text/html": [
       "<div>\n",
       "<style scoped>\n",
       "    .dataframe tbody tr th:only-of-type {\n",
       "        vertical-align: middle;\n",
       "    }\n",
       "\n",
       "    .dataframe tbody tr th {\n",
       "        vertical-align: top;\n",
       "    }\n",
       "\n",
       "    .dataframe thead th {\n",
       "        text-align: right;\n",
       "    }\n",
       "</style>\n",
       "<table border=\"1\" class=\"dataframe\">\n",
       "  <thead>\n",
       "    <tr style=\"text-align: right;\">\n",
       "      <th></th>\n",
       "      <th>precipitation</th>\n",
       "      <th>temp_max</th>\n",
       "      <th>temp_min</th>\n",
       "      <th>wind</th>\n",
       "      <th>weather</th>\n",
       "      <th>sunny_day</th>\n",
       "      <th>rainy_day</th>\n",
       "    </tr>\n",
       "    <tr>\n",
       "      <th>date</th>\n",
       "      <th></th>\n",
       "      <th></th>\n",
       "      <th></th>\n",
       "      <th></th>\n",
       "      <th></th>\n",
       "      <th></th>\n",
       "      <th></th>\n",
       "    </tr>\n",
       "  </thead>\n",
       "  <tbody>\n",
       "    <tr>\n",
       "      <th>2012-01-01</th>\n",
       "      <td>0.00</td>\n",
       "      <td>12.80</td>\n",
       "      <td>5.00</td>\n",
       "      <td>4.70</td>\n",
       "      <td>drizzle</td>\n",
       "      <td>False</td>\n",
       "      <td>False</td>\n",
       "    </tr>\n",
       "    <tr>\n",
       "      <th>2012-01-02</th>\n",
       "      <td>10.90</td>\n",
       "      <td>10.60</td>\n",
       "      <td>2.80</td>\n",
       "      <td>4.50</td>\n",
       "      <td>rain</td>\n",
       "      <td>False</td>\n",
       "      <td>True</td>\n",
       "    </tr>\n",
       "    <tr>\n",
       "      <th>2012-01-03</th>\n",
       "      <td>0.80</td>\n",
       "      <td>11.70</td>\n",
       "      <td>7.20</td>\n",
       "      <td>2.30</td>\n",
       "      <td>rain</td>\n",
       "      <td>False</td>\n",
       "      <td>True</td>\n",
       "    </tr>\n",
       "    <tr>\n",
       "      <th>2012-01-04</th>\n",
       "      <td>20.30</td>\n",
       "      <td>12.20</td>\n",
       "      <td>5.60</td>\n",
       "      <td>4.70</td>\n",
       "      <td>rain</td>\n",
       "      <td>False</td>\n",
       "      <td>True</td>\n",
       "    </tr>\n",
       "    <tr>\n",
       "      <th>2012-01-05</th>\n",
       "      <td>1.30</td>\n",
       "      <td>8.90</td>\n",
       "      <td>2.80</td>\n",
       "      <td>6.10</td>\n",
       "      <td>rain</td>\n",
       "      <td>False</td>\n",
       "      <td>True</td>\n",
       "    </tr>\n",
       "  </tbody>\n",
       "</table>\n",
       "</div>"
      ],
      "text/plain": [
       "            precipitation  temp_max  temp_min  wind  weather  sunny_day  \\\n",
       "date                                                                      \n",
       "2012-01-01           0.00     12.80      5.00  4.70  drizzle      False   \n",
       "2012-01-02          10.90     10.60      2.80  4.50     rain      False   \n",
       "2012-01-03           0.80     11.70      7.20  2.30     rain      False   \n",
       "2012-01-04          20.30     12.20      5.60  4.70     rain      False   \n",
       "2012-01-05           1.30      8.90      2.80  6.10     rain      False   \n",
       "\n",
       "            rainy_day  \n",
       "date                   \n",
       "2012-01-01      False  \n",
       "2012-01-02       True  \n",
       "2012-01-03       True  \n",
       "2012-01-04       True  \n",
       "2012-01-05       True  "
      ]
     },
     "execution_count": 136,
     "metadata": {},
     "output_type": "execute_result"
    }
   ],
   "source": [
    "#create a column for days that are sunny\n",
    "seattle_weather['rainy_day'] = seattle_weather.weather == 'rain'\n",
    "seattle_weather.head()\n"
   ]
  },
  {
   "cell_type": "code",
   "execution_count": 137,
   "id": "f867cadd",
   "metadata": {},
   "outputs": [
    {
     "data": {
      "text/html": [
       "<div>\n",
       "<style scoped>\n",
       "    .dataframe tbody tr th:only-of-type {\n",
       "        vertical-align: middle;\n",
       "    }\n",
       "\n",
       "    .dataframe tbody tr th {\n",
       "        vertical-align: top;\n",
       "    }\n",
       "\n",
       "    .dataframe thead th {\n",
       "        text-align: right;\n",
       "    }\n",
       "</style>\n",
       "<table border=\"1\" class=\"dataframe\">\n",
       "  <thead>\n",
       "    <tr style=\"text-align: right;\">\n",
       "      <th></th>\n",
       "      <th>precipitation</th>\n",
       "      <th>temp_max</th>\n",
       "      <th>temp_min</th>\n",
       "      <th>wind</th>\n",
       "      <th>weather</th>\n",
       "      <th>sunny_day</th>\n",
       "      <th>rainy_day</th>\n",
       "      <th>month</th>\n",
       "    </tr>\n",
       "    <tr>\n",
       "      <th>date</th>\n",
       "      <th></th>\n",
       "      <th></th>\n",
       "      <th></th>\n",
       "      <th></th>\n",
       "      <th></th>\n",
       "      <th></th>\n",
       "      <th></th>\n",
       "      <th></th>\n",
       "    </tr>\n",
       "  </thead>\n",
       "  <tbody>\n",
       "    <tr>\n",
       "      <th>2012-01-01</th>\n",
       "      <td>0.00</td>\n",
       "      <td>12.80</td>\n",
       "      <td>5.00</td>\n",
       "      <td>4.70</td>\n",
       "      <td>drizzle</td>\n",
       "      <td>False</td>\n",
       "      <td>False</td>\n",
       "      <td>1</td>\n",
       "    </tr>\n",
       "    <tr>\n",
       "      <th>2012-01-02</th>\n",
       "      <td>10.90</td>\n",
       "      <td>10.60</td>\n",
       "      <td>2.80</td>\n",
       "      <td>4.50</td>\n",
       "      <td>rain</td>\n",
       "      <td>False</td>\n",
       "      <td>True</td>\n",
       "      <td>1</td>\n",
       "    </tr>\n",
       "    <tr>\n",
       "      <th>2012-01-03</th>\n",
       "      <td>0.80</td>\n",
       "      <td>11.70</td>\n",
       "      <td>7.20</td>\n",
       "      <td>2.30</td>\n",
       "      <td>rain</td>\n",
       "      <td>False</td>\n",
       "      <td>True</td>\n",
       "      <td>1</td>\n",
       "    </tr>\n",
       "    <tr>\n",
       "      <th>2012-01-04</th>\n",
       "      <td>20.30</td>\n",
       "      <td>12.20</td>\n",
       "      <td>5.60</td>\n",
       "      <td>4.70</td>\n",
       "      <td>rain</td>\n",
       "      <td>False</td>\n",
       "      <td>True</td>\n",
       "      <td>1</td>\n",
       "    </tr>\n",
       "    <tr>\n",
       "      <th>2012-01-05</th>\n",
       "      <td>1.30</td>\n",
       "      <td>8.90</td>\n",
       "      <td>2.80</td>\n",
       "      <td>6.10</td>\n",
       "      <td>rain</td>\n",
       "      <td>False</td>\n",
       "      <td>True</td>\n",
       "      <td>1</td>\n",
       "    </tr>\n",
       "  </tbody>\n",
       "</table>\n",
       "</div>"
      ],
      "text/plain": [
       "            precipitation  temp_max  temp_min  wind  weather  sunny_day  \\\n",
       "date                                                                      \n",
       "2012-01-01           0.00     12.80      5.00  4.70  drizzle      False   \n",
       "2012-01-02          10.90     10.60      2.80  4.50     rain      False   \n",
       "2012-01-03           0.80     11.70      7.20  2.30     rain      False   \n",
       "2012-01-04          20.30     12.20      5.60  4.70     rain      False   \n",
       "2012-01-05           1.30      8.90      2.80  6.10     rain      False   \n",
       "\n",
       "            rainy_day  month  \n",
       "date                          \n",
       "2012-01-01      False      1  \n",
       "2012-01-02       True      1  \n",
       "2012-01-03       True      1  \n",
       "2012-01-04       True      1  \n",
       "2012-01-05       True      1  "
      ]
     },
     "execution_count": 137,
     "metadata": {},
     "output_type": "execute_result"
    }
   ],
   "source": [
    "#create column to identify month!\n",
    "seattle_weather['month'] = seattle_weather.index.month\n",
    "seattle_weather.head()\n"
   ]
  },
  {
   "cell_type": "code",
   "execution_count": 138,
   "id": "d1f84559",
   "metadata": {},
   "outputs": [
    {
     "data": {
      "text/plain": [
       "date\n",
       "2012-11-30    25\n",
       "2012-12-31    23\n",
       "2013-02-28    23\n",
       "2012-03-31    19\n",
       "2012-04-30    19\n",
       "2012-06-30    19\n",
       "2013-03-31    18\n",
       "2012-01-31    18\n",
       "2012-10-31    17\n",
       "2012-02-29    17\n",
       "2013-01-31    16\n",
       "2012-05-31    16\n",
       "2012-07-31    12\n",
       "2012-09-30     4\n",
       "2012-08-31     2\n",
       "2015-08-31     2\n",
       "2013-10-31     1\n",
       "2014-08-31     1\n",
       "2014-07-31     1\n",
       "2015-01-31     1\n",
       "2015-04-30     1\n",
       "2014-10-31     1\n",
       "2013-08-31     1\n",
       "2013-07-31     1\n",
       "2015-10-31     1\n",
       "2015-07-31     0\n",
       "2015-06-30     0\n",
       "2015-05-31     0\n",
       "2015-03-31     0\n",
       "2015-02-28     0\n",
       "2014-11-30     0\n",
       "2015-11-30     0\n",
       "2014-12-31     0\n",
       "2015-09-30     0\n",
       "2014-01-31     0\n",
       "2014-09-30     0\n",
       "2014-06-30     0\n",
       "2014-05-31     0\n",
       "2014-04-30     0\n",
       "2014-03-31     0\n",
       "2014-02-28     0\n",
       "2013-12-31     0\n",
       "2013-11-30     0\n",
       "2013-09-30     0\n",
       "2013-06-30     0\n",
       "2013-05-31     0\n",
       "2013-04-30     0\n",
       "2015-12-31     0\n",
       "Name: rainy_day, dtype: int64"
      ]
     },
     "execution_count": 138,
     "metadata": {},
     "output_type": "execute_result"
    }
   ],
   "source": [
    "#resample by month to answer question\n",
    "#this only gives me monthly totals individuals\n",
    "seattle_weather.rainy_day.resample('M').sum().sort_values(ascending=False)"
   ]
  },
  {
   "cell_type": "code",
   "execution_count": 139,
   "id": "c59cb6e0",
   "metadata": {},
   "outputs": [
    {
     "data": {
      "text/plain": [
       "month\n",
       "11   642.50\n",
       "12   622.70\n",
       "3    606.20\n",
       "10   503.40\n",
       "1    466.00\n",
       "2    422.00\n",
       "4    375.40\n",
       "9    235.50\n",
       "5    207.50\n",
       "8    163.70\n",
       "6    132.90\n",
       "7     48.20\n",
       "Name: precipitation, dtype: float64"
      ]
     },
     "execution_count": 139,
     "metadata": {},
     "output_type": "execute_result"
    }
   ],
   "source": [
    "#by month... descending precipiation amounts\n",
    "seattle_weather.groupby('month').precipitation.sum().sort_values(ascending=False)\n",
    "\n",
    "#November had 642.5 days of rain between 2012 and 2015"
   ]
  },
  {
   "cell_type": "markdown",
   "id": "8434108a",
   "metadata": {},
   "source": [
    "## 7. Which month has the most number of days with a non-zero amount of precipitation?\n"
   ]
  },
  {
   "cell_type": "code",
   "execution_count": 140,
   "id": "b3d89e13",
   "metadata": {},
   "outputs": [
    {
     "data": {
      "text/plain": [
       "month\n",
       "2    0.35\n",
       "3    0.30\n",
       "1    0.28\n",
       "11   0.21\n",
       "12   0.19\n",
       "4    0.17\n",
       "10   0.16\n",
       "6    0.16\n",
       "5    0.13\n",
       "7    0.11\n",
       "8    0.05\n",
       "9    0.03\n",
       "Name: rainy_day, dtype: float64"
      ]
     },
     "execution_count": 140,
     "metadata": {},
     "output_type": "execute_result"
    }
   ],
   "source": [
    "seattle_weather.groupby('month').rainy_day.mean().sort_values(ascending=False)\n"
   ]
  },
  {
   "cell_type": "code",
   "execution_count": 141,
   "id": "132b126f",
   "metadata": {},
   "outputs": [
    {
     "data": {
      "text/html": [
       "<div>\n",
       "<style scoped>\n",
       "    .dataframe tbody tr th:only-of-type {\n",
       "        vertical-align: middle;\n",
       "    }\n",
       "\n",
       "    .dataframe tbody tr th {\n",
       "        vertical-align: top;\n",
       "    }\n",
       "\n",
       "    .dataframe thead th {\n",
       "        text-align: right;\n",
       "    }\n",
       "</style>\n",
       "<table border=\"1\" class=\"dataframe\">\n",
       "  <thead>\n",
       "    <tr style=\"text-align: right;\">\n",
       "      <th></th>\n",
       "      <th>precipitation</th>\n",
       "      <th>temp_max</th>\n",
       "      <th>temp_min</th>\n",
       "      <th>wind</th>\n",
       "      <th>weather</th>\n",
       "      <th>sunny_day</th>\n",
       "      <th>rainy_day</th>\n",
       "      <th>month</th>\n",
       "      <th>precip_amnt</th>\n",
       "    </tr>\n",
       "    <tr>\n",
       "      <th>date</th>\n",
       "      <th></th>\n",
       "      <th></th>\n",
       "      <th></th>\n",
       "      <th></th>\n",
       "      <th></th>\n",
       "      <th></th>\n",
       "      <th></th>\n",
       "      <th></th>\n",
       "      <th></th>\n",
       "    </tr>\n",
       "  </thead>\n",
       "  <tbody>\n",
       "    <tr>\n",
       "      <th>2012-01-01</th>\n",
       "      <td>0.00</td>\n",
       "      <td>12.80</td>\n",
       "      <td>5.00</td>\n",
       "      <td>4.70</td>\n",
       "      <td>drizzle</td>\n",
       "      <td>False</td>\n",
       "      <td>False</td>\n",
       "      <td>1</td>\n",
       "      <td>False</td>\n",
       "    </tr>\n",
       "    <tr>\n",
       "      <th>2012-01-02</th>\n",
       "      <td>10.90</td>\n",
       "      <td>10.60</td>\n",
       "      <td>2.80</td>\n",
       "      <td>4.50</td>\n",
       "      <td>rain</td>\n",
       "      <td>False</td>\n",
       "      <td>True</td>\n",
       "      <td>1</td>\n",
       "      <td>True</td>\n",
       "    </tr>\n",
       "    <tr>\n",
       "      <th>2012-01-03</th>\n",
       "      <td>0.80</td>\n",
       "      <td>11.70</td>\n",
       "      <td>7.20</td>\n",
       "      <td>2.30</td>\n",
       "      <td>rain</td>\n",
       "      <td>False</td>\n",
       "      <td>True</td>\n",
       "      <td>1</td>\n",
       "      <td>True</td>\n",
       "    </tr>\n",
       "    <tr>\n",
       "      <th>2012-01-04</th>\n",
       "      <td>20.30</td>\n",
       "      <td>12.20</td>\n",
       "      <td>5.60</td>\n",
       "      <td>4.70</td>\n",
       "      <td>rain</td>\n",
       "      <td>False</td>\n",
       "      <td>True</td>\n",
       "      <td>1</td>\n",
       "      <td>True</td>\n",
       "    </tr>\n",
       "    <tr>\n",
       "      <th>2012-01-05</th>\n",
       "      <td>1.30</td>\n",
       "      <td>8.90</td>\n",
       "      <td>2.80</td>\n",
       "      <td>6.10</td>\n",
       "      <td>rain</td>\n",
       "      <td>False</td>\n",
       "      <td>True</td>\n",
       "      <td>1</td>\n",
       "      <td>True</td>\n",
       "    </tr>\n",
       "  </tbody>\n",
       "</table>\n",
       "</div>"
      ],
      "text/plain": [
       "            precipitation  temp_max  temp_min  wind  weather  sunny_day  \\\n",
       "date                                                                      \n",
       "2012-01-01           0.00     12.80      5.00  4.70  drizzle      False   \n",
       "2012-01-02          10.90     10.60      2.80  4.50     rain      False   \n",
       "2012-01-03           0.80     11.70      7.20  2.30     rain      False   \n",
       "2012-01-04          20.30     12.20      5.60  4.70     rain      False   \n",
       "2012-01-05           1.30      8.90      2.80  6.10     rain      False   \n",
       "\n",
       "            rainy_day  month  precip_amnt  \n",
       "date                                       \n",
       "2012-01-01      False      1        False  \n",
       "2012-01-02       True      1         True  \n",
       "2012-01-03       True      1         True  \n",
       "2012-01-04       True      1         True  \n",
       "2012-01-05       True      1         True  "
      ]
     },
     "execution_count": 141,
     "metadata": {},
     "output_type": "execute_result"
    }
   ],
   "source": [
    "## Can also use precipitation\n",
    "seattle_weather['precip_amnt'] = seattle_weather.precipitation > 0\n",
    "seattle_weather.head()\n"
   ]
  },
  {
   "cell_type": "code",
   "execution_count": 142,
   "id": "3c73690e",
   "metadata": {},
   "outputs": [
    {
     "data": {
      "text/plain": [
       "month\n",
       "12   0.65\n",
       "2    0.65\n",
       "11   0.59\n",
       "3    0.59\n",
       "1    0.53\n",
       "10   0.49\n",
       "4    0.49\n",
       "6    0.31\n",
       "9    0.29\n",
       "5    0.27\n",
       "8    0.18\n",
       "7    0.09\n",
       "Name: precip_amnt, dtype: float64"
      ]
     },
     "execution_count": 142,
     "metadata": {},
     "output_type": "execute_result"
    }
   ],
   "source": [
    "seattle_weather.groupby('month').precip_amnt.mean().sort_values(ascending=False)\n"
   ]
  },
  {
   "cell_type": "code",
   "execution_count": null,
   "id": "c6ca82bd",
   "metadata": {},
   "outputs": [],
   "source": [
    "# OR"
   ]
  },
  {
   "cell_type": "code",
   "execution_count": 42,
   "id": "91615125",
   "metadata": {},
   "outputs": [
    {
     "name": "stdout",
     "output_type": "stream",
     "text": [
      "The month with the most rainy days: 12\n"
     ]
    }
   ],
   "source": [
    "# Which month has the most number of days with a non-zero amount of precipitation?\n",
    "most_rainy_days_month = seattle_weather[seattle_weather['precipitation'] > 0].groupby(seattle_weather['date'].dt.month)['precipitation'].count().idxmax()\n",
    "print(f\"The month with the most rainy days: {most_rainy_days_month}\")\n"
   ]
  },
  {
   "cell_type": "markdown",
   "id": "77539eb9",
   "metadata": {},
   "source": [
    "# Third Part\n"
   ]
  },
  {
   "cell_type": "code",
   "execution_count": 143,
   "id": "6fe442cf",
   "metadata": {},
   "outputs": [
    {
     "data": {
      "text/html": [
       "<div>\n",
       "<style scoped>\n",
       "    .dataframe tbody tr th:only-of-type {\n",
       "        vertical-align: middle;\n",
       "    }\n",
       "\n",
       "    .dataframe tbody tr th {\n",
       "        vertical-align: top;\n",
       "    }\n",
       "\n",
       "    .dataframe thead th {\n",
       "        text-align: right;\n",
       "    }\n",
       "</style>\n",
       "<table border=\"1\" class=\"dataframe\">\n",
       "  <thead>\n",
       "    <tr style=\"text-align: right;\">\n",
       "      <th></th>\n",
       "      <th>date</th>\n",
       "      <th>delay</th>\n",
       "      <th>distance</th>\n",
       "      <th>origin</th>\n",
       "      <th>destination</th>\n",
       "    </tr>\n",
       "  </thead>\n",
       "  <tbody>\n",
       "    <tr>\n",
       "      <th>0</th>\n",
       "      <td>2001-01-13 14:56:00</td>\n",
       "      <td>32</td>\n",
       "      <td>417</td>\n",
       "      <td>SAN</td>\n",
       "      <td>SJC</td>\n",
       "    </tr>\n",
       "    <tr>\n",
       "      <th>1</th>\n",
       "      <td>2001-01-31 16:40:00</td>\n",
       "      <td>-5</td>\n",
       "      <td>1093</td>\n",
       "      <td>FLL</td>\n",
       "      <td>ISP</td>\n",
       "    </tr>\n",
       "    <tr>\n",
       "      <th>2</th>\n",
       "      <td>2001-02-11 18:39:00</td>\n",
       "      <td>3</td>\n",
       "      <td>293</td>\n",
       "      <td>LBB</td>\n",
       "      <td>DAL</td>\n",
       "    </tr>\n",
       "    <tr>\n",
       "      <th>3</th>\n",
       "      <td>2001-01-10 21:00:00</td>\n",
       "      <td>-15</td>\n",
       "      <td>550</td>\n",
       "      <td>MSY</td>\n",
       "      <td>MCO</td>\n",
       "    </tr>\n",
       "    <tr>\n",
       "      <th>4</th>\n",
       "      <td>2001-03-30 21:45:00</td>\n",
       "      <td>-2</td>\n",
       "      <td>229</td>\n",
       "      <td>STL</td>\n",
       "      <td>IND</td>\n",
       "    </tr>\n",
       "    <tr>\n",
       "      <th>...</th>\n",
       "      <td>...</td>\n",
       "      <td>...</td>\n",
       "      <td>...</td>\n",
       "      <td>...</td>\n",
       "      <td>...</td>\n",
       "    </tr>\n",
       "    <tr>\n",
       "      <th>19995</th>\n",
       "      <td>2001-03-22 15:10:00</td>\n",
       "      <td>4</td>\n",
       "      <td>446</td>\n",
       "      <td>SAN</td>\n",
       "      <td>OAK</td>\n",
       "    </tr>\n",
       "    <tr>\n",
       "      <th>19996</th>\n",
       "      <td>2001-01-19 13:05:00</td>\n",
       "      <td>-6</td>\n",
       "      <td>1489</td>\n",
       "      <td>SEA</td>\n",
       "      <td>MCI</td>\n",
       "    </tr>\n",
       "    <tr>\n",
       "      <th>19997</th>\n",
       "      <td>2001-02-07 11:37:00</td>\n",
       "      <td>-16</td>\n",
       "      <td>1848</td>\n",
       "      <td>MCO</td>\n",
       "      <td>PHX</td>\n",
       "    </tr>\n",
       "    <tr>\n",
       "      <th>19998</th>\n",
       "      <td>2001-02-24 16:50:00</td>\n",
       "      <td>42</td>\n",
       "      <td>443</td>\n",
       "      <td>RDU</td>\n",
       "      <td>BNA</td>\n",
       "    </tr>\n",
       "    <tr>\n",
       "      <th>19999</th>\n",
       "      <td>2001-03-14 11:33:00</td>\n",
       "      <td>0</td>\n",
       "      <td>328</td>\n",
       "      <td>ABQ</td>\n",
       "      <td>PHX</td>\n",
       "    </tr>\n",
       "  </tbody>\n",
       "</table>\n",
       "<p>20000 rows × 5 columns</p>\n",
       "</div>"
      ],
      "text/plain": [
       "                     date  delay  distance origin destination\n",
       "0     2001-01-13 14:56:00     32       417    SAN         SJC\n",
       "1     2001-01-31 16:40:00     -5      1093    FLL         ISP\n",
       "2     2001-02-11 18:39:00      3       293    LBB         DAL\n",
       "3     2001-01-10 21:00:00    -15       550    MSY         MCO\n",
       "4     2001-03-30 21:45:00     -2       229    STL         IND\n",
       "...                   ...    ...       ...    ...         ...\n",
       "19995 2001-03-22 15:10:00      4       446    SAN         OAK\n",
       "19996 2001-01-19 13:05:00     -6      1489    SEA         MCI\n",
       "19997 2001-02-07 11:37:00    -16      1848    MCO         PHX\n",
       "19998 2001-02-24 16:50:00     42       443    RDU         BNA\n",
       "19999 2001-03-14 11:33:00      0       328    ABQ         PHX\n",
       "\n",
       "[20000 rows x 5 columns]"
      ]
     },
     "execution_count": 143,
     "metadata": {},
     "output_type": "execute_result"
    }
   ],
   "source": [
    "# Load the flights_20k dataset\n",
    "flights = data.flights_20k()\n",
    "flights"
   ]
  },
  {
   "cell_type": "code",
   "execution_count": 144,
   "id": "f29955c8",
   "metadata": {},
   "outputs": [
    {
     "name": "stdout",
     "output_type": "stream",
     "text": [
      "<class 'pandas.core.frame.DataFrame'>\n",
      "RangeIndex: 20000 entries, 0 to 19999\n",
      "Data columns (total 5 columns):\n",
      " #   Column       Non-Null Count  Dtype         \n",
      "---  ------       --------------  -----         \n",
      " 0   date         20000 non-null  datetime64[ns]\n",
      " 1   delay        20000 non-null  int64         \n",
      " 2   distance     20000 non-null  int64         \n",
      " 3   origin       20000 non-null  object        \n",
      " 4   destination  20000 non-null  object        \n",
      "dtypes: datetime64[ns](1), int64(2), object(2)\n",
      "memory usage: 781.4+ KB\n"
     ]
    }
   ],
   "source": [
    "flights.info()\n"
   ]
  },
  {
   "cell_type": "code",
   "execution_count": 145,
   "id": "4beef4e7",
   "metadata": {},
   "outputs": [
    {
     "data": {
      "text/plain": [
       "pandas.core.indexes.range.RangeIndex"
      ]
     },
     "execution_count": 145,
     "metadata": {},
     "output_type": "execute_result"
    }
   ],
   "source": [
    "#check the index- should be date\n",
    "type(flights.index)"
   ]
  },
  {
   "cell_type": "code",
   "execution_count": 146,
   "id": "5cc162b8",
   "metadata": {},
   "outputs": [],
   "source": [
    "# set date as index and sort\n",
    "flights = flights.set_index('date').sort_index()"
   ]
  },
  {
   "cell_type": "code",
   "execution_count": 147,
   "id": "fee84a99",
   "metadata": {},
   "outputs": [
    {
     "data": {
      "text/plain": [
       "pandas.core.indexes.datetimes.DatetimeIndex"
      ]
     },
     "execution_count": 147,
     "metadata": {},
     "output_type": "execute_result"
    }
   ],
   "source": [
    "#confirm the change\n",
    "type(flights.index)\n"
   ]
  },
  {
   "cell_type": "markdown",
   "id": "7504b6d0",
   "metadata": {},
   "source": [
    "## Use the above dataset for the following exercises:"
   ]
  },
  {
   "cell_type": "markdown",
   "id": "a121b177",
   "metadata": {},
   "source": [
    "## 1. Convert any negative delays to 0."
   ]
  },
  {
   "cell_type": "code",
   "execution_count": 148,
   "id": "4e1287d4",
   "metadata": {},
   "outputs": [],
   "source": [
    "flights['neg_delay'] = flights.delay < 0\n"
   ]
  },
  {
   "cell_type": "code",
   "execution_count": 150,
   "id": "b0029f86",
   "metadata": {},
   "outputs": [
    {
     "data": {
      "text/html": [
       "<div>\n",
       "<style scoped>\n",
       "    .dataframe tbody tr th:only-of-type {\n",
       "        vertical-align: middle;\n",
       "    }\n",
       "\n",
       "    .dataframe tbody tr th {\n",
       "        vertical-align: top;\n",
       "    }\n",
       "\n",
       "    .dataframe thead th {\n",
       "        text-align: right;\n",
       "    }\n",
       "</style>\n",
       "<table border=\"1\" class=\"dataframe\">\n",
       "  <thead>\n",
       "    <tr style=\"text-align: right;\">\n",
       "      <th></th>\n",
       "      <th>delay</th>\n",
       "      <th>distance</th>\n",
       "      <th>origin</th>\n",
       "      <th>destination</th>\n",
       "      <th>neg_delay</th>\n",
       "    </tr>\n",
       "    <tr>\n",
       "      <th>date</th>\n",
       "      <th></th>\n",
       "      <th></th>\n",
       "      <th></th>\n",
       "      <th></th>\n",
       "      <th></th>\n",
       "    </tr>\n",
       "  </thead>\n",
       "  <tbody>\n",
       "    <tr>\n",
       "      <th>2001-01-01 00:01:00</th>\n",
       "      <td>14</td>\n",
       "      <td>405</td>\n",
       "      <td>MCI</td>\n",
       "      <td>MDW</td>\n",
       "      <td>False</td>\n",
       "    </tr>\n",
       "    <tr>\n",
       "      <th>2001-01-01 06:20:00</th>\n",
       "      <td>0</td>\n",
       "      <td>491</td>\n",
       "      <td>BNA</td>\n",
       "      <td>MCI</td>\n",
       "      <td>False</td>\n",
       "    </tr>\n",
       "    <tr>\n",
       "      <th>2001-01-01 06:30:00</th>\n",
       "      <td>0</td>\n",
       "      <td>251</td>\n",
       "      <td>MDW</td>\n",
       "      <td>STL</td>\n",
       "      <td>True</td>\n",
       "    </tr>\n",
       "    <tr>\n",
       "      <th>2001-01-01 07:00:00</th>\n",
       "      <td>0</td>\n",
       "      <td>361</td>\n",
       "      <td>OAK</td>\n",
       "      <td>ONT</td>\n",
       "      <td>True</td>\n",
       "    </tr>\n",
       "    <tr>\n",
       "      <th>2001-01-01 07:00:00</th>\n",
       "      <td>0</td>\n",
       "      <td>303</td>\n",
       "      <td>MSY</td>\n",
       "      <td>HOU</td>\n",
       "      <td>False</td>\n",
       "    </tr>\n",
       "    <tr>\n",
       "      <th>...</th>\n",
       "      <td>...</td>\n",
       "      <td>...</td>\n",
       "      <td>...</td>\n",
       "      <td>...</td>\n",
       "      <td>...</td>\n",
       "    </tr>\n",
       "    <tr>\n",
       "      <th>2001-03-31 21:02:00</th>\n",
       "      <td>26</td>\n",
       "      <td>303</td>\n",
       "      <td>MSY</td>\n",
       "      <td>HOU</td>\n",
       "      <td>False</td>\n",
       "    </tr>\n",
       "    <tr>\n",
       "      <th>2001-03-31 21:05:00</th>\n",
       "      <td>0</td>\n",
       "      <td>318</td>\n",
       "      <td>FLL</td>\n",
       "      <td>JAX</td>\n",
       "      <td>True</td>\n",
       "    </tr>\n",
       "    <tr>\n",
       "      <th>2001-03-31 21:05:00</th>\n",
       "      <td>0</td>\n",
       "      <td>451</td>\n",
       "      <td>MCI</td>\n",
       "      <td>IND</td>\n",
       "      <td>True</td>\n",
       "    </tr>\n",
       "    <tr>\n",
       "      <th>2001-03-31 21:30:00</th>\n",
       "      <td>30</td>\n",
       "      <td>174</td>\n",
       "      <td>TPA</td>\n",
       "      <td>PBI</td>\n",
       "      <td>False</td>\n",
       "    </tr>\n",
       "    <tr>\n",
       "      <th>2001-03-31 21:30:00</th>\n",
       "      <td>0</td>\n",
       "      <td>495</td>\n",
       "      <td>BWI</td>\n",
       "      <td>SDF</td>\n",
       "      <td>True</td>\n",
       "    </tr>\n",
       "  </tbody>\n",
       "</table>\n",
       "<p>20000 rows × 5 columns</p>\n",
       "</div>"
      ],
      "text/plain": [
       "                     delay  distance origin destination  neg_delay\n",
       "date                                                              \n",
       "2001-01-01 00:01:00     14       405    MCI         MDW      False\n",
       "2001-01-01 06:20:00      0       491    BNA         MCI      False\n",
       "2001-01-01 06:30:00      0       251    MDW         STL       True\n",
       "2001-01-01 07:00:00      0       361    OAK         ONT       True\n",
       "2001-01-01 07:00:00      0       303    MSY         HOU      False\n",
       "...                    ...       ...    ...         ...        ...\n",
       "2001-03-31 21:02:00     26       303    MSY         HOU      False\n",
       "2001-03-31 21:05:00      0       318    FLL         JAX       True\n",
       "2001-03-31 21:05:00      0       451    MCI         IND       True\n",
       "2001-03-31 21:30:00     30       174    TPA         PBI      False\n",
       "2001-03-31 21:30:00      0       495    BWI         SDF       True\n",
       "\n",
       "[20000 rows x 5 columns]"
      ]
     },
     "execution_count": 150,
     "metadata": {},
     "output_type": "execute_result"
    }
   ],
   "source": [
    "#turn all neg values into 0\n",
    "flights['delay'] = flights['delay'].apply(lambda x : x if x > 0 else 0)\n",
    "flights"
   ]
  },
  {
   "cell_type": "code",
   "execution_count": 151,
   "id": "63244cf0",
   "metadata": {},
   "outputs": [
    {
     "data": {
      "text/plain": [
       "0"
      ]
     },
     "execution_count": 151,
     "metadata": {},
     "output_type": "execute_result"
    }
   ],
   "source": [
    "#should not be any negative values\n",
    "flights.delay.min()\n"
   ]
  },
  {
   "cell_type": "markdown",
   "id": "64328580",
   "metadata": {},
   "source": [
    "## 2. Which hour of the day has the highest average delay?\n"
   ]
  },
  {
   "cell_type": "code",
   "execution_count": 152,
   "id": "65dc1d86",
   "metadata": {},
   "outputs": [
    {
     "data": {
      "text/plain": [
       "date\n",
       "2001-01-01 00:00:00   14.00\n",
       "2001-01-01 01:00:00     NaN\n",
       "2001-01-01 02:00:00     NaN\n",
       "2001-01-01 03:00:00     NaN\n",
       "2001-01-01 04:00:00     NaN\n",
       "                       ... \n",
       "2001-03-31 17:00:00   11.67\n",
       "2001-03-31 18:00:00   12.54\n",
       "2001-03-31 19:00:00   22.12\n",
       "2001-03-31 20:00:00   27.60\n",
       "2001-03-31 21:00:00   11.20\n",
       "Freq: H, Name: delay, Length: 2158, dtype: float64"
      ]
     },
     "execution_count": 152,
     "metadata": {},
     "output_type": "execute_result"
    }
   ],
   "source": [
    "#resample by the hour\n",
    "#get average delay time\n",
    "flights.resample('H').delay.mean()"
   ]
  },
  {
   "cell_type": "code",
   "execution_count": 154,
   "id": "33864004",
   "metadata": {},
   "outputs": [
    {
     "data": {
      "text/html": [
       "<div>\n",
       "<style scoped>\n",
       "    .dataframe tbody tr th:only-of-type {\n",
       "        vertical-align: middle;\n",
       "    }\n",
       "\n",
       "    .dataframe tbody tr th {\n",
       "        vertical-align: top;\n",
       "    }\n",
       "\n",
       "    .dataframe thead th {\n",
       "        text-align: right;\n",
       "    }\n",
       "</style>\n",
       "<table border=\"1\" class=\"dataframe\">\n",
       "  <thead>\n",
       "    <tr style=\"text-align: right;\">\n",
       "      <th></th>\n",
       "      <th>delay</th>\n",
       "      <th>distance</th>\n",
       "      <th>origin</th>\n",
       "      <th>destination</th>\n",
       "      <th>neg_delay</th>\n",
       "      <th>hour</th>\n",
       "    </tr>\n",
       "    <tr>\n",
       "      <th>date</th>\n",
       "      <th></th>\n",
       "      <th></th>\n",
       "      <th></th>\n",
       "      <th></th>\n",
       "      <th></th>\n",
       "      <th></th>\n",
       "    </tr>\n",
       "  </thead>\n",
       "  <tbody>\n",
       "    <tr>\n",
       "      <th>2001-01-01 00:01:00</th>\n",
       "      <td>14</td>\n",
       "      <td>405</td>\n",
       "      <td>MCI</td>\n",
       "      <td>MDW</td>\n",
       "      <td>False</td>\n",
       "      <td>0</td>\n",
       "    </tr>\n",
       "    <tr>\n",
       "      <th>2001-01-01 06:20:00</th>\n",
       "      <td>0</td>\n",
       "      <td>491</td>\n",
       "      <td>BNA</td>\n",
       "      <td>MCI</td>\n",
       "      <td>False</td>\n",
       "      <td>6</td>\n",
       "    </tr>\n",
       "    <tr>\n",
       "      <th>2001-01-01 06:30:00</th>\n",
       "      <td>0</td>\n",
       "      <td>251</td>\n",
       "      <td>MDW</td>\n",
       "      <td>STL</td>\n",
       "      <td>True</td>\n",
       "      <td>6</td>\n",
       "    </tr>\n",
       "    <tr>\n",
       "      <th>2001-01-01 07:00:00</th>\n",
       "      <td>0</td>\n",
       "      <td>361</td>\n",
       "      <td>OAK</td>\n",
       "      <td>ONT</td>\n",
       "      <td>True</td>\n",
       "      <td>7</td>\n",
       "    </tr>\n",
       "    <tr>\n",
       "      <th>2001-01-01 07:00:00</th>\n",
       "      <td>0</td>\n",
       "      <td>303</td>\n",
       "      <td>MSY</td>\n",
       "      <td>HOU</td>\n",
       "      <td>False</td>\n",
       "      <td>7</td>\n",
       "    </tr>\n",
       "    <tr>\n",
       "      <th>...</th>\n",
       "      <td>...</td>\n",
       "      <td>...</td>\n",
       "      <td>...</td>\n",
       "      <td>...</td>\n",
       "      <td>...</td>\n",
       "      <td>...</td>\n",
       "    </tr>\n",
       "    <tr>\n",
       "      <th>2001-03-31 21:02:00</th>\n",
       "      <td>26</td>\n",
       "      <td>303</td>\n",
       "      <td>MSY</td>\n",
       "      <td>HOU</td>\n",
       "      <td>False</td>\n",
       "      <td>21</td>\n",
       "    </tr>\n",
       "    <tr>\n",
       "      <th>2001-03-31 21:05:00</th>\n",
       "      <td>0</td>\n",
       "      <td>318</td>\n",
       "      <td>FLL</td>\n",
       "      <td>JAX</td>\n",
       "      <td>True</td>\n",
       "      <td>21</td>\n",
       "    </tr>\n",
       "    <tr>\n",
       "      <th>2001-03-31 21:05:00</th>\n",
       "      <td>0</td>\n",
       "      <td>451</td>\n",
       "      <td>MCI</td>\n",
       "      <td>IND</td>\n",
       "      <td>True</td>\n",
       "      <td>21</td>\n",
       "    </tr>\n",
       "    <tr>\n",
       "      <th>2001-03-31 21:30:00</th>\n",
       "      <td>30</td>\n",
       "      <td>174</td>\n",
       "      <td>TPA</td>\n",
       "      <td>PBI</td>\n",
       "      <td>False</td>\n",
       "      <td>21</td>\n",
       "    </tr>\n",
       "    <tr>\n",
       "      <th>2001-03-31 21:30:00</th>\n",
       "      <td>0</td>\n",
       "      <td>495</td>\n",
       "      <td>BWI</td>\n",
       "      <td>SDF</td>\n",
       "      <td>True</td>\n",
       "      <td>21</td>\n",
       "    </tr>\n",
       "  </tbody>\n",
       "</table>\n",
       "<p>20000 rows × 6 columns</p>\n",
       "</div>"
      ],
      "text/plain": [
       "                     delay  distance origin destination  neg_delay  hour\n",
       "date                                                                    \n",
       "2001-01-01 00:01:00     14       405    MCI         MDW      False     0\n",
       "2001-01-01 06:20:00      0       491    BNA         MCI      False     6\n",
       "2001-01-01 06:30:00      0       251    MDW         STL       True     6\n",
       "2001-01-01 07:00:00      0       361    OAK         ONT       True     7\n",
       "2001-01-01 07:00:00      0       303    MSY         HOU      False     7\n",
       "...                    ...       ...    ...         ...        ...   ...\n",
       "2001-03-31 21:02:00     26       303    MSY         HOU      False    21\n",
       "2001-03-31 21:05:00      0       318    FLL         JAX       True    21\n",
       "2001-03-31 21:05:00      0       451    MCI         IND       True    21\n",
       "2001-03-31 21:30:00     30       174    TPA         PBI      False    21\n",
       "2001-03-31 21:30:00      0       495    BWI         SDF       True    21\n",
       "\n",
       "[20000 rows x 6 columns]"
      ]
     },
     "execution_count": 154,
     "metadata": {},
     "output_type": "execute_result"
    }
   ],
   "source": [
    "#create column that shows what hour the time is in\n",
    "flights['hour'] = flights.index.hour\n",
    "flights\n"
   ]
  },
  {
   "cell_type": "code",
   "execution_count": 155,
   "id": "e3ad258a",
   "metadata": {},
   "outputs": [
    {
     "data": {
      "text/plain": [
       "hour\n",
       "20    20126\n",
       "21    19875\n",
       "19    19833\n",
       "17    18849\n",
       "18    18375\n",
       "16    17157\n",
       "15    16041\n",
       "14    14036\n",
       "13    13492\n",
       "22    12068\n",
       "12    11951\n",
       "11     9062\n",
       "10     6752\n",
       "9      5993\n",
       "8      5421\n",
       "7      4356\n",
       "23     4248\n",
       "6      2425\n",
       "0      1535\n",
       "3       605\n",
       "1       170\n",
       "5        19\n",
       "Name: delay, dtype: int64"
      ]
     },
     "execution_count": 155,
     "metadata": {},
     "output_type": "execute_result"
    }
   ],
   "source": [
    "#by hour- find delays descending\n",
    "flights.groupby('hour').delay.sum().sort_values(ascending=False)\n",
    "\n",
    "#hour 20 has most delays"
   ]
  },
  {
   "cell_type": "markdown",
   "id": "15cdf022",
   "metadata": {},
   "source": [
    "8pm (20) with 20126 minutes of delay"
   ]
  },
  {
   "cell_type": "markdown",
   "id": "a16ae0f7",
   "metadata": {},
   "source": [
    "## 3. Does the day of the week make a difference in the delay amount?\n"
   ]
  },
  {
   "cell_type": "code",
   "execution_count": 156,
   "id": "f627e890",
   "metadata": {},
   "outputs": [
    {
     "data": {
      "text/plain": [
       "date\n",
       "2001-01-01    8.75\n",
       "2001-01-02   21.81\n",
       "2001-01-03   17.15\n",
       "2001-01-04    7.18\n",
       "2001-01-05    9.29\n",
       "              ... \n",
       "2001-03-27    4.67\n",
       "2001-03-28    3.55\n",
       "2001-03-29   13.55\n",
       "2001-03-30    8.89\n",
       "2001-03-31    7.00\n",
       "Freq: D, Name: delay, Length: 90, dtype: float64"
      ]
     },
     "execution_count": 156,
     "metadata": {},
     "output_type": "execute_result"
    }
   ],
   "source": [
    "flights.resample('D').delay.mean()\n"
   ]
  },
  {
   "cell_type": "code",
   "execution_count": 158,
   "id": "61e6ed22",
   "metadata": {},
   "outputs": [
    {
     "data": {
      "text/html": [
       "<div>\n",
       "<style scoped>\n",
       "    .dataframe tbody tr th:only-of-type {\n",
       "        vertical-align: middle;\n",
       "    }\n",
       "\n",
       "    .dataframe tbody tr th {\n",
       "        vertical-align: top;\n",
       "    }\n",
       "\n",
       "    .dataframe thead th {\n",
       "        text-align: right;\n",
       "    }\n",
       "</style>\n",
       "<table border=\"1\" class=\"dataframe\">\n",
       "  <thead>\n",
       "    <tr style=\"text-align: right;\">\n",
       "      <th></th>\n",
       "      <th>delay</th>\n",
       "      <th>distance</th>\n",
       "      <th>origin</th>\n",
       "      <th>destination</th>\n",
       "      <th>neg_delay</th>\n",
       "      <th>hour</th>\n",
       "      <th>day</th>\n",
       "    </tr>\n",
       "    <tr>\n",
       "      <th>date</th>\n",
       "      <th></th>\n",
       "      <th></th>\n",
       "      <th></th>\n",
       "      <th></th>\n",
       "      <th></th>\n",
       "      <th></th>\n",
       "      <th></th>\n",
       "    </tr>\n",
       "  </thead>\n",
       "  <tbody>\n",
       "    <tr>\n",
       "      <th>2001-01-01 00:01:00</th>\n",
       "      <td>14</td>\n",
       "      <td>405</td>\n",
       "      <td>MCI</td>\n",
       "      <td>MDW</td>\n",
       "      <td>False</td>\n",
       "      <td>0</td>\n",
       "      <td>Monday</td>\n",
       "    </tr>\n",
       "    <tr>\n",
       "      <th>2001-01-01 06:20:00</th>\n",
       "      <td>0</td>\n",
       "      <td>491</td>\n",
       "      <td>BNA</td>\n",
       "      <td>MCI</td>\n",
       "      <td>False</td>\n",
       "      <td>6</td>\n",
       "      <td>Monday</td>\n",
       "    </tr>\n",
       "    <tr>\n",
       "      <th>2001-01-01 06:30:00</th>\n",
       "      <td>0</td>\n",
       "      <td>251</td>\n",
       "      <td>MDW</td>\n",
       "      <td>STL</td>\n",
       "      <td>True</td>\n",
       "      <td>6</td>\n",
       "      <td>Monday</td>\n",
       "    </tr>\n",
       "    <tr>\n",
       "      <th>2001-01-01 07:00:00</th>\n",
       "      <td>0</td>\n",
       "      <td>361</td>\n",
       "      <td>OAK</td>\n",
       "      <td>ONT</td>\n",
       "      <td>True</td>\n",
       "      <td>7</td>\n",
       "      <td>Monday</td>\n",
       "    </tr>\n",
       "    <tr>\n",
       "      <th>2001-01-01 07:00:00</th>\n",
       "      <td>0</td>\n",
       "      <td>303</td>\n",
       "      <td>MSY</td>\n",
       "      <td>HOU</td>\n",
       "      <td>False</td>\n",
       "      <td>7</td>\n",
       "      <td>Monday</td>\n",
       "    </tr>\n",
       "    <tr>\n",
       "      <th>...</th>\n",
       "      <td>...</td>\n",
       "      <td>...</td>\n",
       "      <td>...</td>\n",
       "      <td>...</td>\n",
       "      <td>...</td>\n",
       "      <td>...</td>\n",
       "      <td>...</td>\n",
       "    </tr>\n",
       "    <tr>\n",
       "      <th>2001-03-31 21:02:00</th>\n",
       "      <td>26</td>\n",
       "      <td>303</td>\n",
       "      <td>MSY</td>\n",
       "      <td>HOU</td>\n",
       "      <td>False</td>\n",
       "      <td>21</td>\n",
       "      <td>Saturday</td>\n",
       "    </tr>\n",
       "    <tr>\n",
       "      <th>2001-03-31 21:05:00</th>\n",
       "      <td>0</td>\n",
       "      <td>318</td>\n",
       "      <td>FLL</td>\n",
       "      <td>JAX</td>\n",
       "      <td>True</td>\n",
       "      <td>21</td>\n",
       "      <td>Saturday</td>\n",
       "    </tr>\n",
       "    <tr>\n",
       "      <th>2001-03-31 21:05:00</th>\n",
       "      <td>0</td>\n",
       "      <td>451</td>\n",
       "      <td>MCI</td>\n",
       "      <td>IND</td>\n",
       "      <td>True</td>\n",
       "      <td>21</td>\n",
       "      <td>Saturday</td>\n",
       "    </tr>\n",
       "    <tr>\n",
       "      <th>2001-03-31 21:30:00</th>\n",
       "      <td>30</td>\n",
       "      <td>174</td>\n",
       "      <td>TPA</td>\n",
       "      <td>PBI</td>\n",
       "      <td>False</td>\n",
       "      <td>21</td>\n",
       "      <td>Saturday</td>\n",
       "    </tr>\n",
       "    <tr>\n",
       "      <th>2001-03-31 21:30:00</th>\n",
       "      <td>0</td>\n",
       "      <td>495</td>\n",
       "      <td>BWI</td>\n",
       "      <td>SDF</td>\n",
       "      <td>True</td>\n",
       "      <td>21</td>\n",
       "      <td>Saturday</td>\n",
       "    </tr>\n",
       "  </tbody>\n",
       "</table>\n",
       "<p>20000 rows × 7 columns</p>\n",
       "</div>"
      ],
      "text/plain": [
       "                     delay  distance origin destination  neg_delay  hour  \\\n",
       "date                                                                       \n",
       "2001-01-01 00:01:00     14       405    MCI         MDW      False     0   \n",
       "2001-01-01 06:20:00      0       491    BNA         MCI      False     6   \n",
       "2001-01-01 06:30:00      0       251    MDW         STL       True     6   \n",
       "2001-01-01 07:00:00      0       361    OAK         ONT       True     7   \n",
       "2001-01-01 07:00:00      0       303    MSY         HOU      False     7   \n",
       "...                    ...       ...    ...         ...        ...   ...   \n",
       "2001-03-31 21:02:00     26       303    MSY         HOU      False    21   \n",
       "2001-03-31 21:05:00      0       318    FLL         JAX       True    21   \n",
       "2001-03-31 21:05:00      0       451    MCI         IND       True    21   \n",
       "2001-03-31 21:30:00     30       174    TPA         PBI      False    21   \n",
       "2001-03-31 21:30:00      0       495    BWI         SDF       True    21   \n",
       "\n",
       "                          day  \n",
       "date                           \n",
       "2001-01-01 00:01:00    Monday  \n",
       "2001-01-01 06:20:00    Monday  \n",
       "2001-01-01 06:30:00    Monday  \n",
       "2001-01-01 07:00:00    Monday  \n",
       "2001-01-01 07:00:00    Monday  \n",
       "...                       ...  \n",
       "2001-03-31 21:02:00  Saturday  \n",
       "2001-03-31 21:05:00  Saturday  \n",
       "2001-03-31 21:05:00  Saturday  \n",
       "2001-03-31 21:30:00  Saturday  \n",
       "2001-03-31 21:30:00  Saturday  \n",
       "\n",
       "[20000 rows x 7 columns]"
      ]
     },
     "execution_count": 158,
     "metadata": {},
     "output_type": "execute_result"
    }
   ],
   "source": [
    "flights['day'] = flights.index.day_name()\n",
    "flights"
   ]
  },
  {
   "cell_type": "code",
   "execution_count": 159,
   "id": "327ac5d0",
   "metadata": {},
   "outputs": [
    {
     "data": {
      "text/plain": [
       "day\n",
       "Friday      17.76\n",
       "Thursday    12.82\n",
       "Wednesday   11.03\n",
       "Sunday      10.41\n",
       "Tuesday      9.41\n",
       "Saturday     8.43\n",
       "Monday       7.17\n",
       "Name: delay, dtype: float64"
      ]
     },
     "execution_count": 159,
     "metadata": {},
     "output_type": "execute_result"
    }
   ],
   "source": [
    "weekday_delay = flights.groupby('day').delay.mean().sort_values(ascending=False)\n",
    "weekday_delay"
   ]
  },
  {
   "cell_type": "code",
   "execution_count": 160,
   "id": "a9dd8f86",
   "metadata": {},
   "outputs": [
    {
     "data": {
      "text/plain": [
       "day\n",
       "Wednesday    3079\n",
       "Friday       3028\n",
       "Thursday     3011\n",
       "Monday       2980\n",
       "Tuesday      2945\n",
       "Sunday       2614\n",
       "Saturday     2343\n",
       "Name: count, dtype: int64"
      ]
     },
     "execution_count": 160,
     "metadata": {},
     "output_type": "execute_result"
    }
   ],
   "source": [
    "#see what days have what number of delays\n",
    "flights.day.value_counts()"
   ]
  },
  {
   "cell_type": "code",
   "execution_count": 161,
   "id": "fa9e0dc9",
   "metadata": {},
   "outputs": [
    {
     "data": {
      "image/png": "[encoded data removed]",
      "text/plain": [
       "<Figure size 800x600 with 1 Axes>"
      ]
     },
     "metadata": {},
     "output_type": "display_data"
    }
   ],
   "source": [
    "weekday_delay.plot()\n",
    "plt.title('Average Delay (in minutes) by Weekday')\n",
    "plt.ylabel('Average Delay in Minutes')\n",
    "plt.show()"
   ]
  },
  {
   "cell_type": "markdown",
   "id": "b86592d1",
   "metadata": {},
   "source": [
    "## 4. Does the month make a difference in the delay amount?"
   ]
  },
  {
   "cell_type": "code",
   "execution_count": 163,
   "id": "a8b02983",
   "metadata": {},
   "outputs": [
    {
     "data": {
      "text/html": [
       "<div>\n",
       "<style scoped>\n",
       "    .dataframe tbody tr th:only-of-type {\n",
       "        vertical-align: middle;\n",
       "    }\n",
       "\n",
       "    .dataframe tbody tr th {\n",
       "        vertical-align: top;\n",
       "    }\n",
       "\n",
       "    .dataframe thead th {\n",
       "        text-align: right;\n",
       "    }\n",
       "</style>\n",
       "<table border=\"1\" class=\"dataframe\">\n",
       "  <thead>\n",
       "    <tr style=\"text-align: right;\">\n",
       "      <th></th>\n",
       "      <th>delay</th>\n",
       "      <th>distance</th>\n",
       "      <th>origin</th>\n",
       "      <th>destination</th>\n",
       "      <th>neg_delay</th>\n",
       "      <th>hour</th>\n",
       "      <th>day</th>\n",
       "      <th>month</th>\n",
       "    </tr>\n",
       "    <tr>\n",
       "      <th>date</th>\n",
       "      <th></th>\n",
       "      <th></th>\n",
       "      <th></th>\n",
       "      <th></th>\n",
       "      <th></th>\n",
       "      <th></th>\n",
       "      <th></th>\n",
       "      <th></th>\n",
       "    </tr>\n",
       "  </thead>\n",
       "  <tbody>\n",
       "    <tr>\n",
       "      <th>2001-01-01 00:01:00</th>\n",
       "      <td>14</td>\n",
       "      <td>405</td>\n",
       "      <td>MCI</td>\n",
       "      <td>MDW</td>\n",
       "      <td>False</td>\n",
       "      <td>0</td>\n",
       "      <td>Monday</td>\n",
       "      <td>January</td>\n",
       "    </tr>\n",
       "    <tr>\n",
       "      <th>2001-01-01 06:20:00</th>\n",
       "      <td>0</td>\n",
       "      <td>491</td>\n",
       "      <td>BNA</td>\n",
       "      <td>MCI</td>\n",
       "      <td>False</td>\n",
       "      <td>6</td>\n",
       "      <td>Monday</td>\n",
       "      <td>January</td>\n",
       "    </tr>\n",
       "    <tr>\n",
       "      <th>2001-01-01 06:30:00</th>\n",
       "      <td>0</td>\n",
       "      <td>251</td>\n",
       "      <td>MDW</td>\n",
       "      <td>STL</td>\n",
       "      <td>True</td>\n",
       "      <td>6</td>\n",
       "      <td>Monday</td>\n",
       "      <td>January</td>\n",
       "    </tr>\n",
       "    <tr>\n",
       "      <th>2001-01-01 07:00:00</th>\n",
       "      <td>0</td>\n",
       "      <td>361</td>\n",
       "      <td>OAK</td>\n",
       "      <td>ONT</td>\n",
       "      <td>True</td>\n",
       "      <td>7</td>\n",
       "      <td>Monday</td>\n",
       "      <td>January</td>\n",
       "    </tr>\n",
       "    <tr>\n",
       "      <th>2001-01-01 07:00:00</th>\n",
       "      <td>0</td>\n",
       "      <td>303</td>\n",
       "      <td>MSY</td>\n",
       "      <td>HOU</td>\n",
       "      <td>False</td>\n",
       "      <td>7</td>\n",
       "      <td>Monday</td>\n",
       "      <td>January</td>\n",
       "    </tr>\n",
       "    <tr>\n",
       "      <th>...</th>\n",
       "      <td>...</td>\n",
       "      <td>...</td>\n",
       "      <td>...</td>\n",
       "      <td>...</td>\n",
       "      <td>...</td>\n",
       "      <td>...</td>\n",
       "      <td>...</td>\n",
       "      <td>...</td>\n",
       "    </tr>\n",
       "    <tr>\n",
       "      <th>2001-03-31 21:02:00</th>\n",
       "      <td>26</td>\n",
       "      <td>303</td>\n",
       "      <td>MSY</td>\n",
       "      <td>HOU</td>\n",
       "      <td>False</td>\n",
       "      <td>21</td>\n",
       "      <td>Saturday</td>\n",
       "      <td>March</td>\n",
       "    </tr>\n",
       "    <tr>\n",
       "      <th>2001-03-31 21:05:00</th>\n",
       "      <td>0</td>\n",
       "      <td>318</td>\n",
       "      <td>FLL</td>\n",
       "      <td>JAX</td>\n",
       "      <td>True</td>\n",
       "      <td>21</td>\n",
       "      <td>Saturday</td>\n",
       "      <td>March</td>\n",
       "    </tr>\n",
       "    <tr>\n",
       "      <th>2001-03-31 21:05:00</th>\n",
       "      <td>0</td>\n",
       "      <td>451</td>\n",
       "      <td>MCI</td>\n",
       "      <td>IND</td>\n",
       "      <td>True</td>\n",
       "      <td>21</td>\n",
       "      <td>Saturday</td>\n",
       "      <td>March</td>\n",
       "    </tr>\n",
       "    <tr>\n",
       "      <th>2001-03-31 21:30:00</th>\n",
       "      <td>30</td>\n",
       "      <td>174</td>\n",
       "      <td>TPA</td>\n",
       "      <td>PBI</td>\n",
       "      <td>False</td>\n",
       "      <td>21</td>\n",
       "      <td>Saturday</td>\n",
       "      <td>March</td>\n",
       "    </tr>\n",
       "    <tr>\n",
       "      <th>2001-03-31 21:30:00</th>\n",
       "      <td>0</td>\n",
       "      <td>495</td>\n",
       "      <td>BWI</td>\n",
       "      <td>SDF</td>\n",
       "      <td>True</td>\n",
       "      <td>21</td>\n",
       "      <td>Saturday</td>\n",
       "      <td>March</td>\n",
       "    </tr>\n",
       "  </tbody>\n",
       "</table>\n",
       "<p>20000 rows × 8 columns</p>\n",
       "</div>"
      ],
      "text/plain": [
       "                     delay  distance origin destination  neg_delay  hour  \\\n",
       "date                                                                       \n",
       "2001-01-01 00:01:00     14       405    MCI         MDW      False     0   \n",
       "2001-01-01 06:20:00      0       491    BNA         MCI      False     6   \n",
       "2001-01-01 06:30:00      0       251    MDW         STL       True     6   \n",
       "2001-01-01 07:00:00      0       361    OAK         ONT       True     7   \n",
       "2001-01-01 07:00:00      0       303    MSY         HOU      False     7   \n",
       "...                    ...       ...    ...         ...        ...   ...   \n",
       "2001-03-31 21:02:00     26       303    MSY         HOU      False    21   \n",
       "2001-03-31 21:05:00      0       318    FLL         JAX       True    21   \n",
       "2001-03-31 21:05:00      0       451    MCI         IND       True    21   \n",
       "2001-03-31 21:30:00     30       174    TPA         PBI      False    21   \n",
       "2001-03-31 21:30:00      0       495    BWI         SDF       True    21   \n",
       "\n",
       "                          day    month  \n",
       "date                                    \n",
       "2001-01-01 00:01:00    Monday  January  \n",
       "2001-01-01 06:20:00    Monday  January  \n",
       "2001-01-01 06:30:00    Monday  January  \n",
       "2001-01-01 07:00:00    Monday  January  \n",
       "2001-01-01 07:00:00    Monday  January  \n",
       "...                       ...      ...  \n",
       "2001-03-31 21:02:00  Saturday    March  \n",
       "2001-03-31 21:05:00  Saturday    March  \n",
       "2001-03-31 21:05:00  Saturday    March  \n",
       "2001-03-31 21:30:00  Saturday    March  \n",
       "2001-03-31 21:30:00  Saturday    March  \n",
       "\n",
       "[20000 rows x 8 columns]"
      ]
     },
     "execution_count": 163,
     "metadata": {},
     "output_type": "execute_result"
    }
   ],
   "source": [
    "#create a column for month\n",
    "flights['month'] = flights.index.month_name()\n",
    "flights\n"
   ]
  },
  {
   "cell_type": "code",
   "execution_count": 164,
   "id": "5517014a",
   "metadata": {},
   "outputs": [
    {
     "data": {
      "text/plain": [
       "month\n",
       "February   12.31\n",
       "January    11.30\n",
       "March       9.88\n",
       "Name: delay, dtype: float64"
      ]
     },
     "execution_count": 164,
     "metadata": {},
     "output_type": "execute_result"
    }
   ],
   "source": [
    "#see average minutes of delay by month\n",
    "monthly_delay = flights.groupby('month').delay.mean()\n",
    "monthly_delay"
   ]
  },
  {
   "cell_type": "code",
   "execution_count": 165,
   "id": "5376dbe3",
   "metadata": {},
   "outputs": [
    {
     "data": {
      "text/plain": [
       "month\n",
       "March       6960\n",
       "January     6784\n",
       "February    6256\n",
       "Name: count, dtype: int64"
      ]
     },
     "execution_count": 165,
     "metadata": {},
     "output_type": "execute_result"
    }
   ],
   "source": [
    "#see how many delays are in each month\n",
    "flights.month.value_counts()\n"
   ]
  },
  {
   "cell_type": "code",
   "execution_count": 166,
   "id": "c14696f3",
   "metadata": {},
   "outputs": [
    {
     "data": {
      "image/png": "[encoded data removed]",
      "text/plain": [
       "<Figure size 800x600 with 1 Axes>"
      ]
     },
     "metadata": {},
     "output_type": "display_data"
    }
   ],
   "source": [
    "monthly_delay.plot()\n",
    "plt.title('Average Delay (in minutes) by Month')\n",
    "plt.ylabel('Average Delay in Minutes')\n",
    "plt.show()"
   ]
  },
  {
   "cell_type": "markdown",
   "id": "63b2401e",
   "metadata": {},
   "source": [
    "# Bonus"
   ]
  },
  {
   "cell_type": "markdown",
   "id": "dd75e544",
   "metadata": {},
   "source": [
    " - For each row, calculate the percentage of the year's total that energy source provided.\n",
    " - Lineplot of generation over time, color by source\n",
    " - Display the data as table where years are columns, and energy source is rows (Hint: df.pivot_table)\n",
    " - Make a line plot that shows the amount of energy generated over time. Each source should be a separate line?\n",
    " - Is the total generation increasing over time?\n",
    " - How would you control for increasing consumption over time when considering how much energy is coming from each source?\n",
    " - express each number as a % of the year's total"
   ]
  },
  {
   "cell_type": "code",
   "execution_count": 168,
   "id": "af4d59f8",
   "metadata": {},
   "outputs": [],
   "source": [
    "iowa = data.iowa_electricity()\n"
   ]
  },
  {
   "cell_type": "code",
   "execution_count": 169,
   "id": "a62c1995",
   "metadata": {},
   "outputs": [
    {
     "name": "stdout",
     "output_type": "stream",
     "text": [
      "<class 'pandas.core.frame.DataFrame'>\n",
      "RangeIndex: 51 entries, 0 to 50\n",
      "Data columns (total 3 columns):\n",
      " #   Column          Non-Null Count  Dtype         \n",
      "---  ------          --------------  -----         \n",
      " 0   year            51 non-null     datetime64[ns]\n",
      " 1   source          51 non-null     object        \n",
      " 2   net_generation  51 non-null     int64         \n",
      "dtypes: datetime64[ns](1), int64(1), object(1)\n",
      "memory usage: 1.3+ KB\n"
     ]
    }
   ],
   "source": [
    "iowa.info()"
   ]
  },
  {
   "cell_type": "code",
   "execution_count": 170,
   "id": "18d37b8c",
   "metadata": {},
   "outputs": [
    {
     "data": {
      "text/plain": [
       "pandas.core.indexes.range.RangeIndex"
      ]
     },
     "execution_count": 170,
     "metadata": {},
     "output_type": "execute_result"
    }
   ],
   "source": [
    "#check index, make sure its set to year\n",
    "type(iowa.index)"
   ]
  },
  {
   "cell_type": "code",
   "execution_count": 171,
   "id": "012769f1",
   "metadata": {},
   "outputs": [],
   "source": [
    "#must complete step 2&3 (set date as index and sort)\n",
    "iowa = iowa.set_index('year').sort_index()"
   ]
  },
  {
   "cell_type": "code",
   "execution_count": 172,
   "id": "eb71e606",
   "metadata": {},
   "outputs": [
    {
     "data": {
      "text/plain": [
       "pandas.core.indexes.datetimes.DatetimeIndex"
      ]
     },
     "execution_count": 172,
     "metadata": {},
     "output_type": "execute_result"
    }
   ],
   "source": [
    "#confirm index is changed\n",
    "type(iowa.index)"
   ]
  },
  {
   "cell_type": "code",
   "execution_count": 173,
   "id": "93eded5f",
   "metadata": {},
   "outputs": [
    {
     "data": {
      "text/html": [
       "<div>\n",
       "<style scoped>\n",
       "    .dataframe tbody tr th:only-of-type {\n",
       "        vertical-align: middle;\n",
       "    }\n",
       "\n",
       "    .dataframe tbody tr th {\n",
       "        vertical-align: top;\n",
       "    }\n",
       "\n",
       "    .dataframe thead th {\n",
       "        text-align: right;\n",
       "    }\n",
       "</style>\n",
       "<table border=\"1\" class=\"dataframe\">\n",
       "  <thead>\n",
       "    <tr style=\"text-align: right;\">\n",
       "      <th></th>\n",
       "      <th>source</th>\n",
       "      <th>net_generation</th>\n",
       "    </tr>\n",
       "    <tr>\n",
       "      <th>year</th>\n",
       "      <th></th>\n",
       "      <th></th>\n",
       "    </tr>\n",
       "  </thead>\n",
       "  <tbody>\n",
       "    <tr>\n",
       "      <th>2016-01-01</th>\n",
       "      <td>Fossil Fuels</td>\n",
       "      <td>28437</td>\n",
       "    </tr>\n",
       "    <tr>\n",
       "      <th>2016-01-01</th>\n",
       "      <td>Nuclear Energy</td>\n",
       "      <td>4703</td>\n",
       "    </tr>\n",
       "    <tr>\n",
       "      <th>2017-01-01</th>\n",
       "      <td>Fossil Fuels</td>\n",
       "      <td>29329</td>\n",
       "    </tr>\n",
       "    <tr>\n",
       "      <th>2017-01-01</th>\n",
       "      <td>Nuclear Energy</td>\n",
       "      <td>5214</td>\n",
       "    </tr>\n",
       "    <tr>\n",
       "      <th>2017-01-01</th>\n",
       "      <td>Renewables</td>\n",
       "      <td>21933</td>\n",
       "    </tr>\n",
       "  </tbody>\n",
       "</table>\n",
       "</div>"
      ],
      "text/plain": [
       "                    source  net_generation\n",
       "year                                      \n",
       "2016-01-01    Fossil Fuels           28437\n",
       "2016-01-01  Nuclear Energy            4703\n",
       "2017-01-01    Fossil Fuels           29329\n",
       "2017-01-01  Nuclear Energy            5214\n",
       "2017-01-01      Renewables           21933"
      ]
     },
     "execution_count": 173,
     "metadata": {},
     "output_type": "execute_result"
    }
   ],
   "source": [
    "iowa.tail()\n"
   ]
  },
  {
   "cell_type": "markdown",
   "id": "745b1367",
   "metadata": {},
   "source": [
    "## 1 For each row, calculate the percentage of the year's total that energy source provided."
   ]
  },
  {
   "cell_type": "code",
   "execution_count": 175,
   "id": "0fffd36e",
   "metadata": {},
   "outputs": [
    {
     "data": {
      "text/html": [
       "<div>\n",
       "<style scoped>\n",
       "    .dataframe tbody tr th:only-of-type {\n",
       "        vertical-align: middle;\n",
       "    }\n",
       "\n",
       "    .dataframe tbody tr th {\n",
       "        vertical-align: top;\n",
       "    }\n",
       "\n",
       "    .dataframe thead th {\n",
       "        text-align: right;\n",
       "    }\n",
       "</style>\n",
       "<table border=\"1\" class=\"dataframe\">\n",
       "  <thead>\n",
       "    <tr style=\"text-align: right;\">\n",
       "      <th></th>\n",
       "      <th>source</th>\n",
       "      <th>net_generation</th>\n",
       "      <th>number_year</th>\n",
       "    </tr>\n",
       "    <tr>\n",
       "      <th>year</th>\n",
       "      <th></th>\n",
       "      <th></th>\n",
       "      <th></th>\n",
       "    </tr>\n",
       "  </thead>\n",
       "  <tbody>\n",
       "    <tr>\n",
       "      <th>2001-01-01</th>\n",
       "      <td>Fossil Fuels</td>\n",
       "      <td>35361</td>\n",
       "      <td>2001</td>\n",
       "    </tr>\n",
       "    <tr>\n",
       "      <th>2001-01-01</th>\n",
       "      <td>Nuclear Energy</td>\n",
       "      <td>3853</td>\n",
       "      <td>2001</td>\n",
       "    </tr>\n",
       "    <tr>\n",
       "      <th>2001-01-01</th>\n",
       "      <td>Renewables</td>\n",
       "      <td>1437</td>\n",
       "      <td>2001</td>\n",
       "    </tr>\n",
       "    <tr>\n",
       "      <th>2002-01-01</th>\n",
       "      <td>Fossil Fuels</td>\n",
       "      <td>35991</td>\n",
       "      <td>2002</td>\n",
       "    </tr>\n",
       "    <tr>\n",
       "      <th>2002-01-01</th>\n",
       "      <td>Nuclear Energy</td>\n",
       "      <td>4574</td>\n",
       "      <td>2002</td>\n",
       "    </tr>\n",
       "  </tbody>\n",
       "</table>\n",
       "</div>"
      ],
      "text/plain": [
       "                    source  net_generation  number_year\n",
       "year                                                   \n",
       "2001-01-01    Fossil Fuels           35361         2001\n",
       "2001-01-01  Nuclear Energy            3853         2001\n",
       "2001-01-01      Renewables            1437         2001\n",
       "2002-01-01    Fossil Fuels           35991         2002\n",
       "2002-01-01  Nuclear Energy            4574         2002"
      ]
     },
     "execution_count": 175,
     "metadata": {},
     "output_type": "execute_result"
    }
   ],
   "source": [
    "# create column for year only\n",
    "iowa['number_year'] = iowa.index.year\n",
    "iowa.head()\n"
   ]
  },
  {
   "cell_type": "code",
   "execution_count": 176,
   "id": "bf505e05",
   "metadata": {},
   "outputs": [
    {
     "data": {
      "text/plain": [
       "number_year\n",
       "2001   13550.33\n",
       "2002   14176.00\n",
       "2003   14035.67\n",
       "2004   14412.00\n",
       "2005   14715.00\n",
       "2006   15157.67\n",
       "2007   16592.67\n",
       "2008   17695.33\n",
       "2009   17286.33\n",
       "2010   19169.67\n",
       "2011   18790.33\n",
       "2012   18891.67\n",
       "2013   18890.00\n",
       "2014   18951.33\n",
       "2015   18884.33\n",
       "2016   18127.00\n",
       "2017   18825.33\n",
       "Name: net_generation, dtype: float64"
      ]
     },
     "execution_count": 176,
     "metadata": {},
     "output_type": "execute_result"
    }
   ],
   "source": [
    "# This gives average by year for all source types\n",
    "iowa.groupby('number_year').net_generation.mean()\n"
   ]
  },
  {
   "cell_type": "code",
   "execution_count": 177,
   "id": "4b77a696",
   "metadata": {},
   "outputs": [
    {
     "data": {
      "text/plain": [
       "source\n",
       "Fossil Fuels     36478.18\n",
       "Nuclear Energy    4711.94\n",
       "Renewables        9660.00\n",
       "Name: net_generation, dtype: float64"
      ]
     },
     "execution_count": 177,
     "metadata": {},
     "output_type": "execute_result"
    }
   ],
   "source": [
    "# This gives average generation by source type\n",
    "iowa.groupby('source').net_generation.mean()"
   ]
  },
  {
   "cell_type": "code",
   "execution_count": null,
   "id": "c3ca0730",
   "metadata": {},
   "outputs": [],
   "source": []
  }
 ],
 "metadata": {
  "kernelspec": {
   "display_name": "Python 3 (ipykernel)",
   "language": "python",
   "name": "python3"
  },
  "language_info": {
   "codemirror_mode": {
    "name": "ipython",
    "version": 3
   },
   "file_extension": ".py",
   "mimetype": "text/x-python",
   "name": "python",
   "nbconvert_exporter": "python",
   "pygments_lexer": "ipython3",
   "version": "3.11.3"
  }
 },
 "nbformat": 4,
 "nbformat_minor": 5
}
